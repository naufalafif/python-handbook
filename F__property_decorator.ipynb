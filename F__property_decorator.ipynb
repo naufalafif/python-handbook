{
 "cells": [
  {
   "cell_type": "code",
   "execution_count": 8,
   "metadata": {},
   "outputs": [
    {
     "name": "stdout",
     "output_type": "stream",
     "text": [
      "Employee First Name : budi\n",
      "Employee Last Name : agung\n",
      "Employee Full Name : budi agung\n"
     ]
    }
   ],
   "source": [
    "class Employee:\n",
    "    def __init__(self, first_name, last_name):\n",
    "        self.first_name = first_name\n",
    "        self.last_name = last_name\n",
    "        \n",
    "    def full_name(self):\n",
    "        return \"{} {}\".format(self.first_name, self.last_name)\n",
    "    \n",
    "employee_budi = Employee(\"budi\", \"agung\")\n",
    "print(\"Employee First Name : \" + employee_budi.first_name)\n",
    "print(\"Employee Last Name : \" + employee_budi.last_name)\n",
    "print(\"Employee Full Name : \" + employee_budi.full_name())"
   ]
  },
  {
   "cell_type": "code",
   "execution_count": 22,
   "metadata": {},
   "outputs": [
    {
     "name": "stdout",
     "output_type": "stream",
     "text": [
      "Employee First Name : agus\n",
      "Employee Last Name : setiawan\n",
      "Employee Full Name : agus setiawan\n",
      "\n",
      "Employee First Name : bambang\n",
      "Employee Last Name : setiawan\n",
      "Employee Full Name : bambang setiawan\n",
      "\n",
      "Employee First Name : \n",
      "Employee Last Name : \n",
      "Employee Full Name :  \n"
     ]
    }
   ],
   "source": [
    "# With Property Decorator\n",
    "\n",
    "class EmployeeWithProperty:\n",
    "    def __init__(self, first_name, last_name):\n",
    "        self.first_name = first_name\n",
    "        self.last_name = last_name\n",
    "    \n",
    "    @property\n",
    "    def full_name(self):\n",
    "        return \"{} {}\".format(self.first_name, self.last_name)\n",
    "    \n",
    "    @full_name.setter\n",
    "    def full_name(self, name):\n",
    "        first_name, last_name = name.split(' ')\n",
    "        self.first_name = first_name\n",
    "        self.last_name = last_name\n",
    "        \n",
    "    @full_name.deleter\n",
    "    def full_name(self):\n",
    "        self.first_name = \"\"\n",
    "        self.last_name = \"\"\n",
    "    \n",
    "employee_agus = EmployeeWithProperty(\"agus\", \"setiawan\")\n",
    "\n",
    "print(\"Employee First Name : \" + employee_agus.first_name)\n",
    "print(\"Employee Last Name : \" + employee_agus.last_name)\n",
    "print(\"Employee Full Name : \" + employee_agus.full_name) # Notice this using attribute getter,not method. property change the way we access method as property\n",
    "\n",
    "print()\n",
    "\n",
    "employee_agus.full_name = \"bambang setiawan\"\n",
    "print(\"Employee First Name : \" + employee_agus.first_name)\n",
    "print(\"Employee Last Name : \" + employee_agus.last_name)\n",
    "print(\"Employee Full Name : \" + employee_agus.full_name) # Notice this using attribute getter,not method. property change the way we access method as property\n",
    "\n",
    "print()\n",
    "\n",
    "del employee_agus.full_name\n",
    "\n",
    "print(\"Employee First Name : \" + employee_agus.first_name)\n",
    "print(\"Employee Last Name : \" + employee_agus.last_name)\n",
    "print(\"Employee Full Name : \" + employee_agus.full_name) # Notice this using attribute getter,not method. property change the way we access method as property"
   ]
  }
 ],
 "metadata": {
  "kernelspec": {
   "display_name": "Python 3",
   "language": "python",
   "name": "python3"
  },
  "language_info": {
   "codemirror_mode": {
    "name": "ipython",
    "version": 3
   },
   "file_extension": ".py",
   "mimetype": "text/x-python",
   "name": "python",
   "nbconvert_exporter": "python",
   "pygments_lexer": "ipython3",
   "version": "3.6.9"
  }
 },
 "nbformat": 4,
 "nbformat_minor": 4
}
