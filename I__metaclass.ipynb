{
 "cells": [
  {
   "cell_type": "code",
   "execution_count": 24,
   "metadata": {},
   "outputs": [
    {
     "name": "stdout",
     "output_type": "stream",
     "text": [
      "meta called\n",
      "None\n"
     ]
    }
   ],
   "source": [
    "class EmployeeMeta(type):\n",
    "    def __call__(self, *args, **kwargs):\n",
    "        print(\"meta called\")\n",
    "\n",
    "class Employee(metaclass=EmployeeMeta):\n",
    "    def __init__(self):\n",
    "        print(\"__init__ called\")\n",
    "        \n",
    "employee_1 = Employee()\n",
    "print(employee_1)"
   ]
  },
  {
   "cell_type": "code",
   "execution_count": 39,
   "metadata": {},
   "outputs": [
    {
     "name": "stdout",
     "output_type": "stream",
     "text": [
      "animal created\n",
      "None\n",
      "['__annotations__', '__call__', '__class__', '__closure__', '__code__', '__defaults__', '__delattr__', '__dict__', '__dir__', '__doc__', '__eq__', '__format__', '__ge__', '__get__', '__getattribute__', '__globals__', '__gt__', '__hash__', '__init__', '__init_subclass__', '__kwdefaults__', '__le__', '__lt__', '__module__', '__name__', '__ne__', '__new__', '__qualname__', '__reduce__', '__reduce_ex__', '__repr__', '__setattr__', '__sizeof__', '__str__', '__subclasshook__']\n"
     ]
    },
    {
     "data": {
      "text/plain": [
       "'(<cell at 0x7f4e3c62d738: str object at 0x7f4e3c61e4c8>,)'"
      ]
     },
     "execution_count": 39,
     "metadata": {},
     "output_type": "execute_result"
    }
   ],
   "source": [
    "class Student:\n",
    "    def __init__(self):\n",
    "        print(\"Student init called\")\n",
    "    class Meta:\n",
    "        def __init__(self):\n",
    "            print(\"Meta init called\")\n",
    "            \n",
    "            \n",
    "def function_with_class():\n",
    "    class Animal:\n",
    "        def __init__(self):\n",
    "            print(\"animal created\")\n",
    "    return Animal()\n",
    "\n",
    "function_with_class().__dict__\n",
    "\n",
    "def function_one():\n",
    "    print(\"a\")\n",
    "\n",
    "print(function_one.__closure__)\n",
    "print(dir(function_one))\n",
    "\n",
    "def closure_function(msg):\n",
    "    def inside_function():\n",
    "        return msg\n",
    "    return inside_function\n",
    "    \n",
    "repr(closure_function(\"agus\").__closure__)\n"
   ]
  }
 ],
 "metadata": {
  "kernelspec": {
   "display_name": "Python 3",
   "language": "python",
   "name": "python3"
  },
  "language_info": {
   "codemirror_mode": {
    "name": "ipython",
    "version": 3
   },
   "file_extension": ".py",
   "mimetype": "text/x-python",
   "name": "python",
   "nbconvert_exporter": "python",
   "pygments_lexer": "ipython3",
   "version": "3.6.9"
  }
 },
 "nbformat": 4,
 "nbformat_minor": 4
}
