{
 "cells": [
  {
   "cell_type": "code",
   "execution_count": 1,
   "metadata": {
    "execution": {
     "iopub.execute_input": "2020-09-03T13:34:59.191267Z",
     "iopub.status.busy": "2020-09-03T13:34:59.190987Z",
     "iopub.status.idle": "2020-09-03T13:35:01.753460Z",
     "shell.execute_reply": "2020-09-03T13:35:01.752795Z",
     "shell.execute_reply.started": "2020-09-03T13:34:59.191241Z"
    }
   },
   "outputs": [
    {
     "name": "stdin",
     "output_type": "stream",
     "text": [
      "Number :  10\n"
     ]
    },
    {
     "name": "stdout",
     "output_type": "stream",
     "text": [
      "Nice, ur guess is right\n"
     ]
    }
   ],
   "source": [
    "%load_ext lab_black\n",
    "# Guessing Game\n",
    "\n",
    "numbers = [num for num in range(15)]\n",
    "target = 10\n",
    "\n",
    "\n",
    "def guest(number):\n",
    "    if number == target:\n",
    "        raise StopIteration\n",
    "    elif number > target:\n",
    "        print(\"Too High\")\n",
    "    else:\n",
    "        print(\"Too Low\")\n",
    "\n",
    "\n",
    "def main():\n",
    "    while True:\n",
    "        try:\n",
    "            guest(int(input(\"Number : \")))\n",
    "        except StopIteration:\n",
    "            print(\"Nice, ur guess is right\")\n",
    "            break\n",
    "\n",
    "\n",
    "main()"
   ]
  },
  {
   "cell_type": "code",
   "execution_count": 2,
   "metadata": {
    "execution": {
     "iopub.execute_input": "2020-09-03T13:35:01.754584Z",
     "iopub.status.busy": "2020-09-03T13:35:01.754386Z",
     "iopub.status.idle": "2020-09-03T13:35:01.810088Z",
     "shell.execute_reply": "2020-09-03T13:35:01.806397Z",
     "shell.execute_reply.started": "2020-09-03T13:35:01.754565Z"
    }
   },
   "outputs": [
    {
     "name": "stdout",
     "output_type": "stream",
     "text": [
      "Mark Node D as 0\n",
      "Mark Node C as 1\n",
      "Mark Node H as 2\n",
      "Mark Node B as 2\n",
      "Mark Node J as 3\n",
      "Mark Node A as 3\n",
      "Mark Node I as 4\n",
      "Mark Node E as 4\n",
      "Mark Node F as 5\n",
      "Mark Node G as 6\n",
      "--\n"
     ]
    }
   ],
   "source": [
    "from time import sleep\n",
    "\n",
    "# Route Finding - Cost Making Algorithm\n",
    "\"\"\"\n",
    "A - B - C - D\n",
    "E - - - H - -\n",
    "F - I - J \n",
    "G\n",
    "\"\"\"\n",
    "\n",
    "\n",
    "class Node:\n",
    "    start = None\n",
    "    goal = None\n",
    "    total_node = 0\n",
    "    marked = []\n",
    "\n",
    "    def __str__(self):\n",
    "        return f\"Node {self.name}\"\n",
    "\n",
    "    def __repr__(self):\n",
    "        return f\"Node {self.name}\"\n",
    "\n",
    "    def __init__(self, name):\n",
    "        self.name = name\n",
    "        self.top = None\n",
    "        self.bottom = None\n",
    "        self.left = None\n",
    "        self.right = None\n",
    "        self.start_point = False\n",
    "        self.number_mark = None\n",
    "        Node.total_node += 1\n",
    "\n",
    "    def set_connection(self, top=None, bottom=None, left=None, right=None):\n",
    "        self.top = top\n",
    "        self.bottom = bottom\n",
    "        self.left = left\n",
    "        self.right = right\n",
    "        return self\n",
    "\n",
    "    def get_connection(self):\n",
    "        all_connection = [self.top, self.bottom, self.right, self.left]\n",
    "        return [con for con in all_connection if con is not None]\n",
    "\n",
    "    def mark(self, number):\n",
    "        if self.number_mark is not None:\n",
    "            raise ValueError(\"Marked Already\")\n",
    "        else:\n",
    "            self.number_mark = number\n",
    "            Node.marked.append(self)\n",
    "            print(\"Mark {} as {}\".format(self, number))\n",
    "\n",
    "    @classmethod\n",
    "    def set_start(cls, node):\n",
    "        cls.start = node\n",
    "        node.mark(0)\n",
    "\n",
    "    @classmethod\n",
    "    def set_goal(cls, node):\n",
    "        cls.goal = node\n",
    "\n",
    "    @property\n",
    "    def is_start(self):\n",
    "        return self.start == self\n",
    "\n",
    "    @classmethod\n",
    "    def set_cost(cls, delay=0):\n",
    "        cls.marked = []\n",
    "        start_node = cls.start\n",
    "        end_node = cls.goal\n",
    "        current_node = [start_node]\n",
    "\n",
    "        current_mark = 1\n",
    "        for step in range(cls.total_node):\n",
    "            connection = []\n",
    "            for node in current_node:\n",
    "                current_connection = node.get_connection()\n",
    "                current_connection = [\n",
    "                    con for con in current_connection if con not in cls.marked\n",
    "                ]\n",
    "\n",
    "                for con in current_connection:\n",
    "                    try:\n",
    "                        con.mark(current_mark)\n",
    "                        connection.append(con)\n",
    "                    except ValueError as e:\n",
    "                        pass\n",
    "\n",
    "                    sleep(delay)\n",
    "\n",
    "            if len(connection) > 0:\n",
    "                current_mark += 1\n",
    "                current_node = connection\n",
    "            else:\n",
    "                break\n",
    "\n",
    "\n",
    "A, B, C, D, E, F, G, H, I, J = [\n",
    "    Node(char) for char in [\"A\", \"B\", \"C\", \"D\", \"E\", \"F\", \"G\", \"H\", \"I\", \"J\"]\n",
    "]\n",
    "A.set_connection(right=B, bottom=E)\n",
    "B.set_connection(left=A, right=C)\n",
    "C.set_connection(left=B, right=D, bottom=H)\n",
    "D.set_connection(left=C)\n",
    "E.set_connection(top=A, bottom=F)\n",
    "F.set_connection(bottom=G, right=I, top=E)\n",
    "G.set_connection(top=F)\n",
    "H.set_connection(top=C, bottom=J)\n",
    "I.set_connection(left=F, right=J)\n",
    "J.set_connection(left=I, top=H)\n",
    "\n",
    "Node.set_start(D)\n",
    "Node.set_cost(delay=0)\n",
    "Node.set_goal(I)\n",
    "\n",
    "\"\"\"\n",
    "A - B - C - D\n",
    "E - - - H - -\n",
    "F - I - J \n",
    "G\n",
    "\"\"\"\n",
    "print(\"--\")"
   ]
  },
  {
   "cell_type": "code",
   "execution_count": 3,
   "metadata": {
    "execution": {
     "iopub.execute_input": "2020-09-03T13:35:01.811319Z",
     "iopub.status.busy": "2020-09-03T13:35:01.811107Z",
     "iopub.status.idle": "2020-09-03T13:35:01.826969Z",
     "shell.execute_reply": "2020-09-03T13:35:01.826276Z",
     "shell.execute_reply.started": "2020-09-03T13:35:01.811299Z"
    }
   },
   "outputs": [
    {
     "data": {
      "text/plain": [
       "[Node C, Node H, Node B, Node J, Node A, Node I, Node E, Node F, Node G]"
      ]
     },
     "execution_count": 3,
     "metadata": {},
     "output_type": "execute_result"
    }
   ],
   "source": [
    "Node.marked\n",
    "\n",
    "# dir(Node)"
   ]
  }
 ],
 "metadata": {
  "kernelspec": {
   "display_name": "Python 3",
   "language": "python",
   "name": "python3"
  },
  "language_info": {
   "codemirror_mode": {
    "name": "ipython",
    "version": 3
   },
   "file_extension": ".py",
   "mimetype": "text/x-python",
   "name": "python",
   "nbconvert_exporter": "python",
   "pygments_lexer": "ipython3",
   "version": "3.8.2"
  }
 },
 "nbformat": 4,
 "nbformat_minor": 4
}
