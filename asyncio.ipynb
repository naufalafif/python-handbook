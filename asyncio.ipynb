{
 "cells": [
  {
   "cell_type": "code",
   "execution_count": 31,
   "metadata": {},
   "outputs": [
    {
     "name": "stdout",
     "output_type": "stream",
     "text": [
      "Running like thread with more readable code\n",
      "0 secods elapsed\n",
      "1 secods elapsed\n",
      "2 secods elapsed\n",
      "3 secods elapsed\n",
      "4 secods elapsed\n",
      "5 secods elapsed\n",
      "6 secods elapsed\n",
      "7 secods elapsed\n",
      "8 secods elapsed\n",
      "9 secods elapsed\n",
      "9.002303838729858\n"
     ]
    }
   ],
   "source": [
    "import asyncio\n",
    "import time\n",
    "\n",
    "async def wait(duration):\n",
    "    await asyncio.sleep(duration)\n",
    "    print(\"{} secods elapsed\".format(duration))\n",
    "    return 1\n",
    "\n",
    "async def main():\n",
    "## This will run normally/ syncronously\n",
    "#     await wait(1)\n",
    "#     await wait(2)\n",
    "#     await wait(3)\n",
    "    \n",
    "## This will run concurrently/asyncronous         \n",
    "    coroutines = (wait(sec) for sec in range(10))\n",
    "    results = await asyncio.gather(*coroutines)\n",
    "        \n",
    "        \n",
    "## This will run concurrently/asyncronous         \n",
    "##      in Python 3.7, u dont have to assign get_event_loop, just call asyncio.create_task\n",
    "#         loop = asyncio.get_event_loop()\n",
    "#         task = loop.create_task(wait(1))\n",
    "#         task2 = loop.create_task(wait(2))\n",
    "#         task3 = loop.create_task(wait(3))\n",
    "        \n",
    "#         await task\n",
    "#         await task2\n",
    "#         await task3\n",
    "\n",
    "print(\"Running like thread with more readable code\")\n",
    "start = time.time()        \n",
    "await main()\n",
    "print(time.time() - start)"
   ]
  },
  {
   "cell_type": "code",
   "execution_count": 29,
   "metadata": {},
   "outputs": [
    {
     "name": "stderr",
     "output_type": "stream",
     "text": [
      "Task exception was never retrieved\n",
      "future: <Task finished coro=<async-def-wrapper.<locals>.async_request() done, defined at <ipython-input-29-e38bbdb8c413>:6> exception=RuntimeError('Task got bad yield: b\\'<!doctype html><html itemscope=\"\" itemtype=\"http://schema.org/WebPage\" lang=\"id\"><head><meta content=\"text/html; charset=UTF-8\" \\'',)>\n",
      "Traceback (most recent call last):\n",
      "  File \"<ipython-input-29-e38bbdb8c413>\", line 8, in async_request\n",
      "    async def main():\n",
      "  File \"/usr/lib/python3/dist-packages/requests/utils.py\", line 455, in iter_slices\n",
      "    yield string[pos:pos + slice_length]\n",
      "RuntimeError: Task got bad yield: b'<!doctype html><html itemscope=\"\" itemtype=\"http://schema.org/WebPage\" lang=\"id\"><head><meta content=\"text/html; charset=UTF-8\" '\n",
      "Task exception was never retrieved\n",
      "future: <Task finished coro=<async-def-wrapper.<locals>.async_request() done, defined at <ipython-input-29-e38bbdb8c413>:6> exception=RuntimeError('Task got bad yield: b\\'<!DOCTYPE html>\\\\n<html lang=\"id\" id=\"facebook\" class=\"no_js\">\\\\n<head><meta charset=\"utf-8\" /><meta name=\"referrer\" content=\"defaul\\'',)>\n",
      "Traceback (most recent call last):\n",
      "  File \"<ipython-input-29-e38bbdb8c413>\", line 8, in async_request\n",
      "    async def main():\n",
      "  File \"/usr/lib/python3/dist-packages/requests/utils.py\", line 455, in iter_slices\n",
      "    yield string[pos:pos + slice_length]\n",
      "RuntimeError: Task got bad yield: b'<!DOCTYPE html>\\n<html lang=\"id\" id=\"facebook\" class=\"no_js\">\\n<head><meta charset=\"utf-8\" /><meta name=\"referrer\" content=\"defaul'\n",
      "Task exception was never retrieved\n",
      "future: <Task finished coro=<async-def-wrapper.<locals>.async_request() done, defined at <ipython-input-29-e38bbdb8c413>:6> exception=RuntimeError('Task got bad yield: b\\'<!doctype html><html itemscope=\"\" itemtype=\"http://schema.org/WebPage\" lang=\"id\"><head><meta content=\"text/html; charset=UTF-8\" \\'',)>\n",
      "Traceback (most recent call last):\n",
      "  File \"<ipython-input-29-e38bbdb8c413>\", line 8, in async_request\n",
      "    async def main():\n",
      "  File \"/usr/lib/python3/dist-packages/requests/utils.py\", line 455, in iter_slices\n",
      "    yield string[pos:pos + slice_length]\n",
      "RuntimeError: Task got bad yield: b'<!doctype html><html itemscope=\"\" itemtype=\"http://schema.org/WebPage\" lang=\"id\"><head><meta content=\"text/html; charset=UTF-8\" '\n",
      "Task exception was never retrieved\n",
      "future: <Task finished coro=<async-def-wrapper.<locals>.async_request() done, defined at <ipython-input-29-e38bbdb8c413>:6> exception=RuntimeError('Task got bad yield: b\\'<!DOCTYPE html>\\\\n<html lang=\"id\" id=\"facebook\" class=\"no_js\">\\\\n<head><meta charset=\"utf-8\" /><meta name=\"referrer\" content=\"defaul\\'',)>\n",
      "Traceback (most recent call last):\n",
      "  File \"<ipython-input-29-e38bbdb8c413>\", line 8, in async_request\n",
      "    async def main():\n",
      "  File \"/usr/lib/python3/dist-packages/requests/utils.py\", line 455, in iter_slices\n",
      "    yield string[pos:pos + slice_length]\n",
      "RuntimeError: Task got bad yield: b'<!DOCTYPE html>\\n<html lang=\"id\" id=\"facebook\" class=\"no_js\">\\n<head><meta charset=\"utf-8\" /><meta name=\"referrer\" content=\"defaul'\n"
     ]
    }
   ],
   "source": [
    "import requests\n",
    "\n",
    "def async_request(url):\n",
    "    request_result = requests.get(url)\n",
    "    yield from request_result\n",
    "    \n",
    "    \n",
    "async def main():\n",
    "    urls = [\"https://google.com\", \"https://web.facebook.com\"] * 2\n",
    "    coroutines = [asyncio.Task(async_request(url)) for url in urls]\n",
    "    \n",
    "await main()"
   ]
  }
 ],
 "metadata": {
  "kernelspec": {
   "display_name": "Python 3",
   "language": "python",
   "name": "python3"
  },
  "language_info": {
   "codemirror_mode": {
    "name": "ipython",
    "version": 3
   },
   "file_extension": ".py",
   "mimetype": "text/x-python",
   "name": "python",
   "nbconvert_exporter": "python",
   "pygments_lexer": "ipython3",
   "version": "3.6.9"
  }
 },
 "nbformat": 4,
 "nbformat_minor": 4
}
