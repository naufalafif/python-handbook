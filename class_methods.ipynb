{
 "cells": [
  {
   "cell_type": "code",
   "execution_count": 31,
   "metadata": {},
   "outputs": [
    {
     "name": "stdout",
     "output_type": "stream",
     "text": [
      "Budi salary : 10000 \n",
      "Agus salary : 10000 \n",
      "Budi salary (raise class method) : 40000 \n",
      "Agus salary (raise class method) : 40000 \n",
      "Budi salary : 40000 \n",
      "Agus salary (raise instance method) : 80000 \n"
     ]
    }
   ],
   "source": [
    "# Methodclass\n",
    "\n",
    "class Employee:\n",
    "    salary = 10000\n",
    "    \n",
    "    def __init__(self, name):\n",
    "        self.name = name\n",
    "    \n",
    "    # default method accept intance as parameter    \n",
    "    def multiply_current_emplyee_salary(self, multiplier):\n",
    "        self.salary = self.salary *  multiplier\n",
    "    \n",
    "    # classmethod accept class as parameter    \n",
    "    @classmethod\n",
    "    def multiply_all_employee_salary(cls, multiplier):\n",
    "        cls.salary = cls.salary * multiplier\n",
    "        \n",
    "employee_1 = Employee(\"Budi\")\n",
    "employee_2 = Employee(\"Agus\")\n",
    "\n",
    "print(f\"{employee_1.name} salary : {employee_1.salary} \")\n",
    "print(f\"{employee_2.name} salary : {employee_2.salary} \")\n",
    "\n",
    "Employee.multiply_all_employee_salary(4)\n",
    "print(f\"{employee_1.name} salary (raise class method) : {employee_1.salary} \")\n",
    "print(f\"{employee_2.name} salary (raise class method) : {employee_2.salary} \")\n",
    "\n",
    "employee_2.multiply_current_emplyee_salary(2)\n",
    "print(f\"{employee_1.name} salary : {employee_1.salary} \")\n",
    "print(f\"{employee_2.name} salary (raise instance method) : {employee_2.salary} \")"
   ]
  },
  {
   "cell_type": "code",
   "execution_count": 41,
   "metadata": {},
   "outputs": [
    {
     "name": "stdout",
     "output_type": "stream",
     "text": [
      "Student 1 : {'name': 'Budi', 'address': 'Ngaglik', 'semester': 1}\n",
      "Student 2 : {'name': 'Agus', 'address': 'Banguntapan', 'semester': '2'}\n"
     ]
    }
   ],
   "source": [
    "# Example of classmethod usage\n",
    "\n",
    "class Student:\n",
    "    def __init__(self, name, address, semester):\n",
    "        self.name = name\n",
    "        self.address = address\n",
    "        self.semester = semester\n",
    "        \n",
    "    @classmethod\n",
    "    def from_string(cls, string):\n",
    "        name, address, semester = string.split('-')\n",
    "        return cls(name, address, semester)\n",
    "    \n",
    "# using default initillize function\n",
    "student_1  = Student(\"Budi\", \"Ngaglik\", 1)\n",
    "student_2  = Student.from_string(\"Agus-Banguntapan-2\")\n",
    "\n",
    "print(f\"Student 1 : {student_1.__dict__}\")\n",
    "print(f\"Student 2 : {student_2.__dict__}\")"
   ]
  }
 ],
 "metadata": {
  "kernelspec": {
   "display_name": "Python 3",
   "language": "python",
   "name": "python3"
  },
  "language_info": {
   "codemirror_mode": {
    "name": "ipython",
    "version": 3
   },
   "file_extension": ".py",
   "mimetype": "text/x-python",
   "name": "python",
   "nbconvert_exporter": "python",
   "pygments_lexer": "ipython3",
   "version": "3.6.9"
  }
 },
 "nbformat": 4,
 "nbformat_minor": 4
}
