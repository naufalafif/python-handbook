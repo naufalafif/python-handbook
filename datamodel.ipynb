{
 "cells": [
  {
   "cell_type": "code",
   "execution_count": 45,
   "metadata": {},
   "outputs": [
    {
     "name": "stdout",
     "output_type": "stream",
     "text": [
      "Class get initialize with params : Name\n",
      "This is what printed when u print class object\n",
      "This is what u get when do aritmatic add operation to this class\n",
      "This is what u get when do aritmatic sub operation to this class\n"
     ]
    },
    {
     "data": {
      "text/plain": [
       "'This is the representation of class. some kind of info about this class'"
      ]
     },
     "execution_count": 45,
     "metadata": {},
     "output_type": "execute_result"
    }
   ],
   "source": [
    "# datamodel\n",
    "\n",
    "class ExampleClass:\n",
    "    def __init__(self, data):\n",
    "        print(\"Class get initialize with params :\", data)\n",
    "        self.data = data\n",
    "    \n",
    "    def __repr__(self):\n",
    "        return \"This is the representation of class. some kind of info about this class\"\n",
    "    \n",
    "    def __str__(self):\n",
    "        return \"This is what printed when u print class object\"\n",
    "    \n",
    "    def __add__(self, other):\n",
    "        print(\"This is what u get when do aritmatic add operation to this class\")\n",
    "        return 0\n",
    "    \n",
    "    def __sub__(self, other):\n",
    "        print(\"This is what u get when do aritmatic sub operation to this class\")\n",
    "        return 0\n",
    "    \n",
    "ExampleObject = ExampleClass(\"Name\")\n",
    "print(ExampleObject)\n",
    "ExampleObject + 1\n",
    "ExampleObject - 1\n",
    "repr(ExampleObject)"
   ]
  },
  {
   "cell_type": "code",
   "execution_count": 43,
   "metadata": {},
   "outputs": [
    {
     "data": {
      "text/plain": [
       "Polynomial ((4, 6, 8))"
      ]
     },
     "execution_count": 43,
     "metadata": {},
     "output_type": "execute_result"
    }
   ],
   "source": [
    "class Polynomial:\n",
    "    def __init__(self, *coeff):\n",
    "        self.coeff = coeff\n",
    "    \n",
    "    def __repr__(self):\n",
    "        return \"Polynomial ({})\".format(self.coeff)\n",
    "    \n",
    "    def __add__(self, other):\n",
    "        return Polynomial(*(x + y for x, y in zip(self.coeff, other.coeff)))\n",
    "    \n",
    "polynomial_object = Polynomial(1,2,3)\n",
    "repr(polynomial_object)\n",
    "second_polynomial_object = Polynomial(3,4,5)\n",
    "polynomial_object + second_polynomial_object\n",
    "\n",
    "\n"
   ]
  }
 ],
 "metadata": {
  "kernelspec": {
   "display_name": "Python 3",
   "language": "python",
   "name": "python3"
  },
  "language_info": {
   "codemirror_mode": {
    "name": "ipython",
    "version": 3
   },
   "file_extension": ".py",
   "mimetype": "text/x-python",
   "name": "python",
   "nbconvert_exporter": "python",
   "pygments_lexer": "ipython3",
   "version": "3.6.9"
  }
 },
 "nbformat": 4,
 "nbformat_minor": 4
}
