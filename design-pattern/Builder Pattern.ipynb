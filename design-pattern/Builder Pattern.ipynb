{
 "cells": [
  {
   "cell_type": "code",
   "execution_count": 1,
   "metadata": {
    "execution": {
     "iopub.execute_input": "2020-09-03T13:35:17.781406Z",
     "iopub.status.busy": "2020-09-03T13:35:17.781176Z",
     "iopub.status.idle": "2020-09-03T13:35:17.854435Z",
     "shell.execute_reply": "2020-09-03T13:35:17.853544Z",
     "shell.execute_reply.started": "2020-09-03T13:35:17.781384Z"
    }
   },
   "outputs": [
    {
     "name": "stdout",
     "output_type": "stream",
     "text": [
      "{'name': 'Naufal', 'address': 'Indonesia', 'phone': None}\n",
      "{'name': 'Naufal', 'address': 'Indonesia', 'phone': '08312893'}\n"
     ]
    }
   ],
   "source": [
    "%load_ext lab_black\n",
    "\"\"\"\n",
    "Pattern : Builder Pattern\n",
    "Principles : -\n",
    "Example : Object Creation\n",
    "\"\"\"\n",
    "\n",
    "\n",
    "class Employee:\n",
    "    def __init__(self, name, address, phone):\n",
    "        self.name = name\n",
    "        self.address = address\n",
    "        self.phone = phone\n",
    "\n",
    "\n",
    "class EmployeeBuilder:\n",
    "    def __init__(self):\n",
    "        self.__name = None\n",
    "        self.__address = \"Indonesia\"  # Default Value\n",
    "        self.__phone = None\n",
    "\n",
    "    def set_name(self, name):\n",
    "        self.__name = name\n",
    "        return self\n",
    "\n",
    "    def set_address(self, address):\n",
    "        self.__address = address\n",
    "        return self\n",
    "\n",
    "    def set_phone(self, phone):\n",
    "        self.__phone = phone\n",
    "        return self\n",
    "\n",
    "    def build(self):\n",
    "        return Employee(self.__name, self.__address, self.__phone)\n",
    "\n",
    "\n",
    "employee_1 = EmployeeBuilder().set_name(\"Naufal\").build()\n",
    "\n",
    "employee_2 = EmployeeBuilder().set_name(\"Naufal\").set_phone(\"08312893\").build()\n",
    "\n",
    "\n",
    "# Using builder will make creation of object more save because we have one place to control the object creation.\n",
    "# we dont have to change every implementation/intance of employee object\n",
    "\n",
    "print(employee_1.__dict__)\n",
    "print(employee_2.__dict__)"
   ]
  }
 ],
 "metadata": {
  "kernelspec": {
   "display_name": "Python 3",
   "language": "python",
   "name": "python3"
  },
  "language_info": {
   "codemirror_mode": {
    "name": "ipython",
    "version": 3
   },
   "file_extension": ".py",
   "mimetype": "text/x-python",
   "name": "python",
   "nbconvert_exporter": "python",
   "pygments_lexer": "ipython3",
   "version": "3.8.2"
  }
 },
 "nbformat": 4,
 "nbformat_minor": 4
}
