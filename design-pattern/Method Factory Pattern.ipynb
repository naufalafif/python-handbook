{
 "cells": [
  {
   "cell_type": "code",
   "execution_count": 1,
   "metadata": {},
   "outputs": [
    {
     "name": "stdout",
     "output_type": "stream",
     "text": [
      "{'_Employee__name': 'agus',\n",
      " '_Employee__salary': <EmployeeSalary.manager: 1000000>,\n",
      " '_Employee__title': <EmployeeTitle.manager: 1>}\n",
      "{'_Employee__name': 'budi',\n",
      " '_Employee__salary': <EmployeeSalary.developer: 7000000>,\n",
      " '_Employee__title': <EmployeeTitle.developer: 2>}\n"
     ]
    }
   ],
   "source": [
    "\"\"\"\n",
    "pattern : Factory Method\n",
    "priciple : -\n",
    "example : Employee Register\n",
    "\"\"\"\n",
    "\n",
    "# Factory Method for single object\n",
    "from enum import Enum\n",
    "import pprint\n",
    "\n",
    "# Option for Title\n",
    "class EmployeeTitle(Enum):\n",
    "    manager = 1\n",
    "    developer = 2\n",
    "    business_analys = 3\n",
    "\n",
    "# Option for Salary\n",
    "class EmployeeSalary(Enum):\n",
    "    manager = 1000000\n",
    "    developer = 7000000\n",
    "    business_analys = 8000000\n",
    "\n",
    "# Employee Object\n",
    "class Employee:\n",
    "    def __init__(self, name: str, title: EmployeeTitle, salary: int):\n",
    "        self.__name = name\n",
    "        self.__title = title\n",
    "        self.__salary = salary\n",
    "    \n",
    "# Employee Factory\n",
    "# this used to handle creation of specific type of employee\n",
    "class EmployeeFactory:\n",
    "    @staticmethod\n",
    "    def create_manager(name):\n",
    "        return Employee(name, EmployeeTitle.manager, EmployeeSalary.manager)\n",
    "    \n",
    "    @staticmethod\n",
    "    def create_developer(name):\n",
    "        return Employee(name, EmployeeTitle.developer, EmployeeSalary.developer)\n",
    "\n",
    "    @staticmethod\n",
    "    def create_business_analys(name):\n",
    "        return Employee(name, EmployeeTitle.business_analys, EmployeeSalary.business_analys)\n",
    "        \n",
    "employee_1 = EmployeeFactory.create_manager(\"agus\")\n",
    "pprint.pprint(employee_1.__dict__)\n",
    "employee_2 = EmployeeFactory.create_developer(\"budi\")\n",
    "pprint.pprint(employee_2.__dict__)"
   ]
  },
  {
   "cell_type": "code",
   "execution_count": 2,
   "metadata": {},
   "outputs": [
    {
     "name": "stdout",
     "output_type": "stream",
     "text": [
      "Cat : miauw\n",
      "Tiger : roar\n"
     ]
    }
   ],
   "source": [
    "# Factory method multi object\n",
    "\n",
    "from enum import Enum\n",
    "\n",
    "class AnimalType(Enum):\n",
    "    tiger = \"Tiger\"\n",
    "    cat = \"Cat\"\n",
    "\n",
    "class Animal:\n",
    "    def sleep(self):\n",
    "        print(\"sleep\")\n",
    "    \n",
    "    def eat(self):\n",
    "        print(\"eat\")\n",
    "    \n",
    "    def voice(self): pass\n",
    "    \n",
    "class Tiger(Animal):\n",
    "    def voice(self):\n",
    "        return (\"roar\")\n",
    "        \n",
    "class Cat(Animal):\n",
    "    def voice(self):\n",
    "        return (\"miauw\")\n",
    "        \n",
    "class AnimalFactory:\n",
    "    @staticmethod\n",
    "    def createAnimal(animal_type):\n",
    "        if animal_type == AnimalType.tiger:\n",
    "            return Tiger()\n",
    "        elif animal_type == AnimalType.cat:\n",
    "            return Cat()\n",
    "        else:\n",
    "            raise ValueError(\"Type unknown\")\n",
    "\n",
    "cat = AnimalFactory.createAnimal(AnimalType.cat)\n",
    "print(\"Cat : {}\".format(cat.voice()))\n",
    "tiger = AnimalFactory.createAnimal(AnimalType.tiger)\n",
    "print(\"Tiger : {}\".format(tiger.voice()))"
   ]
  }
 ],
 "metadata": {
  "kernelspec": {
   "display_name": "Python 3",
   "language": "python",
   "name": "python3"
  },
  "language_info": {
   "codemirror_mode": {
    "name": "ipython",
    "version": 3
   },
   "file_extension": ".py",
   "mimetype": "text/x-python",
   "name": "python",
   "nbconvert_exporter": "python",
   "pygments_lexer": "ipython3",
   "version": "3.8.2"
  }
 },
 "nbformat": 4,
 "nbformat_minor": 4
}
