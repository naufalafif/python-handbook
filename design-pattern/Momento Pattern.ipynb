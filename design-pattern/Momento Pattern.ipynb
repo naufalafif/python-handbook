{
 "cells": [
  {
   "cell_type": "code",
   "execution_count": 34,
   "metadata": {},
   "outputs": [
    {
     "name": "stdout",
     "output_type": "stream",
     "text": [
      "a\n",
      "b\n",
      "c\n",
      "b\n"
     ]
    }
   ],
   "source": [
    "\"\"\"\n",
    "Pattern : Momento\n",
    "Principles : Single Responsibility Principle\n",
    "Example : Editor with undo features\n",
    "\"\"\"\n",
    "\n",
    "class EditorState:\n",
    "    def __init__(self, content):\n",
    "        self.__content = content\n",
    "    def get_content(self):\n",
    "        return self.__content\n",
    "        \n",
    "\n",
    "class Editor:\n",
    "    def __init__(self):\n",
    "        self.__content = None\n",
    "    \n",
    "    def get_content(self):\n",
    "        if self.__content is None:\n",
    "            raise ValueError(\"No Content\")\n",
    "        return self.__content\n",
    "    \n",
    "    def create_state(self) ->  EditorState:\n",
    "        state = EditorState(self.__content)\n",
    "        return state\n",
    "    \n",
    "    def set_content(self, content):\n",
    "        self.__content = content\n",
    "        \n",
    "    def restore(self, content):\n",
    "        self.__content = content\n",
    "        \n",
    "\n",
    "class History:\n",
    "    def __init__(self):\n",
    "        self.__history = []\n",
    "        self.__last_index = 0\n",
    "    \n",
    "    def push(self, state:EditorState):\n",
    "        self.__history.append(state)\n",
    "        self.__last_index += 1\n",
    "    \n",
    "    def pop(self):\n",
    "        output = self.__history[self.__last_index -1]\n",
    "        self.__last_index -= 1\n",
    "        return output.get_content()\n",
    "    \n",
    "obj_editor = Editor()\n",
    "editor_history = History()\n",
    "\n",
    "obj_editor.set_content(\"a\")\n",
    "editor_history.push(obj_editor.create_state())\n",
    "print(obj_editor.get_content())\n",
    "\n",
    "obj_editor.set_content(\"b\")\n",
    "editor_history.push(obj_editor.create_state())\n",
    "print(obj_editor.get_content())\n",
    "\n",
    "editor_history.push(obj_editor.create_state())\n",
    "obj_editor.set_content(\"c\")\n",
    "print(obj_editor.get_content())\n",
    "\n",
    "obj_editor.restore(editor_history.pop())\n",
    "print(obj_editor.get_content())"
   ]
  }
 ],
 "metadata": {
  "kernelspec": {
   "display_name": "Python 3",
   "language": "python",
   "name": "python3"
  },
  "language_info": {
   "codemirror_mode": {
    "name": "ipython",
    "version": 3
   },
   "file_extension": ".py",
   "mimetype": "text/x-python",
   "name": "python",
   "nbconvert_exporter": "python",
   "pygments_lexer": "ipython3",
   "version": "3.8.2"
  }
 },
 "nbformat": 4,
 "nbformat_minor": 4
}
