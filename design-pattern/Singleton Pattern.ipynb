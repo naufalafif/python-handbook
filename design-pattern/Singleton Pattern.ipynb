{
 "cells": [
  {
   "cell_type": "code",
   "execution_count": 1,
   "metadata": {
    "execution": {
     "iopub.execute_input": "2020-09-03T13:35:29.162876Z",
     "iopub.status.busy": "2020-09-03T13:35:29.162606Z",
     "iopub.status.idle": "2020-09-03T13:35:29.229753Z",
     "shell.execute_reply": "2020-09-03T13:35:29.228807Z",
     "shell.execute_reply.started": "2020-09-03T13:35:29.162847Z"
    }
   },
   "outputs": [
    {
     "name": "stdout",
     "output_type": "stream",
     "text": [
      "create connection\n",
      "connection.25 - connection.25 - connection.25\n"
     ]
    }
   ],
   "source": [
    "%load_ext lab_black\n",
    "\"\"\"\n",
    "Pattern : Singleton\n",
    "Principles : -\n",
    "Example : DB Connection\n",
    "\"\"\"\n",
    "import random\n",
    "\n",
    "\n",
    "def db_connection_example():\n",
    "    return f\"connection.{random.randint(0,100)}\"\n",
    "\n",
    "\n",
    "class DBHelper:\n",
    "    __connection = None\n",
    "\n",
    "    def __init__(self):\n",
    "        if DBHelper.__connection is not None:\n",
    "            raise Exception(\"This is singleton\")\n",
    "\n",
    "        DBHelper.__connection = db_connection_example()\n",
    "        print(\"create connection\")\n",
    "\n",
    "    @staticmethod\n",
    "    def get_connection():\n",
    "        if DBHelper.__connection is None:\n",
    "            DBHelper()\n",
    "        return DBHelper.__connection\n",
    "\n",
    "\n",
    "# Connection only created once\n",
    "connection_1 = DBHelper.get_connection()\n",
    "connection_2 = DBHelper.get_connection()\n",
    "connection_3 = DBHelper.get_connection()\n",
    "\n",
    "print(f\"{connection_1} - {connection_2} - {connection_3}\")"
   ]
  },
  {
   "cell_type": "code",
   "execution_count": 2,
   "metadata": {
    "execution": {
     "iopub.execute_input": "2020-09-03T13:35:29.231841Z",
     "iopub.status.busy": "2020-09-03T13:35:29.231597Z",
     "iopub.status.idle": "2020-09-03T13:35:29.246451Z",
     "shell.execute_reply": "2020-09-03T13:35:29.245548Z",
     "shell.execute_reply.started": "2020-09-03T13:35:29.231817Z"
    }
   },
   "outputs": [
    {
     "name": "stdout",
     "output_type": "stream",
     "text": [
      "value.15 - value.15 - value.15\n"
     ]
    }
   ],
   "source": [
    "def generate_returned_value():\n",
    "    return f\"value.{random.randint(0,100)}\"\n",
    "\n",
    "\n",
    "class SingletonClass:\n",
    "    returned_value = None\n",
    "\n",
    "    def __init__(self):\n",
    "        if SingletonClass.returned_value is None:\n",
    "            SingletonClass.returned_value = generate_returned_value()\n",
    "\n",
    "    @property\n",
    "    def value(self):\n",
    "        return SingletonClass.returned_value\n",
    "\n",
    "\n",
    "singleton_object_1 = SingletonClass()\n",
    "singleton_object_2 = SingletonClass()\n",
    "singleton_object_3 = SingletonClass()\n",
    "\n",
    "print(\n",
    "    f\"{singleton_object_1.value} - {singleton_object_2.value} - {singleton_object_3.value}\"\n",
    ")"
   ]
  }
 ],
 "metadata": {
  "kernelspec": {
   "display_name": "Python 3",
   "language": "python",
   "name": "python3"
  },
  "language_info": {
   "codemirror_mode": {
    "name": "ipython",
    "version": 3
   },
   "file_extension": ".py",
   "mimetype": "text/x-python",
   "name": "python",
   "nbconvert_exporter": "python",
   "pygments_lexer": "ipython3",
   "version": "3.8.2"
  }
 },
 "nbformat": 4,
 "nbformat_minor": 4
}
