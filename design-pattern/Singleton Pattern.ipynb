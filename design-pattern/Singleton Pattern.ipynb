{
 "cells": [
  {
   "cell_type": "code",
   "execution_count": 49,
   "metadata": {},
   "outputs": [
    {
     "name": "stdout",
     "output_type": "stream",
     "text": [
      "create connection\n",
      "connected - connected - connected\n"
     ]
    }
   ],
   "source": [
    "\"\"\"\n",
    "Pattern : Singleton\n",
    "Principles : -\n",
    "Example : DB Connection\n",
    "\"\"\"\n",
    "\n",
    "def db_connection_example(): return \"connected\"\n",
    "\n",
    "class DBHelper:\n",
    "    __connection = None\n",
    "    \n",
    "    def __init__(self):\n",
    "        if DBHelper.__connection is not None:\n",
    "            raise Exception(\"This is singleton\")\n",
    "        \n",
    "        DBHelper.__connection = db_connection_example()\n",
    "        print(\"create connection\")\n",
    "    \n",
    "    @staticmethod\n",
    "    def get_connection():\n",
    "        if DBHelper.__connection is None:\n",
    "            DBHelper()\n",
    "        return DBHelper.__connection\n",
    "\n",
    "# Connection only created once\n",
    "connection_1 = connection.get_connection()\n",
    "connection_2 = connection.get_connection()\n",
    "connection_3 = connection.get_connection()\n",
    "\n",
    "print(f\"{connection_1} - {connection_2} - {connection_3}\")\n",
    "            "
   ]
  }
 ],
 "metadata": {
  "kernelspec": {
   "display_name": "Python 3",
   "language": "python",
   "name": "python3"
  },
  "language_info": {
   "codemirror_mode": {
    "name": "ipython",
    "version": 3
   },
   "file_extension": ".py",
   "mimetype": "text/x-python",
   "name": "python",
   "nbconvert_exporter": "python",
   "pygments_lexer": "ipython3",
   "version": "3.6.9"
  }
 },
 "nbformat": 4,
 "nbformat_minor": 4
}
