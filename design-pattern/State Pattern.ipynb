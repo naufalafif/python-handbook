{
 "cells": [
  {
   "cell_type": "code",
   "execution_count": 11,
   "metadata": {},
   "outputs": [
    {
     "name": "stdout",
     "output_type": "stream",
     "text": [
      "Brush Icon\n",
      "Draw Line\n",
      "Eraser Icon\n",
      "Erase Element\n"
     ]
    }
   ],
   "source": [
    "\"\"\"\n",
    "Pattern : State\n",
    "Principles : Open Close Principle (Open for extention, close for modification)\n",
    "Example : Image Editing Tool\n",
    "\"\"\"\n",
    "\n",
    "class Tool:\n",
    "    def mouse_up(self):\n",
    "        pass\n",
    "    \n",
    "    def mouse_down(self):\n",
    "        pass\n",
    "\n",
    "class BrushTool(Tool):\n",
    "    def mouse_up(self):\n",
    "        print(\"Draw Line\")\n",
    "    \n",
    "    def mouse_down(self):\n",
    "        print(\"Brush Icon\")\n",
    "        \n",
    "class EraserTool(Tool):\n",
    "    def mouse_up(self):\n",
    "        print(\"Erase Element\")\n",
    "    \n",
    "    def mouse_down(self):\n",
    "        print(\"Eraser Icon\")\n",
    "        \n",
    "\n",
    "class Canvas:\n",
    "    def __init__(self):\n",
    "        self.__tool = None\n",
    "        \n",
    "    def set_tool(self, tool:Tool):\n",
    "        if not issubclass(tool, Tool):\n",
    "            raise AttributeError(\"Use Tool\")\n",
    "        self.__tool = tool()\n",
    "    \n",
    "    def mouse_up(self):\n",
    "        self.__tool.mouse_up()\n",
    "\n",
    "    def mouse_down(self):\n",
    "        self.__tool.mouse_down()\n",
    "        \n",
    "\n",
    "new_canvas = Canvas()\n",
    "new_canvas.set_tool(BrushTool)\n",
    "new_canvas.mouse_down()\n",
    "new_canvas.mouse_up()\n",
    "new_canvas.set_tool(EraserTool)\n",
    "new_canvas.mouse_down()\n",
    "new_canvas.mouse_up()\n",
    "\n",
    "# it is easy to add new tool, u just have to inhirete the new classes from Tool"
   ]
  }
 ],
 "metadata": {
  "kernelspec": {
   "display_name": "Python 3",
   "language": "python",
   "name": "python3"
  },
  "language_info": {
   "codemirror_mode": {
    "name": "ipython",
    "version": 3
   },
   "file_extension": ".py",
   "mimetype": "text/x-python",
   "name": "python",
   "nbconvert_exporter": "python",
   "pygments_lexer": "ipython3",
   "version": "3.8.2"
  }
 },
 "nbformat": 4,
 "nbformat_minor": 4
}
