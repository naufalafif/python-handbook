{
 "cells": [
  {
   "cell_type": "code",
   "execution_count": 1,
   "metadata": {
    "execution": {
     "iopub.execute_input": "2020-09-03T13:35:43.427712Z",
     "iopub.status.busy": "2020-09-03T13:35:43.427434Z",
     "iopub.status.idle": "2020-09-03T13:35:43.486115Z",
     "shell.execute_reply": "2020-09-03T13:35:43.485399Z",
     "shell.execute_reply.started": "2020-09-03T13:35:43.427687Z"
    }
   },
   "outputs": [
    {
     "name": "stdout",
     "output_type": "stream",
     "text": [
      "add, 15\n",
      "multiply, 120\n"
     ]
    }
   ],
   "source": [
    "%load_ext lab_black\n",
    "# Simple Functional Example\n",
    "\n",
    "\n",
    "def calc(f, *args):\n",
    "    return f(*args)\n",
    "\n",
    "\n",
    "def add(*numbers):\n",
    "    total = 0\n",
    "    for number_to_add in numbers:\n",
    "        total += number_to_add\n",
    "    return total\n",
    "\n",
    "\n",
    "def multiply(*numbers):\n",
    "    total = 1\n",
    "    for number_to_add in numbers:\n",
    "        total *= number_to_add\n",
    "    return total\n",
    "\n",
    "\n",
    "print(f\"add, {calc(add, 1,2,3,4,5)}\")\n",
    "print(f\"multiply, {calc(multiply, 1,2,3,4,5)}\")"
   ]
  },
  {
   "cell_type": "code",
   "execution_count": 2,
   "metadata": {
    "execution": {
     "iopub.execute_input": "2020-09-03T13:35:43.487199Z",
     "iopub.status.busy": "2020-09-03T13:35:43.486996Z",
     "iopub.status.idle": "2020-09-03T13:35:43.497385Z",
     "shell.execute_reply": "2020-09-03T13:35:43.496321Z",
     "shell.execute_reply.started": "2020-09-03T13:35:43.487179Z"
    }
   },
   "outputs": [
    {
     "name": "stdout",
     "output_type": "stream",
     "text": [
      "add 3\n",
      "multiply 2\n"
     ]
    }
   ],
   "source": [
    "#  Functional using lambda\n",
    "\n",
    "add = lambda x, y: x + y\n",
    "multiply = lambda x, y: x * y\n",
    "\n",
    "print(f\"add {add(1,2)}\")\n",
    "print(f\"multiply {multiply(1,2)}\")"
   ]
  },
  {
   "cell_type": "code",
   "execution_count": 3,
   "metadata": {
    "execution": {
     "iopub.execute_input": "2020-09-03T13:35:43.498763Z",
     "iopub.status.busy": "2020-09-03T13:35:43.498531Z",
     "iopub.status.idle": "2020-09-03T13:35:43.513674Z",
     "shell.execute_reply": "2020-09-03T13:35:43.512895Z",
     "shell.execute_reply.started": "2020-09-03T13:35:43.498742Z"
    }
   },
   "outputs": [
    {
     "name": "stdout",
     "output_type": "stream",
     "text": [
      "add [2, 4, 6, 8]\n",
      "substarct [0, 1, 2, 3]\n",
      "divide [0.5, 1.0]\n"
     ]
    }
   ],
   "source": [
    "# functional using standard function\n",
    "\n",
    "print(\"add\", list(map(lambda x: x * 2, [1, 2, 3, 4])))  # multiply by 2\n",
    "print(\"substarct\", list(map(lambda x: x - 1, [1, 2, 3, 4])))  # substract by 1\n",
    "\n",
    "\n",
    "def divide_by_2(number):\n",
    "    if number == 0:\n",
    "        raise ValueError(\"other than zero\")\n",
    "    return number / 2\n",
    "\n",
    "\n",
    "print(\"divide\", list(map(divide_by_2, [1, 2])))"
   ]
  },
  {
   "cell_type": "code",
   "execution_count": 4,
   "metadata": {
    "execution": {
     "iopub.execute_input": "2020-09-03T13:35:43.514959Z",
     "iopub.status.busy": "2020-09-03T13:35:43.514708Z",
     "iopub.status.idle": "2020-09-03T13:35:43.529981Z",
     "shell.execute_reply": "2020-09-03T13:35:43.529223Z",
     "shell.execute_reply.started": "2020-09-03T13:35:43.514935Z"
    }
   },
   "outputs": [
    {
     "name": "stdout",
     "output_type": "stream",
     "text": [
      "filter x > 2 [3, 4, 5]\n",
      "filter x > 2 [3, 4, 5]\n",
      "filter keren exist ['indonesia keren']\n"
     ]
    }
   ],
   "source": [
    "# functional using standard function 2\n",
    "\n",
    "print(\n",
    "    \"filter x > 2\", list(filter(lambda x: x > 2, [1, 1.2, 2, 3, 4, 5]))\n",
    ")  # Filter only number > 2\n",
    "print(\n",
    "    \"filter x > 2\", list(filter(lambda x: x > 2, [1, 1.2, 2, 3, 4, 5]))\n",
    ")  # Filter only number > 2\n",
    "print(\n",
    "    \"filter keren exist\",\n",
    "    list(filter(lambda x: \"keren\" in x, [\"indonesia keren\", \"jogja bagus\"])),\n",
    ")  # Filter only number > 2"
   ]
  },
  {
   "cell_type": "code",
   "execution_count": 5,
   "metadata": {
    "execution": {
     "iopub.execute_input": "2020-09-03T13:35:43.530997Z",
     "iopub.status.busy": "2020-09-03T13:35:43.530774Z",
     "iopub.status.idle": "2020-09-03T13:35:43.539326Z",
     "shell.execute_reply": "2020-09-03T13:35:43.538560Z",
     "shell.execute_reply.started": "2020-09-03T13:35:43.530975Z"
    }
   },
   "outputs": [
    {
     "name": "stdout",
     "output_type": "stream",
     "text": [
      "reduce 110\n"
     ]
    }
   ],
   "source": [
    "# functional using standard function 3\n",
    "\n",
    "from functools import reduce\n",
    "\n",
    "numbers = [1, 2, 3, 4, 100]\n",
    "print(\"reduce\", reduce(lambda x, y: x + y, numbers))"
   ]
  },
  {
   "cell_type": "code",
   "execution_count": 6,
   "metadata": {
    "execution": {
     "iopub.execute_input": "2020-09-03T13:35:43.540468Z",
     "iopub.status.busy": "2020-09-03T13:35:43.540197Z",
     "iopub.status.idle": "2020-09-03T13:35:43.550665Z",
     "shell.execute_reply": "2020-09-03T13:35:43.549889Z",
     "shell.execute_reply.started": "2020-09-03T13:35:43.540447Z"
    }
   },
   "outputs": [
    {
     "name": "stdout",
     "output_type": "stream",
     "text": [
      "capitalize ['Naufal', 'Bagus', 'Adil']\n",
      "uppercase ['NAUFAL', 'BAGUS', 'ADIL']\n"
     ]
    }
   ],
   "source": [
    "# functional using standard function 4\n",
    "\n",
    "print(\"capitalize\", list(map(str.capitalize, [\"naufal\", \"bagus\", \"adil\"])))\n",
    "print(\"uppercase\", list(map(str.upper, [\"naufal\", \"bagus\", \"adil\"])))"
   ]
  }
 ],
 "metadata": {
  "kernelspec": {
   "display_name": "Python 3",
   "language": "python",
   "name": "python3"
  },
  "language_info": {
   "codemirror_mode": {
    "name": "ipython",
    "version": 3
   },
   "file_extension": ".py",
   "mimetype": "text/x-python",
   "name": "python",
   "nbconvert_exporter": "python",
   "pygments_lexer": "ipython3",
   "version": "3.8.2"
  }
 },
 "nbformat": 4,
 "nbformat_minor": 4
}
