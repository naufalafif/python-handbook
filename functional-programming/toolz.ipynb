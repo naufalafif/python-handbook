{
 "cells": [
  {
   "cell_type": "code",
   "execution_count": 2,
   "metadata": {
    "execution": {
     "iopub.execute_input": "2020-09-03T13:36:13.497224Z",
     "iopub.status.busy": "2020-09-03T13:36:13.496970Z",
     "iopub.status.idle": "2020-09-03T13:36:13.528694Z",
     "shell.execute_reply": "2020-09-03T13:36:13.528098Z",
     "shell.execute_reply.started": "2020-09-03T13:36:13.497203Z"
    }
   },
   "outputs": [
    {
     "name": "stdout",
     "output_type": "stream",
     "text": [
      "The lab_black extension is already loaded. To reload it, use:\n",
      "  %reload_ext lab_black\n",
      "Help on package toolz:\n",
      "\n",
      "NAME\n",
      "    toolz\n",
      "\n",
      "PACKAGE CONTENTS\n",
      "    _signatures\n",
      "    compatibility\n",
      "    curried (package)\n",
      "    dicttoolz\n",
      "    functoolz\n",
      "    itertoolz\n",
      "    recipes\n",
      "    sandbox (package)\n",
      "    utils\n",
      "\n",
      "FUNCTIONS\n",
      "    reduce(...)\n",
      "        reduce(function, sequence[, initial]) -> value\n",
      "        \n",
      "        Apply a function of two arguments cumulatively to the items of a sequence,\n",
      "        from left to right, so as to reduce the sequence to a single value.\n",
      "        For example, reduce(lambda x, y: x+y, [1, 2, 3, 4, 5]) calculates\n",
      "        ((((1+2)+3)+4)+5).  If initial is present, it is placed before the items\n",
      "        of the sequence in the calculation, and serves as a default when the\n",
      "        sequence is empty.\n",
      "    \n",
      "    sorted(iterable, /, *, key=None, reverse=False)\n",
      "        Return a new list containing all items from the iterable in ascending order.\n",
      "        \n",
      "        A custom key function can be supplied to customize the sort order, and the\n",
      "        reverse flag can be set to request the result in descending order.\n",
      "\n",
      "VERSION\n",
      "    0.10.0\n",
      "\n",
      "FILE\n",
      "    /usr/local/lib/python3.8/dist-packages/toolz/__init__.py\n",
      "\n",
      "\n"
     ]
    }
   ],
   "source": [
    "%load_ext lab_black\n",
    "import toolz\n",
    "\n",
    "help(toolz)"
   ]
  },
  {
   "cell_type": "code",
   "execution_count": 3,
   "metadata": {
    "execution": {
     "iopub.execute_input": "2020-09-03T13:36:13.529864Z",
     "iopub.status.busy": "2020-09-03T13:36:13.529643Z",
     "iopub.status.idle": "2020-09-03T13:36:13.542368Z",
     "shell.execute_reply": "2020-09-03T13:36:13.541821Z",
     "shell.execute_reply.started": "2020-09-03T13:36:13.529845Z"
    }
   },
   "outputs": [
    {
     "name": "stdout",
     "output_type": "stream",
     "text": [
      "Total of ([1, 2, 3, 4, 5, 6] + 10) : 31\n",
      "sorted [6, 3, 1, 3, 7, 8, 3, 2, 9] [1, 2, 3, 3, 3, 6, 7, 8, 9]\n"
     ]
    }
   ],
   "source": [
    "# Reduce, Sorted\n",
    "\n",
    "array_to_sum = [1, 2, 3, 4, 5, 6]\n",
    "initial_value = 10\n",
    "total = toolz.reduce(lambda x, y: x + y, array_to_sum, initial_value)\n",
    "print(f\"Total of ({(array_to_sum)} + {initial_value}) : {total}\")\n",
    "\n",
    "\n",
    "array_to_sort = [6, 3, 1, 3, 7, 8, 3, 2, 9]\n",
    "print(\"sorted\", array_to_sort, toolz.sorted(array_to_sort))"
   ]
  },
  {
   "cell_type": "code",
   "execution_count": 4,
   "metadata": {
    "execution": {
     "iopub.execute_input": "2020-09-03T13:36:13.543655Z",
     "iopub.status.busy": "2020-09-03T13:36:13.543456Z",
     "iopub.status.idle": "2020-09-03T13:36:13.555051Z",
     "shell.execute_reply": "2020-09-03T13:36:13.554419Z",
     "shell.execute_reply.started": "2020-09-03T13:36:13.543636Z"
    }
   },
   "outputs": [
    {
     "name": "stdout",
     "output_type": "stream",
     "text": [
      "'100' -> convert_to_int -> + 100 -> / 10 -> * 2 =  40.0\n",
      "'100' -> 100 -> 200 -> 20 -> 40\n"
     ]
    }
   ],
   "source": [
    "\"\"\"\n",
    "Compose is function to chain multiple function, each function will process result of previous function\n",
    "\"\"\"\n",
    "\n",
    "\n",
    "def multiply_by_two(value):\n",
    "    return value * 2\n",
    "\n",
    "\n",
    "def divide_by_ten(value):\n",
    "    return value / 10\n",
    "\n",
    "\n",
    "def add_hundred(value):\n",
    "    return value + 100\n",
    "\n",
    "\n",
    "def convert_to_int(value):\n",
    "    return int(value)\n",
    "\n",
    "\n",
    "composed_arthm_function = toolz.compose(\n",
    "    multiply_by_two, divide_by_ten, add_hundred, convert_to_int\n",
    ")\n",
    "result = composed_arthm_function(\"100\")\n",
    "print(f\"'100' -> convert_to_int -> + 100 -> / 10 -> * 2 = \", result)\n",
    "print(\"'100' -> 100 -> 200 -> 20 -> 40\")"
   ]
  },
  {
   "cell_type": "code",
   "execution_count": 5,
   "metadata": {
    "execution": {
     "iopub.execute_input": "2020-09-03T13:36:13.556248Z",
     "iopub.status.busy": "2020-09-03T13:36:13.556027Z",
     "iopub.status.idle": "2020-09-03T13:36:13.572719Z",
     "shell.execute_reply": "2020-09-03T13:36:13.571871Z",
     "shell.execute_reply.started": "2020-09-03T13:36:13.556227Z"
    }
   },
   "outputs": [
    {
     "data": {
      "text/plain": [
       "[150.0, 250.0, 950.0]"
      ]
     },
     "execution_count": 5,
     "metadata": {},
     "output_type": "execute_result"
    }
   ],
   "source": [
    "#  Pipe or piping\n",
    "\"\"\"\n",
    "Pipe is function to chain multiple function, each function will process result of previous function\n",
    "\"\"\"\n",
    "from toolz.curried import pipe, map, filter\n",
    "\n",
    "multiply_add_divide_filter = pipe(\n",
    "    [1, 2, 3, 100, 200, 900],\n",
    "    map(lambda x: x * 2),\n",
    "    map(lambda x: x + 100),\n",
    "    map(lambda x: x / 2),\n",
    "    filter(lambda x: x > 100),\n",
    "    list,\n",
    ")\n",
    "\n",
    "multiply_add_divide_filter"
   ]
  },
  {
   "cell_type": "code",
   "execution_count": 6,
   "metadata": {
    "execution": {
     "iopub.execute_input": "2020-09-03T13:36:13.573901Z",
     "iopub.status.busy": "2020-09-03T13:36:13.573656Z",
     "iopub.status.idle": "2020-09-03T13:36:13.578613Z",
     "shell.execute_reply": "2020-09-03T13:36:13.577927Z",
     "shell.execute_reply.started": "2020-09-03T13:36:13.573879Z"
    }
   },
   "outputs": [],
   "source": [
    "\"\"\"\n",
    "Pipe vs Compose\n",
    "Pipe & compose have similar function, the only difference is pipe left ordered while compose is right ordered.\n",
    "\n",
    "to make it easier to understarnd, image compose is more like mathematical operation f(x(g(h(value))))\n",
    "pipe in other hand look more natural to developers, value -> h -> g -> x\n",
    "\n",
    "example of common of compose is on frontend like react\n",
    "\n",
    "const Container = (list) =>\n",
    "  <div>\n",
    "    <p> My fancy list: </p>\n",
    "    {list}\n",
    "  </div>\n",
    "\n",
    "const List = (listItems) => <ul> {listItems} </ul>\n",
    "\n",
    "const ListItem = (value) => <li key={value}> {value} </li> \n",
    "\n",
    "Which can be composed and used like so\n",
    "\n",
    "const App = (props) => compose(Container, List, map(ListItem))(props.todos)   \n",
    "\"\"\"\n",
    "\n",
    "pass"
   ]
  },
  {
   "cell_type": "code",
   "execution_count": 7,
   "metadata": {
    "execution": {
     "iopub.execute_input": "2020-09-03T13:36:13.579497Z",
     "iopub.status.busy": "2020-09-03T13:36:13.579302Z",
     "iopub.status.idle": "2020-09-03T13:36:13.584671Z",
     "shell.execute_reply": "2020-09-03T13:36:13.584093Z",
     "shell.execute_reply.started": "2020-09-03T13:36:13.579478Z"
    }
   },
   "outputs": [
    {
     "data": {
      "text/plain": [
       "['__builtins__',\n",
       " '__cached__',\n",
       " '__doc__',\n",
       " '__file__',\n",
       " '__loader__',\n",
       " '__name__',\n",
       " '__package__',\n",
       " '__path__',\n",
       " '__spec__',\n",
       " '__version__',\n",
       " '_signatures',\n",
       " 'accumulate',\n",
       " 'apply',\n",
       " 'assoc',\n",
       " 'assoc_in',\n",
       " 'comp',\n",
       " 'compatibility',\n",
       " 'complement',\n",
       " 'compose',\n",
       " 'compose_left',\n",
       " 'concat',\n",
       " 'concatv',\n",
       " 'cons',\n",
       " 'count',\n",
       " 'countby',\n",
       " 'curried',\n",
       " 'curry',\n",
       " 'dicttoolz',\n",
       " 'diff',\n",
       " 'dissoc',\n",
       " 'do',\n",
       " 'drop',\n",
       " 'excepts',\n",
       " 'filter',\n",
       " 'first',\n",
       " 'flip',\n",
       " 'frequencies',\n",
       " 'functoolz',\n",
       " 'get',\n",
       " 'get_in',\n",
       " 'groupby',\n",
       " 'identity',\n",
       " 'interleave',\n",
       " 'interpose',\n",
       " 'isdistinct',\n",
       " 'isiterable',\n",
       " 'itemfilter',\n",
       " 'itemmap',\n",
       " 'iterate',\n",
       " 'itertoolz',\n",
       " 'join',\n",
       " 'juxt',\n",
       " 'keyfilter',\n",
       " 'keymap',\n",
       " 'last',\n",
       " 'map',\n",
       " 'mapcat',\n",
       " 'memoize',\n",
       " 'merge',\n",
       " 'merge_sorted',\n",
       " 'merge_with',\n",
       " 'nth',\n",
       " 'partial',\n",
       " 'partition',\n",
       " 'partition_all',\n",
       " 'partitionby',\n",
       " 'peek',\n",
       " 'peekn',\n",
       " 'pipe',\n",
       " 'pluck',\n",
       " 'random_sample',\n",
       " 'recipes',\n",
       " 'reduce',\n",
       " 'reduceby',\n",
       " 'remove',\n",
       " 'sandbox',\n",
       " 'second',\n",
       " 'sliding_window',\n",
       " 'sorted',\n",
       " 'tail',\n",
       " 'take',\n",
       " 'take_nth',\n",
       " 'thread_first',\n",
       " 'thread_last',\n",
       " 'topk',\n",
       " 'unique',\n",
       " 'update_in',\n",
       " 'utils',\n",
       " 'valfilter',\n",
       " 'valmap']"
      ]
     },
     "execution_count": 7,
     "metadata": {},
     "output_type": "execute_result"
    }
   ],
   "source": [
    "dir(toolz)"
   ]
  },
  {
   "cell_type": "code",
   "execution_count": 8,
   "metadata": {
    "execution": {
     "iopub.execute_input": "2020-09-03T13:36:13.585587Z",
     "iopub.status.busy": "2020-09-03T13:36:13.585328Z",
     "iopub.status.idle": "2020-09-03T13:36:13.591214Z",
     "shell.execute_reply": "2020-09-03T13:36:13.590566Z",
     "shell.execute_reply.started": "2020-09-03T13:36:13.585568Z"
    }
   },
   "outputs": [
    {
     "data": {
      "text/plain": [
       "['Random',\n",
       " 'Sequence',\n",
       " '__all__',\n",
       " '__builtins__',\n",
       " '__cached__',\n",
       " '__doc__',\n",
       " '__file__',\n",
       " '__loader__',\n",
       " '__name__',\n",
       " '__package__',\n",
       " '__spec__',\n",
       " '_get',\n",
       " '_merge_sorted_binary',\n",
       " '_merge_sorted_binary_key',\n",
       " 'accumulate',\n",
       " 'collections',\n",
       " 'concat',\n",
       " 'concatv',\n",
       " 'cons',\n",
       " 'count',\n",
       " 'diff',\n",
       " 'drop',\n",
       " 'filter',\n",
       " 'filterfalse',\n",
       " 'first',\n",
       " 'frequencies',\n",
       " 'get',\n",
       " 'getter',\n",
       " 'groupby',\n",
       " 'heapq',\n",
       " 'interleave',\n",
       " 'interpose',\n",
       " 'isdistinct',\n",
       " 'isiterable',\n",
       " 'iterate',\n",
       " 'iteritems',\n",
       " 'itertools',\n",
       " 'join',\n",
       " 'last',\n",
       " 'map',\n",
       " 'mapcat',\n",
       " 'merge_sorted',\n",
       " 'no_default',\n",
       " 'no_pad',\n",
       " 'nth',\n",
       " 'operator',\n",
       " 'partial',\n",
       " 'partition',\n",
       " 'partition_all',\n",
       " 'peek',\n",
       " 'peekn',\n",
       " 'pluck',\n",
       " 'random_sample',\n",
       " 'reduceby',\n",
       " 'remove',\n",
       " 'rest',\n",
       " 'second',\n",
       " 'sliding_window',\n",
       " 'tail',\n",
       " 'take',\n",
       " 'take_nth',\n",
       " 'topk',\n",
       " 'unique',\n",
       " 'zip',\n",
       " 'zip_longest']"
      ]
     },
     "execution_count": 8,
     "metadata": {},
     "output_type": "execute_result"
    }
   ],
   "source": [
    "dir(toolz.itertoolz)"
   ]
  }
 ],
 "metadata": {
  "kernelspec": {
   "display_name": "Python 3",
   "language": "python",
   "name": "python3"
  },
  "language_info": {
   "codemirror_mode": {
    "name": "ipython",
    "version": 3
   },
   "file_extension": ".py",
   "mimetype": "text/x-python",
   "name": "python",
   "nbconvert_exporter": "python",
   "pygments_lexer": "ipython3",
   "version": "3.8.2"
  }
 },
 "nbformat": 4,
 "nbformat_minor": 4
}
