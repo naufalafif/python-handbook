{
 "cells": [
  {
   "cell_type": "code",
   "execution_count": 55,
   "metadata": {},
   "outputs": [
    {
     "name": "stdout",
     "output_type": "stream",
     "text": [
      "Help on package toolz:\n",
      "\n",
      "NAME\n",
      "    toolz\n",
      "\n",
      "PACKAGE CONTENTS\n",
      "    _signatures\n",
      "    compatibility\n",
      "    curried (package)\n",
      "    dicttoolz\n",
      "    functoolz\n",
      "    itertoolz\n",
      "    recipes\n",
      "    sandbox (package)\n",
      "    utils\n",
      "\n",
      "FUNCTIONS\n",
      "    reduce(...)\n",
      "        reduce(function, sequence[, initial]) -> value\n",
      "        \n",
      "        Apply a function of two arguments cumulatively to the items of a sequence,\n",
      "        from left to right, so as to reduce the sequence to a single value.\n",
      "        For example, reduce(lambda x, y: x+y, [1, 2, 3, 4, 5]) calculates\n",
      "        ((((1+2)+3)+4)+5).  If initial is present, it is placed before the items\n",
      "        of the sequence in the calculation, and serves as a default when the\n",
      "        sequence is empty.\n",
      "    \n",
      "    sorted(iterable, /, *, key=None, reverse=False)\n",
      "        Return a new list containing all items from the iterable in ascending order.\n",
      "        \n",
      "        A custom key function can be supplied to customize the sort order, and the\n",
      "        reverse flag can be set to request the result in descending order.\n",
      "\n",
      "VERSION\n",
      "    0.10.0\n",
      "\n",
      "FILE\n",
      "    /home/naufal/.local/share/virtualenvs/belajar-python-functional-gCvUd8y5/lib/python3.8/site-packages/toolz/__init__.py\n",
      "\n",
      "\n"
     ]
    }
   ],
   "source": [
    "import toolz\n",
    "\n",
    "help(toolz)"
   ]
  },
  {
   "cell_type": "code",
   "execution_count": 56,
   "metadata": {},
   "outputs": [
    {
     "name": "stdout",
     "output_type": "stream",
     "text": [
      "Total of ([1, 2, 3, 4, 5, 6] + 10) : 31\n",
      "sorted [6, 3, 1, 3, 7, 8, 3, 2, 9] [1, 2, 3, 3, 3, 6, 7, 8, 9]\n"
     ]
    }
   ],
   "source": [
    "# Reduce, Sorted\n",
    "\n",
    "array_to_sum = [1,2,3,4,5,6]\n",
    "initial_value = 10\n",
    "total = toolz.reduce(lambda x, y : x + y, array_to_sum, initial_value)\n",
    "print(f\"Total of ({(array_to_sum)} + {initial_value}) : {total}\")\n",
    "\n",
    "\n",
    "array_to_sort = [6,3,1,3,7,8,3,2,9]\n",
    "print('sorted', array_to_sort, toolz.sorted(array_to_sort))"
   ]
  },
  {
   "cell_type": "code",
   "execution_count": 57,
   "metadata": {},
   "outputs": [
    {
     "name": "stdout",
     "output_type": "stream",
     "text": [
      "'100' -> convert_to_int -> + 100 -> / 10 -> * 2 =  40.0\n",
      "'100' -> 100 -> 200 -> 20 -> 40\n"
     ]
    }
   ],
   "source": [
    "\"\"\"\n",
    "Compose is function to chain multiple function, each function will process result of previous function\n",
    "\"\"\"\n",
    "\n",
    "def multiply_by_two(value):\n",
    "    return value * 2\n",
    "\n",
    "def divide_by_ten(value):\n",
    "    return value / 10\n",
    "\n",
    "def add_hundred(value):\n",
    "    return value + 100\n",
    "\n",
    "def convert_to_int(value):\n",
    "    return int(value)\n",
    "\n",
    "composed_arthm_function = toolz.compose(multiply_by_two, divide_by_ten, add_hundred, convert_to_int)\n",
    "result = composed_arthm_function(\"100\")\n",
    "print(f\"'100' -> convert_to_int -> + 100 -> / 10 -> * 2 = \", result)\n",
    "print(\"'100' -> 100 -> 200 -> 20 -> 40\")"
   ]
  },
  {
   "cell_type": "code",
   "execution_count": 58,
   "metadata": {},
   "outputs": [
    {
     "data": {
      "text/plain": [
       "[150.0, 250.0, 950.0]"
      ]
     },
     "execution_count": 58,
     "metadata": {},
     "output_type": "execute_result"
    }
   ],
   "source": [
    "#  Pipe or piping\n",
    "\"\"\"\n",
    "Pipe is function to chain multiple function, each function will process result of previous function\n",
    "\"\"\"\n",
    "from toolz.curried import pipe,map,filter \n",
    "\n",
    "multiply_add_divide_filter = pipe([1,2,3,100,200, 900], map(lambda x: x*2), \n",
    "                                  map(lambda x: x + 100), \n",
    "                                  map(lambda x: x / 2), \n",
    "                                  filter(lambda x: x > 100), \n",
    "                                  list)\n",
    "\n",
    "multiply_add_divide_filter"
   ]
  },
  {
   "cell_type": "code",
   "execution_count": 59,
   "metadata": {},
   "outputs": [],
   "source": [
    "\"\"\"\n",
    "Pipe vs Compose\n",
    "Pipe & compose have similar function, the only difference is pipe left ordered while compose is right ordered.\n",
    "\n",
    "to make it easier to understarnd, image compose is more like mathematical operation f(x(g(h(value))))\n",
    "pipe in other hand look more natural to developers, value -> h -> g -> x\n",
    "\n",
    "example of common of compose is on frontend like react\n",
    "\n",
    "const Container = (list) =>\n",
    "  <div>\n",
    "    <p> My fancy list: </p>\n",
    "    {list}\n",
    "  </div>\n",
    "\n",
    "const List = (listItems) => <ul> {listItems} </ul>\n",
    "\n",
    "const ListItem = (value) => <li key={value}> {value} </li> \n",
    "\n",
    "Which can be composed and used like so\n",
    "\n",
    "const App = (props) => compose(Container, List, map(ListItem))(props.todos)   \n",
    "\"\"\"\n",
    "\n",
    "pass"
   ]
  },
  {
   "cell_type": "code",
   "execution_count": 60,
   "metadata": {},
   "outputs": [
    {
     "name": "stdout",
     "output_type": "stream",
     "text": [
      "Help on function accumulate in module toolz.itertoolz:\n",
      "\n",
      "accumulate(binop, seq, initial='__no__default__')\n",
      "    Repeatedly apply binary function to a sequence, accumulating results\n",
      "    \n",
      "    >>> from operator import add, mul\n",
      "    >>> list(accumulate(add, [1, 2, 3, 4, 5]))\n",
      "    [1, 3, 6, 10, 15]\n",
      "    >>> list(accumulate(mul, [1, 2, 3, 4, 5]))\n",
      "    [1, 2, 6, 24, 120]\n",
      "    \n",
      "    Accumulate is similar to ``reduce`` and is good for making functions like\n",
      "    cumulative sum:\n",
      "    \n",
      "    >>> from functools import partial, reduce\n",
      "    >>> sum    = partial(reduce, add)\n",
      "    >>> cumsum = partial(accumulate, add)\n",
      "    \n",
      "    Accumulate also takes an optional argument that will be used as the first\n",
      "    value. This is similar to reduce.\n",
      "    \n",
      "    >>> list(accumulate(add, [1, 2, 3], -1))\n",
      "    [-1, 0, 2, 5]\n",
      "    >>> list(accumulate(add, [], 1))\n",
      "    [1]\n",
      "    \n",
      "    See Also:\n",
      "        itertools.accumulate :  In standard itertools for Python 3.2+\n",
      "\n"
     ]
    }
   ],
   "source": [
    "dir(toolz)\n",
    "help(toolz.accumulate)"
   ]
  }
 ],
 "metadata": {
  "kernelspec": {
   "display_name": "Python 3",
   "language": "python",
   "name": "python3"
  },
  "language_info": {
   "codemirror_mode": {
    "name": "ipython",
    "version": 3
   },
   "file_extension": ".py",
   "mimetype": "text/x-python",
   "name": "python",
   "nbconvert_exporter": "python",
   "pygments_lexer": "ipython3",
   "version": "3.8.2"
  }
 },
 "nbformat": 4,
 "nbformat_minor": 4
}
