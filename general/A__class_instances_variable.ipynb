{
 "cells": [
  {
   "cell_type": "code",
   "execution_count": 3,
   "metadata": {
    "execution": {
     "iopub.execute_input": "2020-09-03T13:30:00.986052Z",
     "iopub.status.busy": "2020-09-03T13:30:00.985336Z",
     "iopub.status.idle": "2020-09-03T13:30:01.017487Z",
     "shell.execute_reply": "2020-09-03T13:30:01.016570Z",
     "shell.execute_reply.started": "2020-09-03T13:30:00.985985Z"
    }
   },
   "outputs": [
    {
     "name": "stdout",
     "output_type": "stream",
     "text": [
      "The lab_black extension is already loaded. To reload it, use:\n",
      "  %reload_ext lab_black\n",
      "employee 1 pay : 10000\n",
      "employee 2 pay : 10000\n",
      "employee 1 pay : 20000\n"
     ]
    }
   ],
   "source": [
    "%load_ext lab_black\n",
    "# Crete class\n",
    "class Employee:\n",
    "    def __init__(self, name, pay):\n",
    "        self.name = name\n",
    "        self.pay = pay\n",
    "\n",
    "    def raise_pay(self, multiplier):\n",
    "        self.pay *= multiplier\n",
    "\n",
    "\n",
    "employee_1 = Employee(\"Budi\", 10000)\n",
    "employee_2 = Employee(\"Agus\", 10000)\n",
    "\n",
    "print(f\"employee 1 pay : {employee_1.pay}\")\n",
    "print(f\"employee 2 pay : {employee_1.pay}\")\n",
    "\n",
    "employee_1.raise_pay(2)\n",
    "print(f\"employee 1 pay : {employee_1.pay}\")"
   ]
  },
  {
   "cell_type": "code",
   "execution_count": 4,
   "metadata": {
    "execution": {
     "iopub.execute_input": "2020-09-03T13:30:03.752054Z",
     "iopub.status.busy": "2020-09-03T13:30:03.751716Z",
     "iopub.status.idle": "2020-09-03T13:30:03.767513Z",
     "shell.execute_reply": "2020-09-03T13:30:03.766421Z",
     "shell.execute_reply.started": "2020-09-03T13:30:03.752022Z"
    }
   },
   "outputs": [
    {
     "name": "stdout",
     "output_type": "stream",
     "text": [
      "{'name': 'Budi', 'semester': 1}\n",
      "{'name': 'Agus', 'semester': 1}\n",
      "{'name': 'Budi Baru', 'semester': 1}\n",
      "{'name': 'Agus', 'semester': 1}\n",
      "student_1 univertisy : UAD\n",
      "student_2 univertisy : UAD\n",
      "student_1 univertisy : UGM\n",
      "student_2 univertisy : UGM\n"
     ]
    }
   ],
   "source": [
    "# Class Variable & Intence Variable\n",
    "\n",
    "\n",
    "class Student:\n",
    "    university = \"UAD\"\n",
    "\n",
    "    def __init__(self, name, semester=1):\n",
    "        self.name = name\n",
    "        self.semester = semester\n",
    "\n",
    "\n",
    "student_1 = Student(\"Budi\")\n",
    "student_2 = Student(\"Agus\")\n",
    "\n",
    "print(student_1.__dict__)\n",
    "print(student_2.__dict__)\n",
    "\n",
    "student_1.name = \"Budi Baru\"\n",
    "print(student_1.__dict__)\n",
    "print(student_2.__dict__)\n",
    "\n",
    "print(f\"student_1 univertisy : {student_1.university}\")\n",
    "print(f\"student_2 univertisy : {student_2.university}\")\n",
    "\n",
    "Student.university = \"UGM\"\n",
    "print(f\"student_1 univertisy : {student_1.university}\")\n",
    "print(f\"student_2 univertisy : {student_2.university}\")"
   ]
  },
  {
   "cell_type": "code",
   "execution_count": 5,
   "metadata": {
    "execution": {
     "iopub.execute_input": "2020-09-03T13:30:06.409121Z",
     "iopub.status.busy": "2020-09-03T13:30:06.408421Z",
     "iopub.status.idle": "2020-09-03T13:30:06.439933Z",
     "shell.execute_reply": "2020-09-03T13:30:06.438935Z",
     "shell.execute_reply.started": "2020-09-03T13:30:06.409056Z"
    }
   },
   "outputs": [
    {
     "name": "stdout",
     "output_type": "stream",
     "text": [
      "Pet : Cat, Num Of Pets : 3 \n",
      "Pet : Dog, Num Of Pets : 3 \n",
      "Pet : Fish, Num Of Pets : 3 \n"
     ]
    }
   ],
   "source": [
    "# Example Variable & Intence Variable\n",
    "\n",
    "\n",
    "class Pet:\n",
    "    num_of_pets = 0\n",
    "\n",
    "    def __init__(self, name):\n",
    "        self.name = name\n",
    "        Pet.num_of_pets += 1\n",
    "\n",
    "\n",
    "cat = Pet(\"Cat\")\n",
    "dog = Pet(\"Dog\")\n",
    "fish = Pet(\"Fish\")\n",
    "\n",
    "print(\"Pet : {}, Num Of Pets : {} \".format(cat.name, cat.num_of_pets))\n",
    "print(\"Pet : {}, Num Of Pets : {} \".format(dog.name, dog.num_of_pets))\n",
    "print(\"Pet : {}, Num Of Pets : {} \".format(fish.name, fish.num_of_pets))"
   ]
  },
  {
   "cell_type": "code",
   "execution_count": 6,
   "metadata": {
    "execution": {
     "iopub.execute_input": "2020-09-03T13:30:08.710167Z",
     "iopub.status.busy": "2020-09-03T13:30:08.709452Z",
     "iopub.status.idle": "2020-09-03T13:30:08.727365Z",
     "shell.execute_reply": "2020-09-03T13:30:08.726339Z",
     "shell.execute_reply.started": "2020-09-03T13:30:08.710100Z"
    }
   },
   "outputs": [
    {
     "name": "stdout",
     "output_type": "stream",
     "text": [
      "{'temp': None}\n"
     ]
    }
   ],
   "source": [
    "# Self is intance of a class\n",
    "class Example:\n",
    "    def __init__(self):\n",
    "        self.temp = None\n",
    "        print(self.__dict__)\n",
    "\n",
    "\n",
    "example_object = Example()"
   ]
  }
 ],
 "metadata": {
  "kernelspec": {
   "display_name": "Python 3",
   "language": "python",
   "name": "python3"
  },
  "language_info": {
   "codemirror_mode": {
    "name": "ipython",
    "version": 3
   },
   "file_extension": ".py",
   "mimetype": "text/x-python",
   "name": "python",
   "nbconvert_exporter": "python",
   "pygments_lexer": "ipython3",
   "version": "3.8.2"
  }
 },
 "nbformat": 4,
 "nbformat_minor": 4
}
