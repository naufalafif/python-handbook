{
 "cells": [
  {
   "cell_type": "code",
   "execution_count": 35,
   "metadata": {},
   "outputs": [
    {
     "name": "stdout",
     "output_type": "stream",
     "text": [
      "employee 1 pay : 10000\n",
      "employee 2 pay : 10000\n",
      "employee 1 pay : 20000\n"
     ]
    }
   ],
   "source": [
    "# Crete class\n",
    "\n",
    "class Employee:\n",
    "    def __init__(self, name, pay):\n",
    "        self.name = name\n",
    "        self.pay = pay\n",
    "    \n",
    "    def raise_pay(self, multiplier):\n",
    "        self.pay *= multiplier\n",
    "        \n",
    "employee_1 = Employee(\"Budi\", 10000)\n",
    "employee_2 = Employee(\"Agus\", 10000)\n",
    "\n",
    "print(f\"employee 1 pay : {employee_1.pay}\")\n",
    "print(f\"employee 2 pay : {employee_1.pay}\")\n",
    "\n",
    "employee_1.raise_pay(2)\n",
    "print(f\"employee 1 pay : {employee_1.pay}\")"
   ]
  },
  {
   "cell_type": "code",
   "execution_count": 51,
   "metadata": {},
   "outputs": [
    {
     "name": "stdout",
     "output_type": "stream",
     "text": [
      "{'name': 'Budi', 'semester': 1}\n",
      "{'name': 'Agus', 'semester': 1}\n",
      "{'name': 'Budi Baru', 'semester': 1}\n",
      "{'name': 'Agus', 'semester': 1}\n",
      "student_1 univertisy : UAD\n",
      "student_2 univertisy : UAD\n",
      "student_1 univertisy : UGM\n",
      "student_2 univertisy : UGM\n"
     ]
    }
   ],
   "source": [
    "# Class Variable & Intence Variable\n",
    "\n",
    "class Student:\n",
    "    university = \"UAD\"\n",
    "    def __init__(self, name, semester = 1):\n",
    "        self.name = name\n",
    "        self.semester = semester\n",
    "\n",
    "student_1 = Student(\"Budi\")\n",
    "student_2 = Student(\"Agus\")\n",
    "\n",
    "print(student_1.__dict__)\n",
    "print(student_2.__dict__)\n",
    "\n",
    "student_1.name = \"Budi Baru\"\n",
    "print(student_1.__dict__)\n",
    "print(student_2.__dict__)\n",
    "\n",
    "print(f\"student_1 univertisy : {student_1.university}\")\n",
    "print(f\"student_2 univertisy : {student_2.university}\")\n",
    "\n",
    "Student.university =  \"UGM\"\n",
    "print(f\"student_1 univertisy : {student_1.university}\")\n",
    "print(f\"student_2 univertisy : {student_2.university}\")"
   ]
  },
  {
   "cell_type": "code",
   "execution_count": 65,
   "metadata": {},
   "outputs": [
    {
     "name": "stdout",
     "output_type": "stream",
     "text": [
      "Pet : Cat, Num Of Pets : 3 \n",
      "Pet : Dog, Num Of Pets : 3 \n",
      "Pet : Fish, Num Of Pets : 3 \n"
     ]
    }
   ],
   "source": [
    "# Example Variable & Intence Variable\n",
    "\n",
    "class Pet:\n",
    "    num_of_pets = 0\n",
    "    def __init__(self, name):\n",
    "        self.name = name\n",
    "        Pet.num_of_pets += 1\n",
    "        \n",
    "cat = Pet(\"Cat\")\n",
    "dog = Pet(\"Dog\")\n",
    "fish = Pet(\"Fish\")\n",
    "\n",
    "print(\"Pet : {}, Num Of Pets : {} \".format(cat.name, cat.num_of_pets))\n",
    "print(\"Pet : {}, Num Of Pets : {} \".format(dog.name, dog.num_of_pets))\n",
    "print(\"Pet : {}, Num Of Pets : {} \".format(fish.name, fish.num_of_pets))"
   ]
  },
  {
   "cell_type": "code",
   "execution_count": 71,
   "metadata": {},
   "outputs": [
    {
     "name": "stdout",
     "output_type": "stream",
     "text": [
      "{'temp': None}\n"
     ]
    }
   ],
   "source": [
    "# Self is intance of a class\n",
    "class Example:\n",
    "    def __init__(self):\n",
    "        self.temp = None\n",
    "        print(self.__dict__)\n",
    "        \n",
    "example_object = Example()"
   ]
  }
 ],
 "metadata": {
  "kernelspec": {
   "display_name": "Python 3",
   "language": "python",
   "name": "python3"
  },
  "language_info": {
   "codemirror_mode": {
    "name": "ipython",
    "version": 3
   },
   "file_extension": ".py",
   "mimetype": "text/x-python",
   "name": "python",
   "nbconvert_exporter": "python",
   "pygments_lexer": "ipython3",
   "version": "3.6.9"
  }
 },
 "nbformat": 4,
 "nbformat_minor": 4
}
