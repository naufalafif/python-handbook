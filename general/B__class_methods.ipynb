{
 "cells": [
  {
   "cell_type": "code",
   "execution_count": 7,
   "metadata": {
    "execution": {
     "iopub.execute_input": "2020-09-03T13:31:05.883581Z",
     "iopub.status.busy": "2020-09-03T13:31:05.883364Z",
     "iopub.status.idle": "2020-09-03T13:31:05.899251Z",
     "shell.execute_reply": "2020-09-03T13:31:05.898594Z",
     "shell.execute_reply.started": "2020-09-03T13:31:05.883561Z"
    }
   },
   "outputs": [
    {
     "name": "stdout",
     "output_type": "stream",
     "text": [
      "The lab_black extension is already loaded. To reload it, use:\n",
      "  %reload_ext lab_black\n",
      "Budi salary : 10000 \n",
      "Agus salary : 10000 \n",
      "Budi salary (raise class method) : 40000 \n",
      "Agus salary (raise class method) : 40000 \n",
      "Budi salary : 40000 \n",
      "Agus salary (raise instance method) : 80000 \n"
     ]
    }
   ],
   "source": [
    "%load_ext lab_black\n",
    "# Methodclass\n",
    "\n",
    "\n",
    "class Employee:\n",
    "    salary = 10000\n",
    "\n",
    "    def __init__(self, name):\n",
    "        self.name = name\n",
    "\n",
    "    # default method accept intance as parameter\n",
    "    def multiply_current_emplyee_salary(self, multiplier):\n",
    "        self.salary = self.salary * multiplier\n",
    "\n",
    "    # classmethod accept class as parameter\n",
    "    @classmethod\n",
    "    def multiply_all_employee_salary(cls, multiplier):\n",
    "        cls.salary = cls.salary * multiplier\n",
    "\n",
    "\n",
    "employee_1 = Employee(\"Budi\")\n",
    "employee_2 = Employee(\"Agus\")\n",
    "\n",
    "print(f\"{employee_1.name} salary : {employee_1.salary} \")\n",
    "print(f\"{employee_2.name} salary : {employee_2.salary} \")\n",
    "\n",
    "Employee.multiply_all_employee_salary(4)\n",
    "print(f\"{employee_1.name} salary (raise class method) : {employee_1.salary} \")\n",
    "print(f\"{employee_2.name} salary (raise class method) : {employee_2.salary} \")\n",
    "\n",
    "employee_2.multiply_current_emplyee_salary(2)\n",
    "print(f\"{employee_1.name} salary : {employee_1.salary} \")\n",
    "print(f\"{employee_2.name} salary (raise instance method) : {employee_2.salary} \")"
   ]
  },
  {
   "cell_type": "code",
   "execution_count": 8,
   "metadata": {
    "execution": {
     "iopub.execute_input": "2020-09-03T13:31:05.900389Z",
     "iopub.status.busy": "2020-09-03T13:31:05.900175Z",
     "iopub.status.idle": "2020-09-03T13:31:05.974493Z",
     "shell.execute_reply": "2020-09-03T13:31:05.973719Z",
     "shell.execute_reply.started": "2020-09-03T13:31:05.900368Z"
    }
   },
   "outputs": [
    {
     "name": "stdout",
     "output_type": "stream",
     "text": [
      "Student 1 : {'name': 'Budi', 'address': 'Ngaglik', 'semester': 1}\n",
      "Student 2 : {'name': 'Agus', 'address': 'Banguntapan', 'semester': '2'}\n"
     ]
    }
   ],
   "source": [
    "# Example of classmethod usage\n",
    "\n",
    "\n",
    "class Student:\n",
    "    def __init__(self, name, address, semester):\n",
    "        self.name = name\n",
    "        self.address = address\n",
    "        self.semester = semester\n",
    "\n",
    "    @classmethod\n",
    "    def from_string(cls, string):\n",
    "        name, address, semester = string.split(\"-\")\n",
    "        return cls(name, address, semester)\n",
    "\n",
    "\n",
    "# using default initillize function\n",
    "student_1 = Student(\"Budi\", \"Ngaglik\", 1)\n",
    "student_2 = Student.from_string(\"Agus-Banguntapan-2\")\n",
    "\n",
    "print(f\"Student 1 : {student_1.__dict__}\")\n",
    "print(f\"Student 2 : {student_2.__dict__}\")"
   ]
  },
  {
   "cell_type": "code",
   "execution_count": 9,
   "metadata": {
    "execution": {
     "iopub.execute_input": "2020-09-03T13:31:05.975718Z",
     "iopub.status.busy": "2020-09-03T13:31:05.975517Z",
     "iopub.status.idle": "2020-09-03T13:31:06.084884Z",
     "shell.execute_reply": "2020-09-03T13:31:06.082951Z",
     "shell.execute_reply.started": "2020-09-03T13:31:05.975698Z"
    }
   },
   "outputs": [
    {
     "name": "stdout",
     "output_type": "stream",
     "text": [
      "1 + 2 = 3\n",
      "1 - 2 = -1\n"
     ]
    }
   ],
   "source": [
    "# Static Methods\n",
    "\n",
    "\n",
    "class Number:\n",
    "    @staticmethod\n",
    "    def add(x, y):\n",
    "        return x + y\n",
    "\n",
    "    @staticmethod\n",
    "    def sub(x, y):\n",
    "        return x - y\n",
    "\n",
    "\n",
    "print(f\"1 + 2 = {Number.add(1,2)}\")\n",
    "print(f\"1 - 2 = {Number.sub(1,2)}\")"
   ]
  },
  {
   "cell_type": "code",
   "execution_count": 10,
   "metadata": {
    "execution": {
     "iopub.execute_input": "2020-09-03T13:31:06.087987Z",
     "iopub.status.busy": "2020-09-03T13:31:06.087271Z",
     "iopub.status.idle": "2020-09-03T13:31:06.097080Z",
     "shell.execute_reply": "2020-09-03T13:31:06.095937Z",
     "shell.execute_reply.started": "2020-09-03T13:31:06.087922Z"
    }
   },
   "outputs": [
    {
     "data": {
      "text/plain": [
       "'\\n\\nReguler Method : always accept an intance of class as parameter\\nClass Method : always accept the class as paramter\\nStatic Method : dont accept anything as paramter, work just like normal function without classes\\n\\nNote : use static method if u dont use class state/attribute\\n\\n'"
      ]
     },
     "execution_count": 10,
     "metadata": {},
     "output_type": "execute_result"
    }
   ],
   "source": [
    "\"\"\"\n",
    "\n",
    "Reguler Method : always accept an intance of class as parameter\n",
    "Class Method : always accept the class as paramter\n",
    "Static Method : dont accept anything as paramter, work just like normal function without classes\n",
    "\n",
    "Note : use static method if u dont use class state/attribute\n",
    "\n",
    "\"\"\""
   ]
  }
 ],
 "metadata": {
  "kernelspec": {
   "display_name": "Python 3",
   "language": "python",
   "name": "python3"
  },
  "language_info": {
   "codemirror_mode": {
    "name": "ipython",
    "version": 3
   },
   "file_extension": ".py",
   "mimetype": "text/x-python",
   "name": "python",
   "nbconvert_exporter": "python",
   "pygments_lexer": "ipython3",
   "version": "3.8.2"
  }
 },
 "nbformat": 4,
 "nbformat_minor": 4
}
