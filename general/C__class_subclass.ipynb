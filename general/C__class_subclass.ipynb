{
 "cells": [
  {
   "cell_type": "code",
   "execution_count": 1,
   "metadata": {
    "execution": {
     "iopub.execute_input": "2020-09-03T13:31:15.346694Z",
     "iopub.status.busy": "2020-09-03T13:31:15.346292Z",
     "iopub.status.idle": "2020-09-03T13:31:15.411780Z",
     "shell.execute_reply": "2020-09-03T13:31:15.410783Z",
     "shell.execute_reply.started": "2020-09-03T13:31:15.346657Z"
    }
   },
   "outputs": [
    {
     "name": "stdout",
     "output_type": "stream",
     "text": [
      "budi object attributes : {'name': 'budi'}\n",
      "budi salary : 100000\n",
      "budi salary after mutiplied: 200000\n"
     ]
    }
   ],
   "source": [
    "%load_ext lab_black\n",
    "\n",
    "\n",
    "class Employee:\n",
    "    salary = 100000\n",
    "\n",
    "    def __init__(self, name):\n",
    "        self.name = name\n",
    "\n",
    "    def multiply_salary(self, multiplier):\n",
    "        self.salary = self.salary * multiplier\n",
    "\n",
    "\n",
    "class Developer(Employee):\n",
    "    pass\n",
    "\n",
    "\n",
    "employee_budi = Developer(\"budi\")\n",
    "print(f\"budi object attributes : {employee_budi.__dict__}\")\n",
    "print(f\"budi salary : {employee_budi.salary}\")\n",
    "employee_budi.multiply_salary(2)\n",
    "print(f\"budi salary after mutiplied: {employee_budi.salary}\")"
   ]
  },
  {
   "cell_type": "code",
   "execution_count": 2,
   "metadata": {
    "execution": {
     "iopub.execute_input": "2020-09-03T13:31:15.413226Z",
     "iopub.status.busy": "2020-09-03T13:31:15.412850Z",
     "iopub.status.idle": "2020-09-03T13:31:15.421295Z",
     "shell.execute_reply": "2020-09-03T13:31:15.420518Z",
     "shell.execute_reply.started": "2020-09-03T13:31:15.413199Z"
    }
   },
   "outputs": [
    {
     "name": "stdout",
     "output_type": "stream",
     "text": [
      "budi object attributes : {'name': 'agus', 'programming_language': 'golang'}\n"
     ]
    }
   ],
   "source": [
    "class Developer(Employee):\n",
    "    def __init__(self, name, programming_language):\n",
    "        super().__init__(name)\n",
    "        self.programming_language = programming_language\n",
    "\n",
    "\n",
    "employee_agus = Developer(\"agus\", \"golang\")\n",
    "print(f\"budi object attributes : {employee_agus.__dict__}\")"
   ]
  },
  {
   "cell_type": "code",
   "execution_count": 3,
   "metadata": {
    "execution": {
     "iopub.execute_input": "2020-09-03T13:31:15.422766Z",
     "iopub.status.busy": "2020-09-03T13:31:15.422499Z",
     "iopub.status.idle": "2020-09-03T13:31:15.476179Z",
     "shell.execute_reply": "2020-09-03T13:31:15.474750Z",
     "shell.execute_reply.started": "2020-09-03T13:31:15.422742Z"
    }
   },
   "outputs": [
    {
     "name": "stdout",
     "output_type": "stream",
     "text": [
      "Help on Developer in module __main__ object:\n",
      "\n",
      "class Developer(Employee)\n",
      " |  Developer(name, programming_language)\n",
      " |  \n",
      " |  Method resolution order:\n",
      " |      Developer\n",
      " |      Employee\n",
      " |      builtins.object\n",
      " |  \n",
      " |  Methods defined here:\n",
      " |  \n",
      " |  __init__(self, name, programming_language)\n",
      " |      Initialize self.  See help(type(self)) for accurate signature.\n",
      " |  \n",
      " |  ----------------------------------------------------------------------\n",
      " |  Methods inherited from Employee:\n",
      " |  \n",
      " |  multiply_salary(self, multiplier)\n",
      " |  \n",
      " |  ----------------------------------------------------------------------\n",
      " |  Data descriptors inherited from Employee:\n",
      " |  \n",
      " |  __dict__\n",
      " |      dictionary for instance variables (if defined)\n",
      " |  \n",
      " |  __weakref__\n",
      " |      list of weak references to the object (if defined)\n",
      " |  \n",
      " |  ----------------------------------------------------------------------\n",
      " |  Data and other attributes inherited from Employee:\n",
      " |  \n",
      " |  salary = 100000\n",
      "\n"
     ]
    }
   ],
   "source": [
    "# See How Class Work\n",
    "help(employee_agus)\n",
    "\n",
    "\"\"\"\n",
    "When class are build or the object is created, then the program will look for value & method using specific order called Method Resolution Order\n",
    "--> First it will look up the intance object \n",
    "--> then it's parent --> it's parent, till there are no parent\n",
    "--> builtind.object (object of all classes)\n",
    "\n",
    "\"\"\"\n",
    "pass"
   ]
  },
  {
   "cell_type": "code",
   "execution_count": 4,
   "metadata": {
    "execution": {
     "iopub.execute_input": "2020-09-03T13:31:15.477463Z",
     "iopub.status.busy": "2020-09-03T13:31:15.477241Z",
     "iopub.status.idle": "2020-09-03T13:31:15.567166Z",
     "shell.execute_reply": "2020-09-03T13:31:15.566193Z",
     "shell.execute_reply.started": "2020-09-03T13:31:15.477442Z"
    }
   },
   "outputs": [
    {
     "name": "stdout",
     "output_type": "stream",
     "text": [
      "Manager : Aan\n",
      "Manager Aan's Develoeprs :\n",
      "----> Adi\n",
      "----> Andi\n",
      "Total Employee : 3\n"
     ]
    }
   ],
   "source": [
    "class Employee:\n",
    "    salary = 100000\n",
    "    num_of_employee = 0\n",
    "\n",
    "    def __init__(self, name):\n",
    "        self.name = name\n",
    "        Employee.num_of_employee += 1\n",
    "\n",
    "    def multiply_salary(self, multiplier):\n",
    "        self.salary = self.salary * multiplier\n",
    "\n",
    "\n",
    "class Developer(Employee):\n",
    "    def __init__(self, name, programming_language):\n",
    "        super().__init__(name)\n",
    "        self.programming_language = programming_language\n",
    "\n",
    "\n",
    "class Manager(Employee):\n",
    "    def __init__(self, name, developers=None):\n",
    "        super().__init__(name)\n",
    "        if developers is not None:\n",
    "            self.developers = developers\n",
    "        else:\n",
    "            self.developers = []\n",
    "\n",
    "    def print_developers(self):\n",
    "        for dev in self.developers:\n",
    "            print(\"----> {}\".format(dev.name))\n",
    "\n",
    "\n",
    "developer_1 = Developer(\"Adi\", \"Golang\")\n",
    "developer_2 = Developer(\"Andi\", \"PHP\")\n",
    "\n",
    "manager_1 = Manager(\"Aan\", [developer_1, developer_2])\n",
    "print(f\"Manager : {manager_1.name}\")\n",
    "print(f\"Manager {manager_1.name}'s Develoeprs :\")\n",
    "manager_1.print_developers()\n",
    "\n",
    "print(f\"Total Employee : {Employee.num_of_employee}\")"
   ]
  },
  {
   "cell_type": "code",
   "execution_count": 5,
   "metadata": {
    "execution": {
     "iopub.execute_input": "2020-09-03T13:31:15.568936Z",
     "iopub.status.busy": "2020-09-03T13:31:15.568613Z",
     "iopub.status.idle": "2020-09-03T13:31:15.587510Z",
     "shell.execute_reply": "2020-09-03T13:31:15.586468Z",
     "shell.execute_reply.started": "2020-09-03T13:31:15.568905Z"
    }
   },
   "outputs": [
    {
     "name": "stdout",
     "output_type": "stream",
     "text": [
      "<__main__.Developer object at 0x7fcd8a974910>\n",
      "<__main__.Developer object at 0x7fcd8a974940>\n",
      "<__main__.Manager object at 0x7fcd8a974820>\n",
      "\n",
      "developer_1 is instance of Developer : True\n",
      "developer_1 is instance of Employee : True\n",
      "developer_1 is instance of Manager : False\n",
      "\n",
      "Developer is subclass of Developer : True\n",
      "Developer is subclass of Employee : True\n",
      "Developer is subclass of Manager : False\n"
     ]
    }
   ],
   "source": [
    "# IsInstance & IsSubclass\n",
    "\n",
    "print(developer_1)\n",
    "print(developer_2)\n",
    "print(manager_1, end=\"\\n\\n\")\n",
    "\n",
    "print(f\"developer_1 is instance of Developer : {isinstance(developer_1, Developer)}\")\n",
    "print(f\"developer_1 is instance of Employee : {isinstance(developer_1, Employee)}\")\n",
    "print(\n",
    "    f\"developer_1 is instance of Manager : {isinstance(developer_1, Manager)}\",\n",
    "    end=\"\\n\\n\",\n",
    ")\n",
    "\n",
    "print(f\"Developer is subclass of Developer : {issubclass(Developer, Developer)}\")\n",
    "print(f\"Developer is subclass of Employee : {issubclass(Developer, Employee)}\")\n",
    "print(f\"Developer is subclass of Manager : {issubclass(Developer, Manager)}\")"
   ]
  }
 ],
 "metadata": {
  "kernelspec": {
   "display_name": "Python 3",
   "language": "python",
   "name": "python3"
  },
  "language_info": {
   "codemirror_mode": {
    "name": "ipython",
    "version": 3
   },
   "file_extension": ".py",
   "mimetype": "text/x-python",
   "name": "python",
   "nbconvert_exporter": "python",
   "pygments_lexer": "ipython3",
   "version": "3.8.2"
  }
 },
 "nbformat": 4,
 "nbformat_minor": 4
}
