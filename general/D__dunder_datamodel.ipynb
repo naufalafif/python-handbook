{
 "cells": [
  {
   "cell_type": "code",
   "execution_count": 1,
   "metadata": {
    "execution": {
     "iopub.execute_input": "2020-09-03T13:31:23.537169Z",
     "iopub.status.busy": "2020-09-03T13:31:23.536863Z",
     "iopub.status.idle": "2020-09-03T13:31:23.608772Z",
     "shell.execute_reply": "2020-09-03T13:31:23.607918Z",
     "shell.execute_reply.started": "2020-09-03T13:31:23.537140Z"
    }
   },
   "outputs": [
    {
     "name": "stdout",
     "output_type": "stream",
     "text": [
      "Class get initialize with params : Name\n",
      "This is what printed when u print class object\n",
      "This is what u get when do aritmatic add operation to this class\n",
      "This is what u get when do aritmatic sub operation to this class\n"
     ]
    },
    {
     "data": {
      "text/plain": [
       "'This is the representation of class. some kind of info about this class'"
      ]
     },
     "execution_count": 1,
     "metadata": {},
     "output_type": "execute_result"
    }
   ],
   "source": [
    "%load_ext lab_black\n",
    "# datamodel\n",
    "\n",
    "\n",
    "class ExampleClass:\n",
    "    def __init__(self, data):\n",
    "        print(\"Class get initialize with params :\", data)\n",
    "        self.data = data\n",
    "\n",
    "    def __repr__(self):\n",
    "        return \"This is the representation of class. some kind of info about this class\"\n",
    "\n",
    "    def __str__(self):\n",
    "        return \"This is what printed when u print class object\"\n",
    "\n",
    "    def __add__(self, other):\n",
    "        print(\"This is what u get when do aritmatic add operation to this class\")\n",
    "        return 0\n",
    "\n",
    "    def __sub__(self, other):\n",
    "        print(\"This is what u get when do aritmatic sub operation to this class\")\n",
    "        return 0\n",
    "\n",
    "\n",
    "ExampleObject = ExampleClass(\"Name\")\n",
    "print(ExampleObject)\n",
    "ExampleObject + 1\n",
    "ExampleObject - 1\n",
    "repr(ExampleObject)"
   ]
  },
  {
   "cell_type": "code",
   "execution_count": 2,
   "metadata": {
    "execution": {
     "iopub.execute_input": "2020-09-03T13:31:23.610355Z",
     "iopub.status.busy": "2020-09-03T13:31:23.609845Z",
     "iopub.status.idle": "2020-09-03T13:31:23.627038Z",
     "shell.execute_reply": "2020-09-03T13:31:23.625489Z",
     "shell.execute_reply.started": "2020-09-03T13:31:23.610324Z"
    }
   },
   "outputs": [
    {
     "data": {
      "text/plain": [
       "Polynomial ((4, 6, 8))"
      ]
     },
     "execution_count": 2,
     "metadata": {},
     "output_type": "execute_result"
    }
   ],
   "source": [
    "class Polynomial:\n",
    "    def __init__(self, *coeff):\n",
    "        self.coeff = coeff\n",
    "\n",
    "    def __repr__(self):\n",
    "        return \"Polynomial ({})\".format(self.coeff)\n",
    "\n",
    "    def __add__(self, other):\n",
    "        return Polynomial(*(x + y for x, y in zip(self.coeff, other.coeff)))\n",
    "\n",
    "\n",
    "polynomial_object = Polynomial(1, 2, 3)\n",
    "repr(polynomial_object)\n",
    "second_polynomial_object = Polynomial(3, 4, 5)\n",
    "polynomial_object + second_polynomial_object"
   ]
  },
  {
   "cell_type": "code",
   "execution_count": 3,
   "metadata": {
    "execution": {
     "iopub.execute_input": "2020-09-03T13:31:23.628775Z",
     "iopub.status.busy": "2020-09-03T13:31:23.628275Z",
     "iopub.status.idle": "2020-09-03T13:31:23.748064Z",
     "shell.execute_reply": "2020-09-03T13:31:23.745197Z",
     "shell.execute_reply.started": "2020-09-03T13:31:23.628750Z"
    }
   },
   "outputs": [
    {
     "ename": "SyntaxError",
     "evalue": "invalid syntax (<ipython-input-3-18021388b423>, line 6)",
     "output_type": "error",
     "traceback": [
      "\u001b[0;36m  File \u001b[0;32m\"<ipython-input-3-18021388b423>\"\u001b[0;36m, line \u001b[0;32m6\u001b[0m\n\u001b[0;31m    def __next__()\u001b[0m\n\u001b[0m                  ^\u001b[0m\n\u001b[0;31mSyntaxError\u001b[0m\u001b[0;31m:\u001b[0m invalid syntax\n"
     ]
    },
    {
     "name": "stderr",
     "output_type": "stream",
     "text": [
      "ERROR:root:Cannot parse: 6:18:     def __next__()\n",
      "Traceback (most recent call last):\n",
      "  File \"/usr/local/lib/python3.8/dist-packages/lab_black.py\", line 218, in format_cell\n",
      "    formatted_code = _format_code(cell)\n",
      "  File \"/usr/local/lib/python3.8/dist-packages/lab_black.py\", line 29, in _format_code\n",
      "    return format_str(src_contents=code, mode=FileMode())\n",
      "  File \"/home/naufal/.local/lib/python3.8/site-packages/black.py\", line 725, in format_str\n",
      "    src_node = lib2to3_parse(src_contents.lstrip(), mode.target_versions)\n",
      "  File \"/home/naufal/.local/lib/python3.8/site-packages/black.py\", line 836, in lib2to3_parse\n",
      "    raise exc from None\n",
      "black.InvalidInput: Cannot parse: 6:18:     def __next__()\n"
     ]
    }
   ],
   "source": [
    "class IteratedClass:\n",
    "    def __init__(self):\n",
    "        self._index = 0\n",
    "        self._max = 10\n",
    "    \n",
    "    def __next__()\n",
    "        \n",
    "generator_object = Generator()\n",
    "\n"
   ]
  }
 ],
 "metadata": {
  "kernelspec": {
   "display_name": "Python 3",
   "language": "python",
   "name": "python3"
  },
  "language_info": {
   "codemirror_mode": {
    "name": "ipython",
    "version": 3
   },
   "file_extension": ".py",
   "mimetype": "text/x-python",
   "name": "python",
   "nbconvert_exporter": "python",
   "pygments_lexer": "ipython3",
   "version": "3.8.2"
  }
 },
 "nbformat": 4,
 "nbformat_minor": 4
}
