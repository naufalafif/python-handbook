{
 "cells": [
  {
   "cell_type": "markdown",
   "metadata": {},
   "source": [
    "# Decorator\n",
    "\n",
    "A decorator takes in a function, adds some functionality and returns it. the returned value/function can be a value or another function or the function it self with some additional changes"
   ]
  },
  {
   "cell_type": "code",
   "execution_count": 22,
   "metadata": {
    "execution": {
     "iopub.execute_input": "2020-10-04T09:46:15.701819Z",
     "iopub.status.busy": "2020-10-04T09:46:15.701488Z",
     "iopub.status.idle": "2020-10-04T09:46:15.708899Z",
     "shell.execute_reply": "2020-10-04T09:46:15.707587Z",
     "shell.execute_reply.started": "2020-10-04T09:46:15.701783Z"
    }
   },
   "outputs": [
    {
     "name": "stdout",
     "output_type": "stream",
     "text": [
      "The lab_black extension is already loaded. To reload it, use:\n",
      "  %reload_ext lab_black\n"
     ]
    }
   ],
   "source": [
    "%load_ext lab_black"
   ]
  },
  {
   "cell_type": "code",
   "execution_count": 23,
   "metadata": {
    "execution": {
     "iopub.execute_input": "2020-10-04T09:46:15.711324Z",
     "iopub.status.busy": "2020-10-04T09:46:15.710670Z",
     "iopub.status.idle": "2020-10-04T09:46:15.722390Z",
     "shell.execute_reply": "2020-10-04T09:46:15.721751Z",
     "shell.execute_reply.started": "2020-10-04T09:46:15.711284Z"
    }
   },
   "outputs": [
    {
     "data": {
      "text/plain": [
       "10"
      ]
     },
     "execution_count": 23,
     "metadata": {},
     "output_type": "execute_result"
    }
   ],
   "source": [
    "def turn_function_into_value(func):\n",
    "    return 10\n",
    "\n",
    "\n",
    "@turn_function_into_value\n",
    "def get_name():\n",
    "    return \"naufal\"\n",
    "\n",
    "\n",
    "get_name  # get_name is no longer a function because decorator turn it into a value"
   ]
  },
  {
   "cell_type": "code",
   "execution_count": 24,
   "metadata": {
    "execution": {
     "iopub.execute_input": "2020-10-04T09:46:15.723688Z",
     "iopub.status.busy": "2020-10-04T09:46:15.723495Z",
     "iopub.status.idle": "2020-10-04T09:46:15.731268Z",
     "shell.execute_reply": "2020-10-04T09:46:15.730699Z",
     "shell.execute_reply.started": "2020-10-04T09:46:15.723665Z"
    }
   },
   "outputs": [
    {
     "data": {
      "text/plain": [
       "'witri'"
      ]
     },
     "execution_count": 24,
     "metadata": {},
     "output_type": "execute_result"
    }
   ],
   "source": [
    "def return_passed_function(func):\n",
    "    return func\n",
    "\n",
    "\n",
    "@return_passed_function\n",
    "def get_name():\n",
    "    return \"witri\"\n",
    "\n",
    "\n",
    "get_name()  # decorator get thefunction & return it without any changes made"
   ]
  },
  {
   "cell_type": "markdown",
   "metadata": {},
   "source": [
    "### example1 - time decorator. print time elapsed in functino execution"
   ]
  },
  {
   "cell_type": "code",
   "execution_count": 25,
   "metadata": {
    "execution": {
     "iopub.execute_input": "2020-10-04T09:46:15.732531Z",
     "iopub.status.busy": "2020-10-04T09:46:15.732348Z",
     "iopub.status.idle": "2020-10-04T09:46:15.746301Z",
     "shell.execute_reply": "2020-10-04T09:46:15.745685Z",
     "shell.execute_reply.started": "2020-10-04T09:46:15.732512Z"
    }
   },
   "outputs": [
    {
     "name": "stdout",
     "output_type": "stream",
     "text": [
      "elapsed 9.5367431640625e-07\n",
      "20\n",
      "elapsed 7.152557373046875e-07\n",
      "5\n"
     ]
    }
   ],
   "source": [
    "from time import time\n",
    "\n",
    "\n",
    "def timer(func):\n",
    "    def wrapper(*args, **kwargs):\n",
    "        before = time()\n",
    "        returned_function = func(*args, **kwargs)\n",
    "        after = time()\n",
    "        print(\"elapsed {}\".format(after - before))\n",
    "        return returned_function\n",
    "\n",
    "    return wrapper\n",
    "\n",
    "\n",
    "@timer\n",
    "def add(x, y):\n",
    "    return x + y\n",
    "\n",
    "\n",
    "@timer\n",
    "def sub(x, y):\n",
    "    return x - y\n",
    "\n",
    "\n",
    "print(add(10, 10))\n",
    "print(sub(10, 5))"
   ]
  },
  {
   "cell_type": "markdown",
   "metadata": {},
   "source": [
    "### example2 - multiple decorator. u can use multiple decorator in a single function"
   ]
  },
  {
   "cell_type": "code",
   "execution_count": 26,
   "metadata": {
    "execution": {
     "iopub.execute_input": "2020-10-04T09:46:15.747428Z",
     "iopub.status.busy": "2020-10-04T09:46:15.747082Z",
     "iopub.status.idle": "2020-10-04T09:46:15.765485Z",
     "shell.execute_reply": "2020-10-04T09:46:15.764833Z",
     "shell.execute_reply.started": "2020-10-04T09:46:15.747403Z"
    }
   },
   "outputs": [
    {
     "name": "stdout",
     "output_type": "stream",
     "text": [
      "Hello NAUFAL\n",
      "Hello NAUFAL\n",
      "Hello NAUFAL\n",
      "Hello NAUFAL\n",
      "Hello NAUFAL\n"
     ]
    }
   ],
   "source": [
    "def uppercase_decorator(func):\n",
    "    def wrapper(*args, **kwargs):\n",
    "        returned_function = func(*args, **kwargs)\n",
    "        return returned_function.upper()\n",
    "\n",
    "    return wrapper\n",
    "\n",
    "\n",
    "def hello_decorator(func):\n",
    "    def wrapper(*args, **kwargs):\n",
    "        returned_function = func(*args, **kwargs)\n",
    "        return f\"Hello {returned_function}\"\n",
    "\n",
    "    return wrapper\n",
    "\n",
    "\n",
    "def ntimes(n):\n",
    "    def inner(func):\n",
    "        def wrapper(*args, **kwargs):\n",
    "            returned_function = None\n",
    "            for _ in range(n):\n",
    "                returned_function = func(*args, **kwargs)\n",
    "                print(returned_function)\n",
    "            return returned_function\n",
    "\n",
    "        return wrapper\n",
    "\n",
    "    return inner\n",
    "\n",
    "\n",
    "@ntimes(5)\n",
    "@hello_decorator\n",
    "@uppercase_decorator\n",
    "def get_name():\n",
    "    return \"naufal\"\n",
    "\n",
    "\n",
    "name = get_name()"
   ]
  },
  {
   "cell_type": "markdown",
   "metadata": {},
   "source": [
    "### example3 - make function accept list of arguments using decorator"
   ]
  },
  {
   "cell_type": "code",
   "execution_count": 27,
   "metadata": {
    "execution": {
     "iopub.execute_input": "2020-10-04T09:46:15.767213Z",
     "iopub.status.busy": "2020-10-04T09:46:15.766831Z",
     "iopub.status.idle": "2020-10-04T09:46:15.780437Z",
     "shell.execute_reply": "2020-10-04T09:46:15.774830Z",
     "shell.execute_reply.started": "2020-10-04T09:46:15.767185Z"
    }
   },
   "outputs": [
    {
     "name": "stdout",
     "output_type": "stream",
     "text": [
      "camelcase naufal_afif :  NaufalAfif\n"
     ]
    }
   ],
   "source": [
    "# function without decorator\n",
    "\n",
    "\n",
    "def camelcase(word):\n",
    "    return \"\".join([wrd.capitalize() for wrd in word.split(\"_\")])\n",
    "\n",
    "\n",
    "print(\"camelcase naufal_afif : \", camelcase(\"naufal_afif\"))"
   ]
  },
  {
   "cell_type": "code",
   "execution_count": 28,
   "metadata": {
    "execution": {
     "iopub.execute_input": "2020-10-04T09:46:15.782918Z",
     "iopub.status.busy": "2020-10-04T09:46:15.782725Z",
     "iopub.status.idle": "2020-10-04T09:46:15.795212Z",
     "shell.execute_reply": "2020-10-04T09:46:15.794468Z",
     "shell.execute_reply.started": "2020-10-04T09:46:15.782898Z"
    }
   },
   "outputs": [
    {
     "data": {
      "text/plain": [
       "['NaufalAfif', 'WitrianiWitri']"
      ]
     },
     "execution_count": 28,
     "metadata": {},
     "output_type": "execute_result"
    }
   ],
   "source": [
    "# function after adding decorator\n",
    "\n",
    "\n",
    "def mapper(func):\n",
    "    def inner(list_of_values):\n",
    "        return [func(value) for value in list_of_values]\n",
    "\n",
    "    return inner\n",
    "\n",
    "\n",
    "@mapper\n",
    "def camelcase(word):\n",
    "    \"\"\"this is camel case function\"\"\"\n",
    "    return \"\".join([wrd.capitalize() for wrd in word.split(\"_\")])\n",
    "\n",
    "\n",
    "camelcase([\"naufal_afif\", \"witriani_witri\"])"
   ]
  },
  {
   "cell_type": "markdown",
   "metadata": {},
   "source": [
    "### example4 - decorator with arguments"
   ]
  },
  {
   "cell_type": "code",
   "execution_count": 29,
   "metadata": {
    "execution": {
     "iopub.execute_input": "2020-10-04T09:46:15.796321Z",
     "iopub.status.busy": "2020-10-04T09:46:15.796008Z",
     "iopub.status.idle": "2020-10-04T09:46:15.814708Z",
     "shell.execute_reply": "2020-10-04T09:46:15.813998Z",
     "shell.execute_reply.started": "2020-10-04T09:46:15.796299Z"
    }
   },
   "outputs": [
    {
     "data": {
      "text/plain": [
       "24"
      ]
     },
     "execution_count": 29,
     "metadata": {},
     "output_type": "execute_result"
    }
   ],
   "source": [
    "def power(arg):\n",
    "    def decorator(func):\n",
    "        def inner(*args, **kwargs):\n",
    "            return func(*args, **kwargs) * exponential\n",
    "\n",
    "        return inner\n",
    "\n",
    "    if callable(arg):\n",
    "        exponential = 2\n",
    "        return decorator(arg)\n",
    "    else:\n",
    "        exponential = arg\n",
    "        return decorator\n",
    "\n",
    "\n",
    "@power\n",
    "def add(x, y):\n",
    "    return x + y\n",
    "\n",
    "\n",
    "add(10, 2)"
   ]
  },
  {
   "cell_type": "markdown",
   "metadata": {},
   "source": [
    "### example4 - class decorator\n",
    "\n",
    "as u know, almost everything in python is object, & so function. means u can create decorator using classes as long it defined attribute that are mandatory for function (as classes), in this case is __init__ & __call__"
   ]
  },
  {
   "cell_type": "code",
   "execution_count": 35,
   "metadata": {
    "execution": {
     "iopub.execute_input": "2020-10-04T10:10:37.921210Z",
     "iopub.status.busy": "2020-10-04T10:10:37.921019Z",
     "iopub.status.idle": "2020-10-04T10:10:37.930490Z",
     "shell.execute_reply": "2020-10-04T10:10:37.929871Z",
     "shell.execute_reply.started": "2020-10-04T10:10:37.921191Z"
    }
   },
   "outputs": [
    {
     "data": {
      "text/plain": [
       "12"
      ]
     },
     "execution_count": 35,
     "metadata": {},
     "output_type": "execute_result"
    }
   ],
   "source": [
    "class MultiplyByTwo:\n",
    "    def __init__(self, func):\n",
    "        self._func = func\n",
    "\n",
    "    def __call__(self, *args, **kwargs):\n",
    "        return self._func(*args, **kwargs) * 2\n",
    "\n",
    "\n",
    "@MultiplyByTwo\n",
    "def add_three_number(x, y, z):\n",
    "    return x + y + z\n",
    "\n",
    "\n",
    "add_three_number(1, 2, 3)"
   ]
  },
  {
   "cell_type": "markdown",
   "metadata": {
    "execution": {
     "iopub.execute_input": "2020-10-04T01:37:45.501696Z",
     "iopub.status.busy": "2020-10-04T01:37:45.501490Z",
     "iopub.status.idle": "2020-10-04T01:37:45.504772Z",
     "shell.execute_reply": "2020-10-04T01:37:45.504166Z",
     "shell.execute_reply.started": "2020-10-04T01:37:45.501675Z"
    }
   },
   "source": [
    "### note :\n",
    "\n",
    "1) when decorator return different function, u will lose property of the origin function such as __doc__. to avoid that u can use functool.wraps"
   ]
  },
  {
   "cell_type": "code",
   "execution_count": 30,
   "metadata": {
    "execution": {
     "iopub.execute_input": "2020-10-04T09:46:15.816547Z",
     "iopub.status.busy": "2020-10-04T09:46:15.816176Z",
     "iopub.status.idle": "2020-10-04T09:46:15.829468Z",
     "shell.execute_reply": "2020-10-04T09:46:15.828355Z",
     "shell.execute_reply.started": "2020-10-04T09:46:15.816523Z"
    }
   },
   "outputs": [
    {
     "name": "stdout",
     "output_type": "stream",
     "text": [
      "origin_function_docs :  None\n"
     ]
    }
   ],
   "source": [
    "def decorator(func):\n",
    "    def inner(*args, **kwargs):\n",
    "        result = func(*args, **kwargs)\n",
    "        return result\n",
    "\n",
    "    return inner\n",
    "\n",
    "\n",
    "@decorator\n",
    "def origin_function(x, y):\n",
    "    \"\"\"this is the origin function\"\"\"\n",
    "    return x + y\n",
    "\n",
    "\n",
    "print(\"origin_function_docs : \", origin_function.__doc__)"
   ]
  },
  {
   "cell_type": "code",
   "execution_count": 31,
   "metadata": {
    "execution": {
     "iopub.execute_input": "2020-10-04T09:46:15.830604Z",
     "iopub.status.busy": "2020-10-04T09:46:15.830223Z",
     "iopub.status.idle": "2020-10-04T09:46:15.841469Z",
     "shell.execute_reply": "2020-10-04T09:46:15.840706Z",
     "shell.execute_reply.started": "2020-10-04T09:46:15.830577Z"
    }
   },
   "outputs": [
    {
     "name": "stdout",
     "output_type": "stream",
     "text": [
      "origin_function_docs :  this is the origin function\n"
     ]
    }
   ],
   "source": [
    "# adding wraps to add property from origin function to inner function\n",
    "\n",
    "from functools import wraps\n",
    "\n",
    "\n",
    "def decorator(func):\n",
    "    @wraps(func)\n",
    "    def inner(*args, **kwargs):\n",
    "        result = func(*args, **kwargs)\n",
    "        return result\n",
    "\n",
    "    return inner\n",
    "\n",
    "\n",
    "@decorator\n",
    "def origin_function(x, y):\n",
    "    \"\"\"this is the origin function\"\"\"\n",
    "    return x + y\n",
    "\n",
    "\n",
    "print(\"origin_function_docs : \", origin_function.__doc__)"
   ]
  }
 ],
 "metadata": {
  "kernelspec": {
   "display_name": "Python 3",
   "language": "python",
   "name": "python3"
  },
  "language_info": {
   "codemirror_mode": {
    "name": "ipython",
    "version": 3
   },
   "file_extension": ".py",
   "mimetype": "text/x-python",
   "name": "python",
   "nbconvert_exporter": "python",
   "pygments_lexer": "ipython3",
   "version": "3.8.2"
  }
 },
 "nbformat": 4,
 "nbformat_minor": 4
}
