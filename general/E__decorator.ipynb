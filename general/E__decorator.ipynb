{
 "cells": [
  {
   "cell_type": "code",
   "execution_count": 1,
   "metadata": {
    "execution": {
     "iopub.execute_input": "2020-09-05T14:26:17.314267Z",
     "iopub.status.busy": "2020-09-05T14:26:17.314003Z",
     "iopub.status.idle": "2020-09-05T14:26:17.426210Z",
     "shell.execute_reply": "2020-09-05T14:26:17.425498Z",
     "shell.execute_reply.started": "2020-09-05T14:26:17.314196Z"
    }
   },
   "outputs": [
    {
     "name": "stdout",
     "output_type": "stream",
     "text": [
      "elapsed 4.76837158203125e-07\n",
      "20\n",
      "elapsed 4.76837158203125e-07\n",
      "5\n"
     ]
    }
   ],
   "source": [
    "%load_ext lab_black\n",
    "# decorator\n",
    "from time import time\n",
    "\n",
    "\n",
    "def timer(func):\n",
    "    def wrapper(*args, **kwargs):\n",
    "        before = time()\n",
    "        returned_function = func(*args, **kwargs)\n",
    "        after = time()\n",
    "        print(\"elapsed {}\".format(after - before))\n",
    "        return returned_function\n",
    "\n",
    "    return wrapper\n",
    "\n",
    "\n",
    "@timer\n",
    "def add(x, y):\n",
    "    return x + y\n",
    "\n",
    "\n",
    "@timer\n",
    "def sub(x, y):\n",
    "    return x - y\n",
    "\n",
    "\n",
    "print(add(10, 10))\n",
    "print(sub(10, 5))"
   ]
  },
  {
   "cell_type": "code",
   "execution_count": 2,
   "metadata": {
    "execution": {
     "iopub.execute_input": "2020-09-05T14:26:24.553167Z",
     "iopub.status.busy": "2020-09-05T14:26:24.552949Z",
     "iopub.status.idle": "2020-09-05T14:26:24.573599Z",
     "shell.execute_reply": "2020-09-05T14:26:24.572491Z",
     "shell.execute_reply.started": "2020-09-05T14:26:24.553143Z"
    }
   },
   "outputs": [
    {
     "name": "stdout",
     "output_type": "stream",
     "text": [
      "Hello NAUFAL\n",
      "Hello NAUFAL\n",
      "Hello NAUFAL\n",
      "Hello NAUFAL\n",
      "Hello NAUFAL\n"
     ]
    }
   ],
   "source": [
    "def uppercase_decorator(func):\n",
    "    def wrapper(*args, **kwargs):\n",
    "        returned_function = func(*args, **kwargs)\n",
    "        return returned_function.upper()\n",
    "\n",
    "    return wrapper\n",
    "\n",
    "\n",
    "def hello_decorator(func):\n",
    "    def wrapper(*args, **kwargs):\n",
    "        returned_function = func(*args, **kwargs)\n",
    "        return f\"Hello {returned_function}\"\n",
    "\n",
    "    return wrapper\n",
    "\n",
    "\n",
    "def ntimes(n):\n",
    "    def inner(func):\n",
    "        def wrapper(*args, **kwargs):\n",
    "            returned_function = None\n",
    "            for _ in range(n):\n",
    "                returned_function = func(*args, **kwargs)\n",
    "                print(returned_function)\n",
    "            return returned_function\n",
    "\n",
    "        return wrapper\n",
    "\n",
    "    return inner\n",
    "\n",
    "\n",
    "@ntimes(5)\n",
    "@hello_decorator\n",
    "@uppercase_decorator\n",
    "def get_name():\n",
    "    return \"naufal\"\n",
    "\n",
    "\n",
    "name = get_name()"
   ]
  }
 ],
 "metadata": {
  "kernelspec": {
   "display_name": "Python 3",
   "language": "python",
   "name": "python3"
  },
  "language_info": {
   "codemirror_mode": {
    "name": "ipython",
    "version": 3
   },
   "file_extension": ".py",
   "mimetype": "text/x-python",
   "name": "python",
   "nbconvert_exporter": "python",
   "pygments_lexer": "ipython3",
   "version": "3.8.2"
  }
 },
 "nbformat": 4,
 "nbformat_minor": 4
}
