{
 "cells": [
  {
   "cell_type": "code",
   "execution_count": 21,
   "metadata": {},
   "outputs": [
    {
     "name": "stdout",
     "output_type": "stream",
     "text": [
      "elapsed 2.384185791015625e-06\n",
      "20\n",
      "elapsed 1.9073486328125e-06\n",
      "5\n"
     ]
    }
   ],
   "source": [
    "# decorator\n",
    "from time import time\n",
    "\n",
    "def timer(func):\n",
    "    def wrapper(*args, **kwargs):\n",
    "        before = time()\n",
    "        returned_function = func(*args, **kwargs) \n",
    "        after = time()\n",
    "        print(\"elapsed {}\".format(after - before))\n",
    "        return returned_function\n",
    "\n",
    "    return wrapper\n",
    "\n",
    "@timer\n",
    "def add(x, y):\n",
    "    return x + y\n",
    "\n",
    "@timer\n",
    "def sub(x, y):\n",
    "    return x - y\n",
    "\n",
    "print(add(10,10))\n",
    "print(sub(10,5))"
   ]
  },
  {
   "cell_type": "code",
   "execution_count": 27,
   "metadata": {},
   "outputs": [
    {
     "name": "stdout",
     "output_type": "stream",
     "text": [
      "Hello NAUFAL\n",
      "Hello NAUFAL\n",
      "Hello NAUFAL\n",
      "Hello NAUFAL\n",
      "Hello NAUFAL\n"
     ]
    }
   ],
   "source": [
    "def uppercase_decorator(func):\n",
    "    def wrapper(*args, **kwargs):\n",
    "        returned_function = func(*args, **kwargs)\n",
    "        return returned_function.upper()\n",
    "    return wrapper\n",
    "\n",
    "def hello_decorator(func):\n",
    "    def wrapper(*args, **kwargs):\n",
    "        returned_function = func(*args, **kwargs)\n",
    "        return f\"Hello {returned_function}\"\n",
    "    return wrapper\n",
    "\n",
    "def ntimes(n):\n",
    "    def inner(func):\n",
    "        def wrapper(*args, **kwargs):\n",
    "            returned_function = None\n",
    "            for _ in range(n):\n",
    "                returned_function = func(*args, **kwargs)\n",
    "                print(returned_function)\n",
    "            return returned_function\n",
    "        return wrapper\n",
    "    return inner\n",
    "\n",
    "@ntimes(5)\n",
    "@hello_decorator\n",
    "@uppercase_decorator\n",
    "def get_name():\n",
    "    return \"naufal\"\n",
    "\n",
    "name = get_name()"
   ]
  }
 ],
 "metadata": {
  "kernelspec": {
   "display_name": "Python 3",
   "language": "python",
   "name": "python3"
  },
  "language_info": {
   "codemirror_mode": {
    "name": "ipython",
    "version": 3
   },
   "file_extension": ".py",
   "mimetype": "text/x-python",
   "name": "python",
   "nbconvert_exporter": "python",
   "pygments_lexer": "ipython3",
   "version": "3.6.9"
  }
 },
 "nbformat": 4,
 "nbformat_minor": 4
}
