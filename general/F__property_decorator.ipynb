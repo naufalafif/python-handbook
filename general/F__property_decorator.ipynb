{
 "cells": [
  {
   "cell_type": "code",
   "execution_count": 1,
   "metadata": {
    "execution": {
     "iopub.execute_input": "2020-09-03T13:31:38.025549Z",
     "iopub.status.busy": "2020-09-03T13:31:38.025316Z",
     "iopub.status.idle": "2020-09-03T13:31:38.086120Z",
     "shell.execute_reply": "2020-09-03T13:31:38.085236Z",
     "shell.execute_reply.started": "2020-09-03T13:31:38.025531Z"
    }
   },
   "outputs": [
    {
     "name": "stdout",
     "output_type": "stream",
     "text": [
      "Employee First Name : budi\n",
      "Employee Last Name : agung\n",
      "Employee Full Name : budi agung\n"
     ]
    }
   ],
   "source": [
    "%load_ext lab_black\n",
    "\n",
    "\n",
    "class Employee:\n",
    "    def __init__(self, first_name, last_name):\n",
    "        self.first_name = first_name\n",
    "        self.last_name = last_name\n",
    "\n",
    "    def full_name(self):\n",
    "        return \"{} {}\".format(self.first_name, self.last_name)\n",
    "\n",
    "\n",
    "employee_budi = Employee(\"budi\", \"agung\")\n",
    "print(\"Employee First Name : \" + employee_budi.first_name)\n",
    "print(\"Employee Last Name : \" + employee_budi.last_name)\n",
    "print(\"Employee Full Name : \" + employee_budi.full_name())"
   ]
  },
  {
   "cell_type": "code",
   "execution_count": 2,
   "metadata": {
    "execution": {
     "iopub.execute_input": "2020-09-03T13:31:38.087669Z",
     "iopub.status.busy": "2020-09-03T13:31:38.087223Z",
     "iopub.status.idle": "2020-09-03T13:31:38.113111Z",
     "shell.execute_reply": "2020-09-03T13:31:38.112245Z",
     "shell.execute_reply.started": "2020-09-03T13:31:38.087642Z"
    }
   },
   "outputs": [
    {
     "name": "stdout",
     "output_type": "stream",
     "text": [
      "Employee First Name : agus\n",
      "Employee Last Name : setiawan\n",
      "Employee Full Name : agus setiawan\n",
      "\n",
      "Employee First Name : bambang\n",
      "Employee Last Name : setiawan\n",
      "Employee Full Name : bambang setiawan\n",
      "\n",
      "Employee First Name : \n",
      "Employee Last Name : \n",
      "Employee Full Name :  \n"
     ]
    }
   ],
   "source": [
    "# With Property Decorator\n",
    "\n",
    "\n",
    "class EmployeeWithProperty:\n",
    "    def __init__(self, first_name, last_name):\n",
    "        self.first_name = first_name\n",
    "        self.last_name = last_name\n",
    "\n",
    "    @property\n",
    "    def full_name(self):\n",
    "        return \"{} {}\".format(self.first_name, self.last_name)\n",
    "\n",
    "    @full_name.setter\n",
    "    def full_name(self, name):\n",
    "        first_name, last_name = name.split(\" \")\n",
    "        self.first_name = first_name\n",
    "        self.last_name = last_name\n",
    "\n",
    "    @full_name.deleter\n",
    "    def full_name(self):\n",
    "        self.first_name = \"\"\n",
    "        self.last_name = \"\"\n",
    "\n",
    "\n",
    "employee_agus = EmployeeWithProperty(\"agus\", \"setiawan\")\n",
    "\n",
    "print(\"Employee First Name : \" + employee_agus.first_name)\n",
    "print(\"Employee Last Name : \" + employee_agus.last_name)\n",
    "print(\n",
    "    \"Employee Full Name : \" + employee_agus.full_name\n",
    ")  # Notice this using attribute getter,not method. property change the way we access method as property\n",
    "\n",
    "print()\n",
    "\n",
    "employee_agus.full_name = \"bambang setiawan\"\n",
    "print(\"Employee First Name : \" + employee_agus.first_name)\n",
    "print(\"Employee Last Name : \" + employee_agus.last_name)\n",
    "print(\n",
    "    \"Employee Full Name : \" + employee_agus.full_name\n",
    ")  # Notice this using attribute getter,not method. property change the way we access method as property\n",
    "\n",
    "print()\n",
    "\n",
    "del employee_agus.full_name\n",
    "\n",
    "print(\"Employee First Name : \" + employee_agus.first_name)\n",
    "print(\"Employee Last Name : \" + employee_agus.last_name)\n",
    "print(\n",
    "    \"Employee Full Name : \" + employee_agus.full_name\n",
    ")  # Notice this using attribute getter,not method. property change the way we access method as property"
   ]
  }
 ],
 "metadata": {
  "kernelspec": {
   "display_name": "Python 3",
   "language": "python",
   "name": "python3"
  },
  "language_info": {
   "codemirror_mode": {
    "name": "ipython",
    "version": 3
   },
   "file_extension": ".py",
   "mimetype": "text/x-python",
   "name": "python",
   "nbconvert_exporter": "python",
   "pygments_lexer": "ipython3",
   "version": "3.8.2"
  }
 },
 "nbformat": 4,
 "nbformat_minor": 4
}
