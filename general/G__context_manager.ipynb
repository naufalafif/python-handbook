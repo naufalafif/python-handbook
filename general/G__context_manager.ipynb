{
 "cells": [
  {
   "cell_type": "code",
   "execution_count": 1,
   "metadata": {
    "execution": {
     "iopub.execute_input": "2020-09-03T13:31:45.511082Z",
     "iopub.status.busy": "2020-09-03T13:31:45.510705Z",
     "iopub.status.idle": "2020-09-03T13:31:45.574079Z",
     "shell.execute_reply": "2020-09-03T13:31:45.573123Z",
     "shell.execute_reply.started": "2020-09-03T13:31:45.511045Z"
    }
   },
   "outputs": [
    {
     "name": "stdout",
     "output_type": "stream",
     "text": [
      " read data using open {'data': [1, 2, 3, 4, 5]}\n"
     ]
    }
   ],
   "source": [
    "%load_ext lab_black\n",
    "\n",
    "import json\n",
    "\n",
    "# Example of context_manager\n",
    "\n",
    "# open function will do two things, open the file & then close it.\n",
    "# in function it is happen automaticly using context manager, so you dont have to close it manualy\n",
    "with open(\"./assets/data.json\") as f:\n",
    "    result = json.loads(f.read())\n",
    "    print(f\" read data using open {result}\")"
   ]
  },
  {
   "cell_type": "code",
   "execution_count": 2,
   "metadata": {
    "execution": {
     "iopub.execute_input": "2020-09-03T13:31:45.575310Z",
     "iopub.status.busy": "2020-09-03T13:31:45.575063Z",
     "iopub.status.idle": "2020-09-03T13:31:45.596954Z",
     "shell.execute_reply": "2020-09-03T13:31:45.596308Z",
     "shell.execute_reply.started": "2020-09-03T13:31:45.575290Z"
    }
   },
   "outputs": [
    {
     "name": "stdout",
     "output_type": "stream",
     "text": [
      "Opening File\n",
      "Doing something to file : returned value\n",
      "Close File\n"
     ]
    }
   ],
   "source": [
    "from contextlib import contextmanager\n",
    "\n",
    "\n",
    "@contextmanager\n",
    "def openfilefunction():\n",
    "    print(\"Opening File\")\n",
    "    try:\n",
    "        yield \"returned value\"\n",
    "    finally:\n",
    "        print(\"Close File\")\n",
    "\n",
    "\n",
    "with openfilefunction() as a:\n",
    "    print(\"Doing something to file : \" + a)"
   ]
  },
  {
   "cell_type": "code",
   "execution_count": 3,
   "metadata": {
    "execution": {
     "iopub.execute_input": "2020-09-03T13:31:45.598281Z",
     "iopub.status.busy": "2020-09-03T13:31:45.598067Z",
     "iopub.status.idle": "2020-09-03T13:31:45.694792Z",
     "shell.execute_reply": "2020-09-03T13:31:45.694192Z",
     "shell.execute_reply.started": "2020-09-03T13:31:45.598261Z"
    }
   },
   "outputs": [
    {
     "name": "stdout",
     "output_type": "stream",
     "text": [
      "Opening File\n",
      "Doing something to file ; returned value\n",
      "Close file (None, None, None)\n"
     ]
    }
   ],
   "source": [
    "# Context manager in class form\n",
    "\n",
    "\n",
    "class openfileclass:\n",
    "    def __enter__(self):\n",
    "        print(\"Opening File\")\n",
    "        return \"returned value\"\n",
    "\n",
    "    def __exit__(self, *args):\n",
    "        print(\"Close file\", args)\n",
    "\n",
    "\n",
    "with openfileclass() as a:\n",
    "    print(\"Doing something to file ; \" + a)"
   ]
  },
  {
   "cell_type": "code",
   "execution_count": 4,
   "metadata": {
    "execution": {
     "iopub.execute_input": "2020-09-03T13:31:45.695771Z",
     "iopub.status.busy": "2020-09-03T13:31:45.695587Z",
     "iopub.status.idle": "2020-09-03T13:31:45.808981Z",
     "shell.execute_reply": "2020-09-03T13:31:45.806971Z",
     "shell.execute_reply.started": "2020-09-03T13:31:45.695751Z"
    }
   },
   "outputs": [
    {
     "name": "stdout",
     "output_type": "stream",
     "text": [
      "Opening File\n",
      "Doing something to file ; returned value\n",
      "Close file (None, None, None)\n"
     ]
    }
   ],
   "source": [
    "# Context manager in class form\n",
    "\n",
    "\n",
    "class openfileclasswithfunction:\n",
    "    def get_value(self):\n",
    "        return \"returned value\"\n",
    "\n",
    "    def __enter__(self):\n",
    "        print(\"Opening File\")\n",
    "        return self\n",
    "\n",
    "    def __exit__(self, *args):\n",
    "        print(\"Close file\", args)\n",
    "\n",
    "\n",
    "with openfileclasswithfunction() as b:\n",
    "    print(\"Doing something to file ; \" + b.get_value())"
   ]
  }
 ],
 "metadata": {
  "kernelspec": {
   "display_name": "Python 3",
   "language": "python",
   "name": "python3"
  },
  "language_info": {
   "codemirror_mode": {
    "name": "ipython",
    "version": 3
   },
   "file_extension": ".py",
   "mimetype": "text/x-python",
   "name": "python",
   "nbconvert_exporter": "python",
   "pygments_lexer": "ipython3",
   "version": "3.8.2"
  }
 },
 "nbformat": 4,
 "nbformat_minor": 4
}
