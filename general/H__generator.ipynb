{
 "cells": [
  {
   "cell_type": "code",
   "execution_count": 1,
   "metadata": {
    "execution": {
     "iopub.execute_input": "2020-09-03T13:31:54.006584Z",
     "iopub.status.busy": "2020-09-03T13:31:54.006066Z",
     "iopub.status.idle": "2020-09-03T13:31:54.070286Z",
     "shell.execute_reply": "2020-09-03T13:31:54.069314Z",
     "shell.execute_reply.started": "2020-09-03T13:31:54.006534Z"
    }
   },
   "outputs": [
    {
     "name": "stdout",
     "output_type": "stream",
     "text": [
      "loop : budi\n",
      "loop : agus\n",
      "next : budi\n",
      "next last : budi\n",
      "next last : budi\n"
     ]
    }
   ],
   "source": [
    "%load_ext lab_black\n",
    "\n",
    "\n",
    "def get_student_name():\n",
    "    yield \"budi\"\n",
    "    yield \"agus\"\n",
    "\n",
    "\n",
    "# Iterate Generator using loop\n",
    "for student_name in get_student_name():\n",
    "    print(f\"loop : {student_name}\")\n",
    "\n",
    "# Get Generator next value\n",
    "print(f\"next : {next(get_student_name())}\")\n",
    "print(f\"next last : {next(get_student_name())}\")\n",
    "print(f\"next last : {next(get_student_name())}\")"
   ]
  },
  {
   "cell_type": "code",
   "execution_count": 11,
   "metadata": {
    "execution": {
     "iopub.execute_input": "2020-09-06T08:42:00.206022Z",
     "iopub.status.busy": "2020-09-06T08:42:00.205833Z",
     "iopub.status.idle": "2020-09-06T08:42:00.213591Z",
     "shell.execute_reply": "2020-09-06T08:42:00.212852Z",
     "shell.execute_reply.started": "2020-09-06T08:42:00.206003Z"
    }
   },
   "outputs": [
    {
     "name": "stdout",
     "output_type": "stream",
     "text": [
      "0\n",
      "1\n",
      "2\n"
     ]
    }
   ],
   "source": [
    "def generate_number(maximal):\n",
    "    current_number = 0\n",
    "    while True:\n",
    "        yield current_number\n",
    "        if maximal == current_number:\n",
    "            break\n",
    "        current_number += 1\n",
    "\n",
    "generator_instance = generate_number(2)\n",
    "for value in generator_instance:\n",
    "    print(value)"
   ]
  },
  {
   "cell_type": "code",
   "execution_count": 1,
   "metadata": {
    "execution": {
     "iopub.execute_input": "2020-09-06T08:38:46.489799Z",
     "iopub.status.busy": "2020-09-06T08:38:46.489509Z",
     "iopub.status.idle": "2020-09-06T08:38:46.496175Z",
     "shell.execute_reply": "2020-09-06T08:38:46.495405Z",
     "shell.execute_reply.started": "2020-09-06T08:38:46.489736Z"
    }
   },
   "outputs": [
    {
     "name": "stdout",
     "output_type": "stream",
     "text": [
      "budi\n",
      "agus\n"
     ]
    }
   ],
   "source": [
    "# Generator In Class Form\n",
    "\n",
    "class StudentName:\n",
    "    def __init__(self):\n",
    "        self.students = [\"budi\", \"agus\"]\n",
    "\n",
    "    def __iter__(self):\n",
    "        self.index = 0\n",
    "        return self\n",
    "\n",
    "    def __next__(self):\n",
    "        returned_student = None\n",
    "        if self.index < len(self.students):\n",
    "            returned_student = self.students[self.index]\n",
    "        else:\n",
    "            raise StopIteration()\n",
    "        self.index += 1\n",
    "        return returned_student\n",
    "\n",
    "\n",
    "for student in StudentName():\n",
    "    print(student)"
   ]
  },
  {
   "cell_type": "code",
   "execution_count": 12,
   "metadata": {
    "execution": {
     "iopub.execute_input": "2020-09-06T10:55:16.803058Z",
     "iopub.status.busy": "2020-09-06T10:55:16.802878Z",
     "iopub.status.idle": "2020-09-06T10:55:17.040184Z",
     "shell.execute_reply": "2020-09-06T10:55:17.037828Z",
     "shell.execute_reply.started": "2020-09-06T10:55:16.803039Z"
    }
   },
   "outputs": [
    {
     "name": "stdout",
     "output_type": "stream",
     "text": [
      "memory before get_million_data  [116.25390625]\n",
      "memory after get_million_data  [152.859375]\n"
     ]
    }
   ],
   "source": [
    "# memory usage of generator.\n",
    "\"\"\"\n",
    "generator also know for lazyness process. because it only do 1 thing at a time.\n",
    "example of get index of number in range 0 - 1_000_000\n",
    "\"\"\"\n",
    "\n",
    "import memory_profiler as mem_profile\n",
    "\n",
    "print(\"memory before get_million_data \", mem_profile.memory_usage())\n",
    "def get_million_data():\n",
    "    million_data = list(range(1_000_000))\n",
    "    return million_data\n",
    "non_generator_data = get_million_data()\n",
    "print(\"memory after get_million_data \", mem_profile.memory_usage())"
   ]
  },
  {
   "cell_type": "code",
   "execution_count": 13,
   "metadata": {
    "execution": {
     "iopub.execute_input": "2020-09-06T10:55:18.431310Z",
     "iopub.status.busy": "2020-09-06T10:55:18.431115Z",
     "iopub.status.idle": "2020-09-06T10:55:18.435111Z",
     "shell.execute_reply": "2020-09-06T10:55:18.434508Z",
     "shell.execute_reply.started": "2020-09-06T10:55:18.431289Z"
    }
   },
   "outputs": [
    {
     "name": "stdout",
     "output_type": "stream",
     "text": [
      "0\n",
      "1\n",
      "2\n",
      "3\n",
      "4\n",
      "5\n",
      "6\n",
      "7\n",
      "8\n",
      "9\n"
     ]
    }
   ],
   "source": [
    "non_generator_data = iter(non_generator_data)\n",
    "for _ in range(10):\n",
    "    print(next(non_generator_data))"
   ]
  },
  {
   "cell_type": "code",
   "execution_count": 15,
   "metadata": {
    "execution": {
     "iopub.execute_input": "2020-09-06T10:55:21.181685Z",
     "iopub.status.busy": "2020-09-06T10:55:21.181174Z",
     "iopub.status.idle": "2020-09-06T10:55:21.394488Z",
     "shell.execute_reply": "2020-09-06T10:55:21.392594Z",
     "shell.execute_reply.started": "2020-09-06T10:55:21.181627Z"
    }
   },
   "outputs": [
    {
     "name": "stdout",
     "output_type": "stream",
     "text": [
      "memory before get_million_data_generator  [153.1171875]\n",
      "memory after get_million_data_generator  [153.1171875]\n"
     ]
    }
   ],
   "source": [
    "print(\"memory before get_million_data_generator \", mem_profile.memory_usage())\n",
    "def get_million_data_generator():\n",
    "    max_data = 1_000_000\n",
    "    last = 0\n",
    "    while last != max_data:\n",
    "        yield last\n",
    "        last += 1\n",
    "generator_data = get_million_data_generator()\n",
    "print(\"memory after get_million_data_generator \", mem_profile.memory_usage())"
   ]
  },
  {
   "cell_type": "code",
   "execution_count": 16,
   "metadata": {
    "execution": {
     "iopub.execute_input": "2020-09-06T10:55:23.280318Z",
     "iopub.status.busy": "2020-09-06T10:55:23.280062Z",
     "iopub.status.idle": "2020-09-06T10:55:23.284260Z",
     "shell.execute_reply": "2020-09-06T10:55:23.283607Z",
     "shell.execute_reply.started": "2020-09-06T10:55:23.280299Z"
    }
   },
   "outputs": [
    {
     "name": "stdout",
     "output_type": "stream",
     "text": [
      "0\n",
      "1\n",
      "2\n",
      "3\n",
      "4\n",
      "5\n",
      "6\n",
      "7\n",
      "8\n",
      "9\n"
     ]
    }
   ],
   "source": [
    "for _ in range(10):\n",
    "    print(next(generator_data))"
   ]
  }
 ],
 "metadata": {
  "kernelspec": {
   "display_name": "Python 3",
   "language": "python",
   "name": "python3"
  },
  "language_info": {
   "codemirror_mode": {
    "name": "ipython",
    "version": 3
   },
   "file_extension": ".py",
   "mimetype": "text/x-python",
   "name": "python",
   "nbconvert_exporter": "python",
   "pygments_lexer": "ipython3",
   "version": "3.8.2"
  }
 },
 "nbformat": 4,
 "nbformat_minor": 4
}
