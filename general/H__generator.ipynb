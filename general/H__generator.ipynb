{
 "cells": [
  {
   "cell_type": "code",
   "execution_count": 1,
   "metadata": {
    "execution": {
     "iopub.execute_input": "2020-09-03T13:31:54.006584Z",
     "iopub.status.busy": "2020-09-03T13:31:54.006066Z",
     "iopub.status.idle": "2020-09-03T13:31:54.070286Z",
     "shell.execute_reply": "2020-09-03T13:31:54.069314Z",
     "shell.execute_reply.started": "2020-09-03T13:31:54.006534Z"
    }
   },
   "outputs": [
    {
     "name": "stdout",
     "output_type": "stream",
     "text": [
      "loop : budi\n",
      "loop : agus\n",
      "next : budi\n",
      "next last : budi\n",
      "next last : budi\n"
     ]
    }
   ],
   "source": [
    "%load_ext lab_black\n",
    "\n",
    "\n",
    "def get_student_name():\n",
    "    yield \"budi\"\n",
    "    yield \"agus\"\n",
    "\n",
    "\n",
    "# Iterate Generator using loop\n",
    "for student_name in get_student_name():\n",
    "    print(f\"loop : {student_name}\")\n",
    "\n",
    "# Get Generator next value\n",
    "print(f\"next : {next(get_student_name())}\")\n",
    "print(f\"next last : {next(get_student_name())}\")\n",
    "print(f\"next last : {next(get_student_name())}\")"
   ]
  },
  {
   "cell_type": "code",
   "execution_count": 2,
   "metadata": {
    "execution": {
     "iopub.execute_input": "2020-09-03T13:31:54.071682Z",
     "iopub.status.busy": "2020-09-03T13:31:54.071392Z",
     "iopub.status.idle": "2020-09-03T13:31:54.086175Z",
     "shell.execute_reply": "2020-09-03T13:31:54.084444Z",
     "shell.execute_reply.started": "2020-09-03T13:31:54.071656Z"
    }
   },
   "outputs": [
    {
     "name": "stdout",
     "output_type": "stream",
     "text": [
      "budi\n",
      "agus\n"
     ]
    }
   ],
   "source": [
    "# Generator In Class Form\n",
    "\n",
    "\n",
    "class StudentName:\n",
    "    def __init__(self):\n",
    "        self.students = [\"budi\", \"agus\"]\n",
    "\n",
    "    def __iter__(self):\n",
    "        self.index = 0\n",
    "        return self\n",
    "\n",
    "    def __next__(self):\n",
    "        returned_student = None\n",
    "        if self.index < len(self.students):\n",
    "            returned_student = self.students[self.index]\n",
    "        else:\n",
    "            raise StopIteration()\n",
    "        self.index += 1\n",
    "        return returned_student\n",
    "\n",
    "\n",
    "for student in StudentName():\n",
    "    print(student)"
   ]
  }
 ],
 "metadata": {
  "kernelspec": {
   "display_name": "Python 3",
   "language": "python",
   "name": "python3"
  },
  "language_info": {
   "codemirror_mode": {
    "name": "ipython",
    "version": 3
   },
   "file_extension": ".py",
   "mimetype": "text/x-python",
   "name": "python",
   "nbconvert_exporter": "python",
   "pygments_lexer": "ipython3",
   "version": "3.8.2"
  }
 },
 "nbformat": 4,
 "nbformat_minor": 4
}
