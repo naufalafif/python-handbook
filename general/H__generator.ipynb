{
 "cells": [
  {
   "cell_type": "markdown",
   "metadata": {},
   "source": [
    "# Generator\n",
    "\n",
    "what is generator ?\n",
    "generator functions are a special kind of function that return a lazy iterator, means it can be suspended & resumed.  generator are objects that you can loop over like a list. However, unlike lists, lazy iterators do not store their contents in memory. "
   ]
  },
  {
   "cell_type": "code",
   "execution_count": 26,
   "metadata": {
    "execution": {
     "iopub.execute_input": "2020-10-03T01:43:43.764051Z",
     "iopub.status.busy": "2020-10-03T01:43:43.763842Z",
     "iopub.status.idle": "2020-10-03T01:43:43.775089Z",
     "shell.execute_reply": "2020-10-03T01:43:43.774446Z",
     "shell.execute_reply.started": "2020-10-03T01:43:43.764029Z"
    }
   },
   "outputs": [
    {
     "name": "stdout",
     "output_type": "stream",
     "text": [
      "call using next function\n",
      "naufal\n",
      "afif\n",
      "witri\n",
      "call using send function\n",
      "naufal\n",
      "afif\n",
      "witri\n"
     ]
    }
   ],
   "source": [
    "# how to called generator\n",
    "\n",
    "\n",
    "def gen_names():\n",
    "    yield \"naufal\"\n",
    "    yield \"afif\"\n",
    "    yield \"witri\"\n",
    "\n",
    "\n",
    "print(\"call using next function\")\n",
    "next_gen = gen_names()\n",
    "print(next(next_gen))\n",
    "print(next(next_gen))\n",
    "print(next(next_gen))\n",
    "\n",
    "\n",
    "print(\"call using send function\")\n",
    "send_gen = gen_names()\n",
    "print(send_gen.send(None))\n",
    "print(send_gen.send(None))\n",
    "print(send_gen.send(None))"
   ]
  },
  {
   "cell_type": "markdown",
   "metadata": {},
   "source": [
    "### 1. Generate Value (yield)\n",
    "\n",
    "generator can be used to generate value as "
   ]
  },
  {
   "cell_type": "code",
   "execution_count": 7,
   "metadata": {
    "execution": {
     "iopub.execute_input": "2020-10-03T01:37:27.043101Z",
     "iopub.status.busy": "2020-10-03T01:37:27.042905Z",
     "iopub.status.idle": "2020-10-03T01:37:27.051000Z",
     "shell.execute_reply": "2020-10-03T01:37:27.047887Z",
     "shell.execute_reply.started": "2020-10-03T01:37:27.043080Z"
    }
   },
   "outputs": [
    {
     "name": "stdout",
     "output_type": "stream",
     "text": [
      "The lab_black extension is already loaded. To reload it, use:\n",
      "  %reload_ext lab_black\n"
     ]
    }
   ],
   "source": [
    "%load_ext lab_black"
   ]
  },
  {
   "cell_type": "code",
   "execution_count": 28,
   "metadata": {
    "execution": {
     "iopub.execute_input": "2020-10-03T01:44:34.521900Z",
     "iopub.status.busy": "2020-10-03T01:44:34.521364Z",
     "iopub.status.idle": "2020-10-03T01:44:34.554842Z",
     "shell.execute_reply": "2020-10-03T01:44:34.553103Z",
     "shell.execute_reply.started": "2020-10-03T01:44:34.521839Z"
    }
   },
   "outputs": [
    {
     "name": "stdout",
     "output_type": "stream",
     "text": [
      "loop : budi\n",
      "loop : agus\n",
      "next : budi\n",
      "next last : budi\n",
      "next last : budi\n",
      "\n",
      "\n",
      "fibonaci generator\n",
      "1\n",
      "1\n",
      "2\n",
      "3\n",
      "5\n",
      "8\n",
      "13\n",
      "21\n",
      "34\n",
      "55\n"
     ]
    }
   ],
   "source": [
    "def get_student_name():\n",
    "    yield \"budi\"\n",
    "    yield \"agus\"\n",
    "\n",
    "\n",
    "# Iterate Generator using loop\n",
    "for student_name in get_student_name():\n",
    "    print(f\"loop : {student_name}\")\n",
    "\n",
    "# Get Generator next value\n",
    "print(f\"next : {next(get_student_name())}\")\n",
    "print(f\"next last : {next(get_student_name())}\")\n",
    "print(f\"next last : {next(get_student_name())}\", end=\"\\n\\n\\n\")\n",
    "\n",
    "\n",
    "def fibonaci():\n",
    "    current_value, next_value = 0, 1\n",
    "    while True:\n",
    "        yield next_value\n",
    "        current_value, next_value = next_value, (next_value + current_value)\n",
    "\n",
    "\n",
    "fibonaci_gen = fibonaci()\n",
    "\n",
    "print(\"fibonaci generator\")\n",
    "for _ in range(10):\n",
    "    print(next(fibonaci_gen))"
   ]
  },
  {
   "cell_type": "code",
   "execution_count": 29,
   "metadata": {
    "execution": {
     "iopub.execute_input": "2020-10-03T01:44:36.816349Z",
     "iopub.status.busy": "2020-10-03T01:44:36.816159Z",
     "iopub.status.idle": "2020-10-03T01:44:36.825773Z",
     "shell.execute_reply": "2020-10-03T01:44:36.825040Z",
     "shell.execute_reply.started": "2020-10-03T01:44:36.816329Z"
    }
   },
   "outputs": [
    {
     "name": "stdout",
     "output_type": "stream",
     "text": [
      "0\n",
      "1\n",
      "2\n"
     ]
    }
   ],
   "source": [
    "def generate_number(maximal):\n",
    "    current_number = 0\n",
    "    while True:\n",
    "        yield current_number\n",
    "        if maximal == current_number:\n",
    "            break\n",
    "        current_number += 1\n",
    "\n",
    "\n",
    "generator_instance = generate_number(2)\n",
    "for value in generator_instance:\n",
    "    print(value)"
   ]
  },
  {
   "cell_type": "markdown",
   "metadata": {},
   "source": [
    "### 2. Recieved Value\n",
    "\n",
    "generator can received value & also return & the same time"
   ]
  },
  {
   "cell_type": "code",
   "execution_count": 65,
   "metadata": {
    "execution": {
     "iopub.execute_input": "2020-10-03T01:54:10.564202Z",
     "iopub.status.busy": "2020-10-03T01:54:10.564006Z",
     "iopub.status.idle": "2020-10-03T01:54:10.578316Z",
     "shell.execute_reply": "2020-10-03T01:54:10.577689Z",
     "shell.execute_reply.started": "2020-10-03T01:54:10.564181Z"
    }
   },
   "outputs": [
    {
     "name": "stdout",
     "output_type": "stream",
     "text": [
      "1\n",
      "\n",
      "----------------\n",
      "is witri exist False\n",
      "is naufal exist True\n",
      "is name exist True\n"
     ]
    }
   ],
   "source": [
    "def return_passed_value():\n",
    "    value = yield\n",
    "    yield value\n",
    "\n",
    "\n",
    "value_gen = return_passed_value()\n",
    "value_gen.send(None)  # trigger generator\n",
    "print(value_gen.send(1))  # sending value to generator\n",
    "\n",
    "print(\"\\n----------------\")\n",
    "\n",
    "\n",
    "def check_is_word_exist(source):\n",
    "\n",
    "    is_exist = False\n",
    "    while True:\n",
    "        # statement below return is_exist value + rechieved value from send & save it to word_to_check\n",
    "        word_to_check = yield is_exist\n",
    "        is_exist = word_to_check in source\n",
    "\n",
    "\n",
    "word_checker = check_is_word_exist(\"my name is naufal afif\")\n",
    "word_checker.send(None)\n",
    "print(\"is witri exist\", word_checker.send(\"witri\"))\n",
    "print(\"is naufal exist\", word_checker.send(\"naufal\"))\n",
    "print(\"is name exist\", word_checker.send(\"name\"))"
   ]
  },
  {
   "cell_type": "markdown",
   "metadata": {},
   "source": [
    "### 3. Returns Value (return)\n",
    "\n",
    "generator can also return value using return statement. return commonly used to return the final output, while yield is not.\n",
    "generator return value from return statement in StopIteration Exception. so u need to use try catch statement to get the value"
   ]
  },
  {
   "cell_type": "code",
   "execution_count": 72,
   "metadata": {
    "execution": {
     "iopub.execute_input": "2020-10-03T01:58:52.167179Z",
     "iopub.status.busy": "2020-10-03T01:58:52.166619Z",
     "iopub.status.idle": "2020-10-03T01:58:52.189231Z",
     "shell.execute_reply": "2020-10-03T01:58:52.188368Z",
     "shell.execute_reply.started": "2020-10-03T01:58:52.167114Z"
    }
   },
   "outputs": [
    {
     "name": "stdout",
     "output_type": "stream",
     "text": [
      "adding 10 value\n",
      "adding 10 value\n",
      "adding 10 value\n",
      "adding 10 value\n",
      "adding 10 value\n",
      "adding 10 value\n",
      "adding 10 value\n",
      "adding 10 value\n",
      "adding 10 value\n",
      "adding 10 value\n",
      "total is  100\n"
     ]
    }
   ],
   "source": [
    "def get_total_from_n_input(number_of_input):\n",
    "    total = 0\n",
    "    for _ in range(number_of_input):\n",
    "        total += yield\n",
    "    return total\n",
    "\n",
    "\n",
    "total_generator = get_total_from_n_input(10)\n",
    "total_generator.send(None)  # trigger generator\n",
    "\n",
    "while True:\n",
    "    try:\n",
    "        value_to_add = 10\n",
    "        print(\"adding {} value\".format(value_to_add))\n",
    "        total_generator.send(value_to_add)\n",
    "    except StopIteration as value:\n",
    "        print(\"total is \", value)\n",
    "        break"
   ]
  },
  {
   "cell_type": "markdown",
   "metadata": {},
   "source": [
    "### 3. Called other Generator\n",
    "\n",
    "generator also can called other generator & recieved value from it.\n",
    "to do it we can use yield from generator statement.\n",
    "\n",
    "note:\n",
    "yield from generator only catch return value (final output), not yield value"
   ]
  },
  {
   "cell_type": "code",
   "execution_count": 96,
   "metadata": {
    "execution": {
     "iopub.execute_input": "2020-10-03T02:07:18.565716Z",
     "iopub.status.busy": "2020-10-03T02:07:18.565153Z",
     "iopub.status.idle": "2020-10-03T02:07:18.595153Z",
     "shell.execute_reply": "2020-10-03T02:07:18.594298Z",
     "shell.execute_reply.started": "2020-10-03T02:07:18.565651Z"
    }
   },
   "outputs": [
    {
     "name": "stdout",
     "output_type": "stream",
     "text": [
      "123\n"
     ]
    }
   ],
   "source": [
    "import time\n",
    "\n",
    "\n",
    "def get_number():\n",
    "    yield\n",
    "    return 123\n",
    "\n",
    "\n",
    "def get_number_2():\n",
    "    number_value = yield from get_number()  # this get only the return value, not yield\n",
    "    return number_value\n",
    "\n",
    "\n",
    "def get_number_3():\n",
    "    value = yield from get_number_2()\n",
    "    return value\n",
    "\n",
    "\n",
    "gen = get_number_3()\n",
    "gen.send(None)\n",
    "try:\n",
    "    gen.send(None)\n",
    "except StopIteration as value:\n",
    "    print(value)"
   ]
  },
  {
   "cell_type": "markdown",
   "metadata": {},
   "source": [
    "### 4. Generator in forms of a class"
   ]
  },
  {
   "cell_type": "code",
   "execution_count": 1,
   "metadata": {
    "execution": {
     "iopub.execute_input": "2020-09-06T08:38:46.489799Z",
     "iopub.status.busy": "2020-09-06T08:38:46.489509Z",
     "iopub.status.idle": "2020-09-06T08:38:46.496175Z",
     "shell.execute_reply": "2020-09-06T08:38:46.495405Z",
     "shell.execute_reply.started": "2020-09-06T08:38:46.489736Z"
    }
   },
   "outputs": [
    {
     "name": "stdout",
     "output_type": "stream",
     "text": [
      "budi\n",
      "agus\n"
     ]
    }
   ],
   "source": [
    "# Generator In Class Form\n",
    "\n",
    "class StudentName:\n",
    "    def __init__(self):\n",
    "        self.students = [\"budi\", \"agus\"]\n",
    "\n",
    "    def __iter__(self):\n",
    "        self.index = 0\n",
    "        return self\n",
    "\n",
    "    def __next__(self):\n",
    "        returned_student = None\n",
    "        if self.index < len(self.students):\n",
    "            returned_student = self.students[self.index]\n",
    "        else:\n",
    "            raise StopIteration()\n",
    "        self.index += 1\n",
    "        return returned_student\n",
    "\n",
    "\n",
    "for student in StudentName():\n",
    "    print(student)"
   ]
  },
  {
   "cell_type": "markdown",
   "metadata": {},
   "source": [
    "### 5. Generator memory usage, compared to list,set etc.\n",
    "\n",
    "in example below, u will see that generator comsume almost no memory. because it's lazyness behaviour."
   ]
  },
  {
   "cell_type": "code",
   "execution_count": 97,
   "metadata": {
    "execution": {
     "iopub.execute_input": "2020-10-03T02:08:10.956459Z",
     "iopub.status.busy": "2020-10-03T02:08:10.956272Z",
     "iopub.status.idle": "2020-10-03T02:08:11.256817Z",
     "shell.execute_reply": "2020-10-03T02:08:11.255591Z",
     "shell.execute_reply.started": "2020-10-03T02:08:10.956439Z"
    }
   },
   "outputs": [
    {
     "name": "stdout",
     "output_type": "stream",
     "text": [
      "memory before get_million_data  [82.69921875]\n",
      "memory after get_million_data  [120.5703125]\n"
     ]
    }
   ],
   "source": [
    "# memory usage of generator.\n",
    "\"\"\"\n",
    "generator also know for lazyness process. because it only do 1 thing at a time.\n",
    "example of get index of number in range 0 - 1_000_000\n",
    "\"\"\"\n",
    "\n",
    "import memory_profiler as mem_profile\n",
    "\n",
    "print(\"memory before get_million_data \", mem_profile.memory_usage())\n",
    "\n",
    "\n",
    "def get_million_data():\n",
    "    million_data = list(range(1_000_000))\n",
    "    return million_data\n",
    "\n",
    "\n",
    "non_generator_data = get_million_data()\n",
    "print(\"memory after get_million_data \", mem_profile.memory_usage())"
   ]
  },
  {
   "cell_type": "code",
   "execution_count": 98,
   "metadata": {
    "execution": {
     "iopub.execute_input": "2020-10-03T02:08:12.548094Z",
     "iopub.status.busy": "2020-10-03T02:08:12.547889Z",
     "iopub.status.idle": "2020-10-03T02:08:12.554635Z",
     "shell.execute_reply": "2020-10-03T02:08:12.554084Z",
     "shell.execute_reply.started": "2020-10-03T02:08:12.548071Z"
    }
   },
   "outputs": [
    {
     "name": "stdout",
     "output_type": "stream",
     "text": [
      "0\n",
      "1\n",
      "2\n",
      "3\n",
      "4\n",
      "5\n",
      "6\n",
      "7\n",
      "8\n",
      "9\n"
     ]
    }
   ],
   "source": [
    "non_generator_data = iter(non_generator_data)\n",
    "for _ in range(10):\n",
    "    print(next(non_generator_data))"
   ]
  },
  {
   "cell_type": "code",
   "execution_count": 99,
   "metadata": {
    "execution": {
     "iopub.execute_input": "2020-10-03T02:08:13.673988Z",
     "iopub.status.busy": "2020-10-03T02:08:13.673774Z",
     "iopub.status.idle": "2020-10-03T02:08:13.924710Z",
     "shell.execute_reply": "2020-10-03T02:08:13.923702Z",
     "shell.execute_reply.started": "2020-10-03T02:08:13.673969Z"
    }
   },
   "outputs": [
    {
     "name": "stdout",
     "output_type": "stream",
     "text": [
      "memory before get_million_data_generator  [120.859375]\n",
      "memory after get_million_data_generator  [120.859375]\n",
      "0\n",
      "1\n",
      "2\n",
      "3\n",
      "4\n",
      "5\n",
      "6\n",
      "7\n",
      "8\n",
      "9\n"
     ]
    }
   ],
   "source": [
    "print(\"memory before get_million_data_generator \", mem_profile.memory_usage())\n",
    "\n",
    "\n",
    "def get_million_data_generator():\n",
    "    max_data = 1_000_000\n",
    "    last = 0\n",
    "    while last != max_data:\n",
    "        yield last\n",
    "        last += 1\n",
    "\n",
    "\n",
    "generator_data = get_million_data_generator()\n",
    "print(\"memory after get_million_data_generator \", mem_profile.memory_usage())\n",
    "\n",
    "for _ in range(10):\n",
    "    print(next(generator_data))"
   ]
  }
 ],
 "metadata": {
  "kernelspec": {
   "display_name": "Python 3",
   "language": "python",
   "name": "python3"
  },
  "language_info": {
   "codemirror_mode": {
    "name": "ipython",
    "version": 3
   },
   "file_extension": ".py",
   "mimetype": "text/x-python",
   "name": "python",
   "nbconvert_exporter": "python",
   "pygments_lexer": "ipython3",
   "version": "3.8.2"
  }
 },
 "nbformat": 4,
 "nbformat_minor": 4
}
