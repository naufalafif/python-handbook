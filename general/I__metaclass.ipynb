{
 "cells": [
  {
   "cell_type": "code",
   "execution_count": 15,
   "metadata": {
    "execution": {
     "iopub.execute_input": "2020-09-13T00:51:26.562602Z",
     "iopub.status.busy": "2020-09-13T00:51:26.562410Z",
     "iopub.status.idle": "2020-09-13T00:51:26.579056Z",
     "shell.execute_reply": "2020-09-13T00:51:26.577793Z",
     "shell.execute_reply.started": "2020-09-13T00:51:26.562581Z"
    }
   },
   "outputs": [
    {
     "name": "stdout",
     "output_type": "stream",
     "text": [
      "The lab_black extension is already loaded. To reload it, use:\n",
      "  %reload_ext lab_black\n",
      "('A', (), {'__module__': '__main__', '__qualname__': 'A', 'test': <function A.test at 0x7f30d41430d0>}) {}\n",
      "('B', (<class '__main__.A'>,), {'__module__': '__main__', '__qualname__': 'B', 'test': <function B.test at 0x7f30d41438b0>}) {}\n"
     ]
    }
   ],
   "source": [
    "%load_ext lab_black\n",
    "\n",
    "\"\"\"\n",
    "metaclasses \n",
    "\n",
    "\"\"\"\n",
    "\n",
    "\n",
    "class BaseClass(type):\n",
    "    def __new__(self, *args, **kwargs):\n",
    "        print(str(args), str(kwargs))\n",
    "        # place where u can put logic to interact with class who inhiret ur class\n",
    "        return super().__new__(self, *args, **kwargs)\n",
    "\n",
    "\n",
    "class A(metaclass=BaseClass):\n",
    "    def test(self):\n",
    "        print(\"a\")\n",
    "\n",
    "\n",
    "class B(A):\n",
    "    def test(self):\n",
    "        print(\"b\")\n",
    "\n",
    "\n",
    "b = B()"
   ]
  }
 ],
 "metadata": {
  "kernelspec": {
   "display_name": "Python 3",
   "language": "python",
   "name": "python3"
  },
  "language_info": {
   "codemirror_mode": {
    "name": "ipython",
    "version": 3
   },
   "file_extension": ".py",
   "mimetype": "text/x-python",
   "name": "python",
   "nbconvert_exporter": "python",
   "pygments_lexer": "ipython3",
   "version": "3.8.2"
  }
 },
 "nbformat": 4,
 "nbformat_minor": 4
}
