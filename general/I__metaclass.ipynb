{
 "cells": [
  {
   "cell_type": "code",
   "execution_count": 1,
   "metadata": {
    "execution": {
     "iopub.execute_input": "2020-09-03T13:32:18.118005Z",
     "iopub.status.busy": "2020-09-03T13:32:18.117766Z",
     "iopub.status.idle": "2020-09-03T13:32:18.179431Z",
     "shell.execute_reply": "2020-09-03T13:32:18.176908Z",
     "shell.execute_reply.started": "2020-09-03T13:32:18.117984Z"
    }
   },
   "outputs": [
    {
     "name": "stdout",
     "output_type": "stream",
     "text": [
      "meta called\n",
      "None\n"
     ]
    }
   ],
   "source": [
    "%load_ext lab_black\n",
    "\n",
    "\n",
    "class EmployeeMeta(type):\n",
    "    def __call__(self, *args, **kwargs):\n",
    "        print(\"meta called\")\n",
    "\n",
    "\n",
    "class Employee(metaclass=EmployeeMeta):\n",
    "    def __init__(self):\n",
    "        print(\"__init__ called\")\n",
    "\n",
    "\n",
    "employee_1 = Employee()\n",
    "print(employee_1)"
   ]
  },
  {
   "cell_type": "code",
   "execution_count": 2,
   "metadata": {
    "execution": {
     "iopub.execute_input": "2020-09-03T13:32:18.180857Z",
     "iopub.status.busy": "2020-09-03T13:32:18.180447Z",
     "iopub.status.idle": "2020-09-03T13:32:18.199328Z",
     "shell.execute_reply": "2020-09-03T13:32:18.198653Z",
     "shell.execute_reply.started": "2020-09-03T13:32:18.180832Z"
    }
   },
   "outputs": [
    {
     "name": "stdout",
     "output_type": "stream",
     "text": [
      "Student init called\n"
     ]
    }
   ],
   "source": [
    "class Student:\n",
    "    def __init__(self):\n",
    "        print(\"Student init called\")\n",
    "\n",
    "    class Meta:\n",
    "        def __init__(self):\n",
    "            print(\"Meta init called\")\n",
    "\n",
    "\n",
    "student_one = Student()"
   ]
  },
  {
   "cell_type": "code",
   "execution_count": 3,
   "metadata": {
    "execution": {
     "iopub.execute_input": "2020-09-03T13:32:18.200592Z",
     "iopub.status.busy": "2020-09-03T13:32:18.200376Z",
     "iopub.status.idle": "2020-09-03T13:32:18.322983Z",
     "shell.execute_reply": "2020-09-03T13:32:18.321047Z",
     "shell.execute_reply.started": "2020-09-03T13:32:18.200571Z"
    }
   },
   "outputs": [
    {
     "name": "stdout",
     "output_type": "stream",
     "text": [
      "animal created\n",
      "None\n",
      "['__annotations__', '__call__', '__class__', '__closure__', '__code__', '__defaults__', '__delattr__', '__dict__', '__dir__', '__doc__', '__eq__', '__format__', '__ge__', '__get__', '__getattribute__', '__globals__', '__gt__', '__hash__', '__init__', '__init_subclass__', '__kwdefaults__', '__le__', '__lt__', '__module__', '__name__', '__ne__', '__new__', '__qualname__', '__reduce__', '__reduce_ex__', '__repr__', '__setattr__', '__sizeof__', '__str__', '__subclasshook__']\n"
     ]
    },
    {
     "data": {
      "text/plain": [
       "'(<cell at 0x7f291d985370: str object at 0x7f291d9a8070>,)'"
      ]
     },
     "execution_count": 3,
     "metadata": {},
     "output_type": "execute_result"
    }
   ],
   "source": [
    "def function_with_class():\n",
    "    class Animal:\n",
    "        def __init__(self):\n",
    "            print(\"animal created\")\n",
    "\n",
    "    return Animal()\n",
    "\n",
    "\n",
    "function_with_class().__dict__\n",
    "\n",
    "\n",
    "def function_one():\n",
    "    print(\"a\")\n",
    "\n",
    "\n",
    "print(function_one.__closure__)\n",
    "print(dir(function_one))\n",
    "\n",
    "\n",
    "def closure_function(msg):\n",
    "    def inside_function():\n",
    "        return msg\n",
    "\n",
    "    return inside_function\n",
    "\n",
    "\n",
    "repr(closure_function(\"agus\").__closure__)"
   ]
  }
 ],
 "metadata": {
  "kernelspec": {
   "display_name": "Python 3",
   "language": "python",
   "name": "python3"
  },
  "language_info": {
   "codemirror_mode": {
    "name": "ipython",
    "version": 3
   },
   "file_extension": ".py",
   "mimetype": "text/x-python",
   "name": "python",
   "nbconvert_exporter": "python",
   "pygments_lexer": "ipython3",
   "version": "3.8.2"
  }
 },
 "nbformat": 4,
 "nbformat_minor": 4
}
