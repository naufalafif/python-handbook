{
 "cells": [
  {
   "cell_type": "code",
   "execution_count": 16,
   "metadata": {
    "execution": {
     "iopub.execute_input": "2020-09-13T02:22:43.173952Z",
     "iopub.status.busy": "2020-09-13T02:22:43.173755Z",
     "iopub.status.idle": "2020-09-13T02:22:43.193229Z",
     "shell.execute_reply": "2020-09-13T02:22:43.192711Z",
     "shell.execute_reply.started": "2020-09-13T02:22:43.173931Z"
    }
   },
   "outputs": [
    {
     "name": "stdout",
     "output_type": "stream",
     "text": [
      "The lab_black extension is already loaded. To reload it, use:\n",
      "  %reload_ext lab_black\n",
      "('A', (), {'__module__': '__main__', '__qualname__': 'A', 'test': <function A.test at 0x7f30d4143790>}) {}\n",
      "('B', (<class '__main__.A'>,), {'__module__': '__main__', '__qualname__': 'B', 'test': <function B.test at 0x7f30d4065a60>}) {}\n"
     ]
    }
   ],
   "source": [
    "%load_ext lab_black\n",
    "\n",
    "\"\"\"\n",
    "metaclasses.\n",
    "metaclasses is based class of all classes, also know as type.\n",
    "metaclasses allow us to hook into class creation process, do things within the process.\n",
    "\n",
    "by default when u build class, u will have havemetaclasses set as type\n",
    "\n",
    "\"\"\"\n",
    "\n",
    "\n",
    "class BaseClass(type):\n",
    "    def __new__(self, *args, **kwargs):\n",
    "        print(str(args), str(kwargs))\n",
    "        # place where u can put logic to interact with class who inhiret ur class\n",
    "        return super().__new__(self, *args, **kwargs)\n",
    "\n",
    "\n",
    "class A(metaclass=BaseClass):\n",
    "    def test(self):\n",
    "        print(\"a\")\n",
    "\n",
    "\n",
    "class B(A):\n",
    "    def test(self):\n",
    "        print(\"b\")\n",
    "\n",
    "\n",
    "b = B()"
   ]
  },
  {
   "cell_type": "code",
   "execution_count": 21,
   "metadata": {
    "execution": {
     "iopub.execute_input": "2020-09-13T02:23:54.076432Z",
     "iopub.status.busy": "2020-09-13T02:23:54.076236Z",
     "iopub.status.idle": "2020-09-13T02:23:54.084969Z",
     "shell.execute_reply": "2020-09-13T02:23:54.084314Z",
     "shell.execute_reply.started": "2020-09-13T02:23:54.076411Z"
    }
   },
   "outputs": [
    {
     "name": "stdout",
     "output_type": "stream",
     "text": [
      "init\n"
     ]
    },
    {
     "data": {
      "text/plain": [
       "'naufal'"
      ]
     },
     "execution_count": 21,
     "metadata": {},
     "output_type": "execute_result"
    }
   ],
   "source": [
    "class Name(metaclass=type):\n",
    "    def __init__(self):\n",
    "        print(\"init\")\n",
    "\n",
    "    def get_name(self):\n",
    "        return \"naufal\"\n",
    "\n",
    "\n",
    "name = Name()\n",
    "name.get_name()"
   ]
  },
  {
   "cell_type": "code",
   "execution_count": 23,
   "metadata": {
    "execution": {
     "iopub.execute_input": "2020-09-13T02:24:18.527281Z",
     "iopub.status.busy": "2020-09-13T02:24:18.527067Z",
     "iopub.status.idle": "2020-09-13T02:24:18.548737Z",
     "shell.execute_reply": "2020-09-13T02:24:18.548102Z",
     "shell.execute_reply.started": "2020-09-13T02:24:18.527249Z"
    }
   },
   "outputs": [
    {
     "name": "stdout",
     "output_type": "stream",
     "text": [
      "init\n"
     ]
    },
    {
     "data": {
      "text/plain": [
       "'naufal'"
      ]
     },
     "execution_count": 23,
     "metadata": {},
     "output_type": "execute_result"
    }
   ],
   "source": [
    "# classes without metaclasses defined\n",
    "\n",
    "\n",
    "class Name:\n",
    "    def __init__(self):\n",
    "        print(\"init\")\n",
    "\n",
    "    def get_name(self):\n",
    "        return \"naufal\"\n",
    "\n",
    "\n",
    "name = Name()\n",
    "name.get_name()\n",
    "\n",
    "# it produces same output"
   ]
  },
  {
   "cell_type": "code",
   "execution_count": 34,
   "metadata": {
    "execution": {
     "iopub.execute_input": "2020-09-13T02:27:31.938408Z",
     "iopub.status.busy": "2020-09-13T02:27:31.938218Z",
     "iopub.status.idle": "2020-09-13T02:27:31.959617Z",
     "shell.execute_reply": "2020-09-13T02:27:31.957632Z",
     "shell.execute_reply.started": "2020-09-13T02:27:31.938388Z"
    }
   },
   "outputs": [
    {
     "name": "stdout",
     "output_type": "stream",
     "text": [
      "before creation\n",
      "class created | meta\n",
      "class created | class\n"
     ]
    }
   ],
   "source": [
    "class MyMeta(type):\n",
    "    def __new__(cls, *args, **kwargs):\n",
    "        print(\"before creation\")\n",
    "        return super().__new__(cls, *args, **kwargs)\n",
    "\n",
    "    def __init__(cls, *args, **kwargs):\n",
    "        print(\"class created | meta\")\n",
    "        return super().__init__(*args, **kwargs)\n",
    "\n",
    "\n",
    "class MyClass(metaclass=MyMeta):\n",
    "    def __init__(self):\n",
    "        print(\"class created | class\")\n",
    "\n",
    "\n",
    "myclass = MyClass()"
   ]
  }
 ],
 "metadata": {
  "kernelspec": {
   "display_name": "Python 3",
   "language": "python",
   "name": "python3"
  },
  "language_info": {
   "codemirror_mode": {
    "name": "ipython",
    "version": 3
   },
   "file_extension": ".py",
   "mimetype": "text/x-python",
   "name": "python",
   "nbconvert_exporter": "python",
   "pygments_lexer": "ipython3",
   "version": "3.8.2"
  }
 },
 "nbformat": 4,
 "nbformat_minor": 4
}
