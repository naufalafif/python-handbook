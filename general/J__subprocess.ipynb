{
 "cells": [
  {
   "cell_type": "code",
   "execution_count": 1,
   "metadata": {
    "execution": {
     "iopub.execute_input": "2020-09-03T13:32:27.575001Z",
     "iopub.status.busy": "2020-09-03T13:32:27.574766Z",
     "iopub.status.idle": "2020-09-03T13:32:27.657490Z",
     "shell.execute_reply": "2020-09-03T13:32:27.656773Z",
     "shell.execute_reply.started": "2020-09-03T13:32:27.574970Z"
    }
   },
   "outputs": [
    {
     "name": "stdout",
     "output_type": "stream",
     "text": [
      "Output b'A__class_instances_variable.ipynb\\nassets\\nB__class_methods.ipynb\\nC__class_subclass.ipynb\\nD__dunder_datamodel.ipynb\\ndownload\\nE__decorator.ipynb\\nF__property_decorator.ipynb\\nG__context_manager.ipynb\\nH__generator.ipynb\\nI__metaclass.ipynb\\nJ__subprocess.ipynb\\nK__threading_concurrent.ipynb\\nL__mutiprocess_parallel.ipynb\\nM__async_coroutine.ipynb\\nN_class_abstract_class.ipynb\\nO_functions_advance.ipynb\\nothers.ipynb\\nplayground.ipynb\\n'\n",
      "Error None\n",
      "b'-rw-r--r-- 1 naufal naufal  5702 Sep  3 20:31 D__dunder_datamodel.ipynb\\n'\n"
     ]
    }
   ],
   "source": [
    "%load_ext lab_black\n",
    "import subprocess\n",
    "\n",
    "# Simply run command\n",
    "subprocess.run([\"ls\", \"-la\"])\n",
    "subprocess.run(\"ls -la\", shell=True)  # Raw Command, without separation\n",
    "\n",
    "# Outputing into command line\n",
    "sub_1 = subprocess.run([\"ls\"], stdout=subprocess.PIPE)\n",
    "# subprocess output\n",
    "print(\"Output\", sub_1.stdout)\n",
    "# subprocess output\n",
    "print(\"Error\", sub_1.stderr)\n",
    "\n",
    "# connecting 2 subprocess\n",
    "subp_1 = subprocess.run(\"ls -l\", shell=True, stdout=subprocess.PIPE)\n",
    "# print(f\"Sub Output {subp_1.stdout}\")\n",
    "subp_2 = subprocess.run(\n",
    "    \"grep datamodel\", shell=True, stdout=subprocess.PIPE, input=subp_1.stdout\n",
    ")\n",
    "print(subp_2.stdout)  # Find datamodel word in subprocess 1 output"
   ]
  }
 ],
 "metadata": {
  "kernelspec": {
   "display_name": "Python 3",
   "language": "python",
   "name": "python3"
  },
  "language_info": {
   "codemirror_mode": {
    "name": "ipython",
    "version": 3
   },
   "file_extension": ".py",
   "mimetype": "text/x-python",
   "name": "python",
   "nbconvert_exporter": "python",
   "pygments_lexer": "ipython3",
   "version": "3.8.2"
  }
 },
 "nbformat": 4,
 "nbformat_minor": 4
}
