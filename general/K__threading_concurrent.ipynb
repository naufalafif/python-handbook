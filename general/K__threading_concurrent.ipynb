{
 "cells": [
  {
   "cell_type": "code",
   "execution_count": 1,
   "metadata": {
    "execution": {
     "iopub.execute_input": "2020-09-03T13:32:35.397805Z",
     "iopub.status.busy": "2020-09-03T13:32:35.397567Z",
     "iopub.status.idle": "2020-09-03T13:32:37.471012Z",
     "shell.execute_reply": "2020-09-03T13:32:37.470020Z",
     "shell.execute_reply.started": "2020-09-03T13:32:35.397785Z"
    }
   },
   "outputs": [
    {
     "name": "stdout",
     "output_type": "stream",
     "text": [
      "\n",
      "\n",
      "-- normal function --\n",
      "\n",
      "\n",
      "begin something\n",
      "something finished\n",
      "begin something\n",
      "something finished\n",
      "2.0 secods elapsed\n"
     ]
    }
   ],
   "source": [
    "%load_ext lab_black\n",
    "# Threading used for concurrency\n",
    "# Mostly used to handle io bound app, means there are a lot of waiting operation\n",
    "\n",
    "import time\n",
    "import threading\n",
    "\n",
    "# Normal Function Without Thread\n",
    "def do_something(wait):\n",
    "    print(\"begin something\")\n",
    "    time.sleep(wait)\n",
    "    print(\"something finished\")\n",
    "\n",
    "\n",
    "print(\"\\n\\n-- normal function --\\n\\n\")\n",
    "start = time.perf_counter()\n",
    "do_something(1)\n",
    "do_something(1)\n",
    "finish = time.perf_counter()\n",
    "print(f\"{round(finish - start, 2)} secods elapsed\")"
   ]
  },
  {
   "cell_type": "code",
   "execution_count": 2,
   "metadata": {
    "execution": {
     "iopub.execute_input": "2020-09-03T13:32:37.472475Z",
     "iopub.status.busy": "2020-09-03T13:32:37.472200Z",
     "iopub.status.idle": "2020-09-03T13:32:38.506828Z",
     "shell.execute_reply": "2020-09-03T13:32:38.504043Z",
     "shell.execute_reply.started": "2020-09-03T13:32:37.472447Z"
    }
   },
   "outputs": [
    {
     "name": "stdout",
     "output_type": "stream",
     "text": [
      "\n",
      "\n",
      "-- with thread function --\n",
      "\n",
      "\n",
      "begin something\n",
      "begin something\n",
      "something finished\n",
      "something finished\n",
      "1.0 secods elapsed\n"
     ]
    }
   ],
   "source": [
    "print(\"\\n\\n-- with thread function --\\n\\n\")\n",
    "start = time.perf_counter()\n",
    "\n",
    "thread_1 = threading.Thread(target=do_something, args=[1])\n",
    "thread_2 = threading.Thread(target=do_something, args=[1])\n",
    "\n",
    "# execute function on separate thread\n",
    "thread_1.start()\n",
    "thread_2.start()\n",
    "\n",
    "# join master thread, or current thread\n",
    "thread_1.join()\n",
    "thread_2.join()\n",
    "\n",
    "finish = time.perf_counter()\n",
    "print(f\"{round(finish - start, 2)} secods elapsed\")"
   ]
  },
  {
   "cell_type": "code",
   "execution_count": 3,
   "metadata": {
    "execution": {
     "iopub.execute_input": "2020-09-03T13:32:38.514516Z",
     "iopub.status.busy": "2020-09-03T13:32:38.511934Z",
     "iopub.status.idle": "2020-09-03T13:32:39.563123Z",
     "shell.execute_reply": "2020-09-03T13:32:39.561163Z",
     "shell.execute_reply.started": "2020-09-03T13:32:38.513727Z"
    }
   },
   "outputs": [
    {
     "name": "stdout",
     "output_type": "stream",
     "text": [
      "\n",
      "\n",
      "-- with thread list function --\n",
      "\n",
      "\n",
      "begin somethingbegin something\n",
      "\n",
      "begin something\n",
      "begin something\n",
      "begin something\n",
      "begin something\n",
      "begin something\n",
      "begin somethingbegin something\n",
      "\n",
      "begin something\n",
      "something finished\n",
      "something finished\n",
      "something finished\n",
      "something finished\n",
      "something finished\n",
      "something finished\n",
      "something finished\n",
      "something finished\n",
      "something finished\n",
      "something finished\n",
      "1.02 secods elapsed\n"
     ]
    }
   ],
   "source": [
    "print(\"\\n\\n-- with thread list function --\\n\\n\")\n",
    "start = time.perf_counter()\n",
    "\n",
    "threads = []\n",
    "\n",
    "for _ in range(10):\n",
    "    thread = threading.Thread(target=do_something, args=[1])\n",
    "    thread.start()\n",
    "    threads.append(thread)\n",
    "\n",
    "for current_thread in threads:\n",
    "    current_thread.join()\n",
    "\n",
    "finish = time.perf_counter()\n",
    "print(f\"{round(finish - start, 2)} secods elapsed\")"
   ]
  },
  {
   "cell_type": "code",
   "execution_count": 4,
   "metadata": {
    "execution": {
     "iopub.execute_input": "2020-09-03T13:32:39.566647Z",
     "iopub.status.busy": "2020-09-03T13:32:39.566003Z",
     "iopub.status.idle": "2020-09-03T13:32:43.618865Z",
     "shell.execute_reply": "2020-09-03T13:32:43.616624Z",
     "shell.execute_reply.started": "2020-09-03T13:32:39.566586Z"
    }
   },
   "outputs": [
    {
     "name": "stdout",
     "output_type": "stream",
     "text": [
      "\n",
      "\n",
      "-- with thread list function --\n",
      "\n",
      "\n",
      "begin something\n",
      "begin something\n",
      "begin something\n",
      "begin something\n",
      "something finished in 1\n",
      "something finished in 2\n",
      "something finished in 3\n",
      "something finished in 4\n",
      "4.01 secods elapsed\n"
     ]
    }
   ],
   "source": [
    "# Thread with ThreadPoolExecutor & submit\n",
    "from concurrent import futures\n",
    "\n",
    "\n",
    "def do_something_with_return(wait):\n",
    "    print(\"begin something\")\n",
    "    time.sleep(wait)\n",
    "    return f\"something finished in {wait}\"\n",
    "\n",
    "\n",
    "print(\"\\n\\n-- with thread list function --\\n\\n\")\n",
    "start = time.perf_counter()\n",
    "\n",
    "with futures.ThreadPoolExecutor() as executor:\n",
    "    args = [1, 2, 3, 4]\n",
    "    result = [executor.submit(do_something_with_return, arg) for arg in args]\n",
    "\n",
    "    for f in futures.as_completed(result):\n",
    "        print(f.result())\n",
    "\n",
    "finish = time.perf_counter()\n",
    "print(f\"{round(finish - start, 2)} secods elapsed\")"
   ]
  },
  {
   "cell_type": "code",
   "execution_count": 5,
   "metadata": {
    "execution": {
     "iopub.execute_input": "2020-09-03T13:32:43.621972Z",
     "iopub.status.busy": "2020-09-03T13:32:43.621344Z",
     "iopub.status.idle": "2020-09-03T13:32:47.659048Z",
     "shell.execute_reply": "2020-09-03T13:32:47.657692Z",
     "shell.execute_reply.started": "2020-09-03T13:32:43.621908Z"
    }
   },
   "outputs": [
    {
     "name": "stdout",
     "output_type": "stream",
     "text": [
      "\n",
      "\n",
      "-- with futures thread function --\n",
      "\n",
      "\n",
      "begin something\n",
      "begin something\n",
      "begin something\n",
      "begin something\n",
      "4.01 secods elapsed\n"
     ]
    }
   ],
   "source": [
    "# Thread with ThreadPoolExecutor & map\n",
    "# Use this if u want the result in the same order\n",
    "\n",
    "print(\"\\n\\n-- with futures thread function --\\n\\n\")\n",
    "start = time.perf_counter()\n",
    "with futures.ThreadPoolExecutor() as executor:\n",
    "    args = [1, 2, 3, 4]\n",
    "    results = executor.map(do_something_with_return, args)\n",
    "\n",
    "#     for result in results:\n",
    "#         print(result)\n",
    "\n",
    "finish = time.perf_counter()\n",
    "print(f\"{round(finish - start, 2)} secods elapsed\")"
   ]
  },
  {
   "cell_type": "code",
   "execution_count": 6,
   "metadata": {
    "execution": {
     "iopub.execute_input": "2020-09-03T13:32:47.660875Z",
     "iopub.status.busy": "2020-09-03T13:32:47.660510Z",
     "iopub.status.idle": "2020-09-03T13:32:53.387810Z",
     "shell.execute_reply": "2020-09-03T13:32:53.387071Z",
     "shell.execute_reply.started": "2020-09-03T13:32:47.660839Z"
    }
   },
   "outputs": [
    {
     "name": "stdout",
     "output_type": "stream",
     "text": [
      "Download without thread\n",
      "Finish Download Image : download/2020-03.jpg\n",
      "Finish Download Image : download/data.jpg\n",
      "Finish Download Image : download/files.jpg\n",
      "5.66 second elapsed\n"
     ]
    }
   ],
   "source": [
    "# Real World Example\n",
    "\n",
    "import requests\n",
    "\n",
    "img_urls = [\n",
    "    \"https://c.ndtvimg.com/2020-03/og642c2_ferrari-f8-tributo-review_625x300_12_March_20.jpg\",\n",
    "    \"https://cdn2.iconfinder.com/data/icons/iconslandtransport/PNG/256x256/CarGrey.png\",\n",
    "    \"https://www.emoji.co.uk/files/apple-emojis/travel-places-ios/483-racing-car.png\",\n",
    "]\n",
    "\n",
    "\n",
    "def download_image(url):\n",
    "    img_bytes = requests.get(url).content\n",
    "    image_name = url.split(\"/\")[3]\n",
    "    image_name = f\"download/{image_name}.jpg\"\n",
    "\n",
    "    with open(image_name, \"wb\") as file:\n",
    "        file.write(img_bytes)\n",
    "        print(\"Finish Download Image : {}\".format(image_name))\n",
    "\n",
    "\n",
    "print(\"Download without thread\")\n",
    "start = time.perf_counter()\n",
    "\n",
    "for img_url in img_urls:\n",
    "    download_image(img_url)\n",
    "\n",
    "finish = time.perf_counter()\n",
    "print(f\"{round(finish-start,2)} second elapsed\")"
   ]
  },
  {
   "cell_type": "code",
   "execution_count": 7,
   "metadata": {
    "execution": {
     "iopub.execute_input": "2020-09-03T13:32:53.388875Z",
     "iopub.status.busy": "2020-09-03T13:32:53.388663Z",
     "iopub.status.idle": "2020-09-03T13:32:54.708810Z",
     "shell.execute_reply": "2020-09-03T13:32:54.706495Z",
     "shell.execute_reply.started": "2020-09-03T13:32:53.388854Z"
    }
   },
   "outputs": [
    {
     "name": "stdout",
     "output_type": "stream",
     "text": [
      "Download with thread\n",
      "Finish Download Image : download/data.jpg\n",
      "Finish Download Image : download/2020-03.jpg\n",
      "Finish Download Image : download/files.jpg\n",
      "1.3 second elapsed\n"
     ]
    }
   ],
   "source": [
    "print(\"Download with thread\")\n",
    "start = time.perf_counter()\n",
    "\n",
    "with futures.ThreadPoolExecutor() as executor:\n",
    "    executor.map(download_image, img_urls)\n",
    "\n",
    "finish = time.perf_counter()\n",
    "print(f\"{round(finish-start,2)} second elapsed\")"
   ]
  }
 ],
 "metadata": {
  "kernelspec": {
   "display_name": "Python 3",
   "language": "python",
   "name": "python3"
  },
  "language_info": {
   "codemirror_mode": {
    "name": "ipython",
    "version": 3
   },
   "file_extension": ".py",
   "mimetype": "text/x-python",
   "name": "python",
   "nbconvert_exporter": "python",
   "pygments_lexer": "ipython3",
   "version": "3.8.2"
  }
 },
 "nbformat": 4,
 "nbformat_minor": 4
}
