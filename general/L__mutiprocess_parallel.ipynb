{
 "cells": [
  {
   "cell_type": "code",
   "execution_count": 1,
   "metadata": {
    "execution": {
     "iopub.execute_input": "2020-09-03T13:32:40.155138Z",
     "iopub.status.busy": "2020-09-03T13:32:40.154766Z",
     "iopub.status.idle": "2020-09-03T13:32:42.221987Z",
     "shell.execute_reply": "2020-09-03T13:32:42.221065Z",
     "shell.execute_reply.started": "2020-09-03T13:32:40.155102Z"
    }
   },
   "outputs": [
    {
     "name": "stdout",
     "output_type": "stream",
     "text": [
      "\n",
      "\n",
      "-- normal function --\n",
      "\n",
      "\n",
      "begin something\n",
      "something finished\n",
      "begin something\n",
      "something finished\n",
      "2.0 secods elapsed\n"
     ]
    }
   ],
   "source": [
    "%load_ext lab_black\n",
    "import time\n",
    "\n",
    "\n",
    "def do_something(wait):\n",
    "    print(\"begin something\")\n",
    "    time.sleep(wait)\n",
    "    print(\"something finished\")\n",
    "\n",
    "\n",
    "print(\"\\n\\n-- normal function --\\n\\n\")\n",
    "start = time.perf_counter()\n",
    "do_something(1)\n",
    "do_something(1)\n",
    "finish = time.perf_counter()\n",
    "print(f\"{round(finish - start, 2)} secods elapsed\")"
   ]
  },
  {
   "cell_type": "code",
   "execution_count": 2,
   "metadata": {
    "execution": {
     "iopub.execute_input": "2020-09-03T13:32:42.225295Z",
     "iopub.status.busy": "2020-09-03T13:32:42.224773Z",
     "iopub.status.idle": "2020-09-03T13:32:43.263067Z",
     "shell.execute_reply": "2020-09-03T13:32:43.262231Z",
     "shell.execute_reply.started": "2020-09-03T13:32:42.225267Z"
    }
   },
   "outputs": [
    {
     "name": "stdout",
     "output_type": "stream",
     "text": [
      "\n",
      "\n",
      "-- parallel function --\n",
      "\n",
      "\n",
      "begin something 1\n",
      "begin something 1\n",
      "1.02 secods elapsed\n"
     ]
    }
   ],
   "source": [
    "import multiprocessing\n",
    "\n",
    "\n",
    "def do_something_with_return(wait):\n",
    "    print(\"begin something {}\".format(wait))\n",
    "    time.sleep(wait)\n",
    "    return f\"something finished in {wait} seconds\"\n",
    "\n",
    "\n",
    "print(\"\\n\\n-- parallel function --\\n\\n\")\n",
    "start = time.perf_counter()\n",
    "\n",
    "process_1 = multiprocessing.Process(target=do_something_with_return, args=[1])\n",
    "process_2 = multiprocessing.Process(target=do_something_with_return, args=[1])\n",
    "process_1.start()\n",
    "process_2.start()\n",
    "process_1.join()\n",
    "process_2.join()\n",
    "\n",
    "finish = time.perf_counter()\n",
    "print(f\"{round(finish - start, 2)} secods elapsed\")"
   ]
  },
  {
   "cell_type": "code",
   "execution_count": 3,
   "metadata": {
    "execution": {
     "iopub.execute_input": "2020-09-03T13:32:43.264766Z",
     "iopub.status.busy": "2020-09-03T13:32:43.264412Z",
     "iopub.status.idle": "2020-09-03T13:32:44.332861Z",
     "shell.execute_reply": "2020-09-03T13:32:44.330692Z",
     "shell.execute_reply.started": "2020-09-03T13:32:43.264740Z"
    }
   },
   "outputs": [
    {
     "name": "stdout",
     "output_type": "stream",
     "text": [
      "\n",
      "\n",
      "-- parallel with list function --\n",
      "\n",
      "\n",
      "begin something 1begin something 1\n",
      "begin something 1begin something 1begin something 1\n",
      "\n",
      "\n",
      "begin something 1begin something 1begin something 1begin something 1begin something 1\n",
      "\n",
      "\n",
      "\n",
      "\n",
      "\n",
      "1.04 secods elapsed\n"
     ]
    }
   ],
   "source": [
    "import multiprocessing\n",
    "\n",
    "print(\"\\n\\n-- parallel with list function --\\n\\n\")\n",
    "start = time.perf_counter()\n",
    "\n",
    "processes = []\n",
    "\n",
    "for _ in range(10):\n",
    "    process = multiprocessing.Process(target=do_something_with_return, args=[1])\n",
    "    process.start()\n",
    "    processes.append(process)\n",
    "\n",
    "for current_process in processes:\n",
    "    current_process.join()\n",
    "\n",
    "\n",
    "finish = time.perf_counter()\n",
    "print(f\"{round(finish - start, 2)} secods elapsed\")"
   ]
  },
  {
   "cell_type": "code",
   "execution_count": 4,
   "metadata": {
    "execution": {
     "iopub.execute_input": "2020-09-03T13:32:44.336686Z",
     "iopub.status.busy": "2020-09-03T13:32:44.336089Z",
     "iopub.status.idle": "2020-09-03T13:32:48.399839Z",
     "shell.execute_reply": "2020-09-03T13:32:48.398982Z",
     "shell.execute_reply.started": "2020-09-03T13:32:44.336624Z"
    }
   },
   "outputs": [
    {
     "name": "stdout",
     "output_type": "stream",
     "text": [
      "\n",
      "\n",
      "-- parallel with futures function --\n",
      "\n",
      "\n",
      "begin something 2begin something 1begin something 3begin something 4\n",
      "\n",
      "\n",
      "\n",
      "something finished in 1 seconds\n",
      "something finished in 2 seconds\n",
      "something finished in 3 seconds\n",
      "something finished in 4 seconds\n",
      "4.05 secods elapsed\n"
     ]
    }
   ],
   "source": [
    "# Running Parallel using concurent packages will spend more time, because the packages can make decision wheter we should use all processor or not\n",
    "\n",
    "from concurrent import futures\n",
    "\n",
    "print(\"\\n\\n-- parallel with futures function --\\n\\n\")\n",
    "start = time.perf_counter()\n",
    "\n",
    "with futures.ProcessPoolExecutor() as executor:\n",
    "    seconds = [1, 2, 3, 4]\n",
    "    results = [executor.submit(do_something_with_return, sec) for sec in seconds]\n",
    "    for f in futures.as_completed(results):\n",
    "        print(f.result())\n",
    "\n",
    "finish = time.perf_counter()\n",
    "print(f\"{round(finish - start, 2)} secods elapsed\")"
   ]
  },
  {
   "cell_type": "code",
   "execution_count": 5,
   "metadata": {
    "execution": {
     "iopub.execute_input": "2020-09-03T13:32:48.401198Z",
     "iopub.status.busy": "2020-09-03T13:32:48.400912Z",
     "iopub.status.idle": "2020-09-03T13:32:52.454251Z",
     "shell.execute_reply": "2020-09-03T13:32:52.451484Z",
     "shell.execute_reply.started": "2020-09-03T13:32:48.401176Z"
    }
   },
   "outputs": [
    {
     "name": "stdout",
     "output_type": "stream",
     "text": [
      "\n",
      "\n",
      "-- parallel with futures map function --\n",
      "\n",
      "\n",
      "begin something 3begin something 2begin something 1begin something 4\n",
      "\n",
      "\n",
      "\n",
      "something finished in 1 seconds\n",
      "something finished in 2 seconds\n",
      "something finished in 3 seconds\n",
      "something finished in 4 seconds\n",
      "4.03 secods elapsed\n"
     ]
    }
   ],
   "source": [
    "print(\"\\n\\n-- parallel with futures map function --\\n\\n\")\n",
    "start = time.perf_counter()\n",
    "\n",
    "with futures.ProcessPoolExecutor() as executor:\n",
    "    seconds = [1, 2, 3, 4]\n",
    "    results = executor.map(do_something_with_return, seconds)\n",
    "    for result in results:\n",
    "        print(result)\n",
    "\n",
    "finish = time.perf_counter()\n",
    "print(f\"{round(finish - start, 2)} secods elapsed\")"
   ]
  },
  {
   "cell_type": "code",
   "execution_count": 6,
   "metadata": {
    "execution": {
     "iopub.execute_input": "2020-09-03T13:32:52.458045Z",
     "iopub.status.busy": "2020-09-03T13:32:52.457344Z",
     "iopub.status.idle": "2020-09-03T13:32:52.717783Z",
     "shell.execute_reply": "2020-09-03T13:32:52.717001Z",
     "shell.execute_reply.started": "2020-09-03T13:32:52.457972Z"
    }
   },
   "outputs": [
    {
     "name": "stdout",
     "output_type": "stream",
     "text": [
      "['./download/2020-03.jpg-edited.jpg', './download/2020-03.jpg', './download/data.jpg', './download/2020-03.jpg-edited.jpg-edited.jpg']\n",
      "./download/2020-03.jpg-edited.jpg-edited.jpg was processed...\n",
      "./download/2020-03.jpg-edited.jpg was processed..../download/2020-03.jpg was processed...\n",
      "\n",
      "Finished in 0.05616811999971105 seconds\n"
     ]
    }
   ],
   "source": [
    "import time\n",
    "import concurrent.futures\n",
    "from PIL import Image, ImageFilter\n",
    "from os import listdir\n",
    "\n",
    "path = \"./download\"\n",
    "img_names = [\"{}/{}\".format(path, img) for img in listdir(path)]\n",
    "\n",
    "print(img_names)\n",
    "\n",
    "t1 = time.perf_counter()\n",
    "\n",
    "size = (1200, 1200)\n",
    "\n",
    "\n",
    "def process_image(img_name):\n",
    "    img = Image.open(img_name)\n",
    "    img = img.filter(ImageFilter.GaussianBlur(15))\n",
    "    #     img.thumbnail(size)\n",
    "    img.save(f\"{img_name}-edited.jpg\")\n",
    "    print(f\"{img_name} was processed...\")\n",
    "\n",
    "\n",
    "with concurrent.futures.ProcessPoolExecutor() as executor:\n",
    "    executor.map(process_image, img_names)\n",
    "\n",
    "\n",
    "t2 = time.perf_counter()\n",
    "\n",
    "print(f\"Finished in {t2-t1} seconds\")"
   ]
  },
  {
   "cell_type": "code",
   "execution_count": 7,
   "metadata": {
    "execution": {
     "iopub.execute_input": "2020-09-03T13:32:52.719010Z",
     "iopub.status.busy": "2020-09-03T13:32:52.718787Z",
     "iopub.status.idle": "2020-09-03T13:33:04.828118Z",
     "shell.execute_reply": "2020-09-03T13:33:04.826819Z",
     "shell.execute_reply.started": "2020-09-03T13:32:52.718986Z"
    }
   },
   "outputs": [
    {
     "name": "stdout",
     "output_type": "stream",
     "text": [
      "enter threadenter threadenter threadenter thread\n",
      "\n",
      "\n",
      "\n",
      "3 seconds elapsed in thread ThreadPoolExecutor-0_0 and in process ForkProcess-263 seconds elapsed in thread ThreadPoolExecutor-0_0 and in process ForkProcess-27\n",
      "3 seconds elapsed in thread ThreadPoolExecutor-0_0 and in process ForkProcess-253 seconds elapsed in thread ThreadPoolExecutor-0_0 and in process ForkProcess-28\n",
      "\n",
      "3 seconds elapsed in thread ThreadPoolExecutor-0_1 and in process ForkProcess-26\n",
      "\n",
      "3 seconds elapsed in thread ThreadPoolExecutor-0_2 and in process ForkProcess-263 seconds elapsed in thread ThreadPoolExecutor-0_1 and in process ForkProcess-253 seconds elapsed in thread ThreadPoolExecutor-0_1 and in process ForkProcess-27\n",
      "3 seconds elapsed in thread ThreadPoolExecutor-0_1 and in process ForkProcess-283 seconds elapsed in thread ThreadPoolExecutor-0_3 and in process ForkProcess-26\n",
      "\n",
      "3 seconds elapsed in thread ThreadPoolExecutor-0_2 and in process ForkProcess-283 seconds elapsed in thread ThreadPoolExecutor-0_4 and in process ForkProcess-26\n",
      "3 seconds elapsed in thread ThreadPoolExecutor-0_3 and in process ForkProcess-28\n",
      "\n",
      "\n",
      "3 seconds elapsed in thread ThreadPoolExecutor-0_2 and in process ForkProcess-273 seconds elapsed in thread ThreadPoolExecutor-0_5 and in process ForkProcess-26\n",
      "\n",
      "3 seconds elapsed in thread ThreadPoolExecutor-0_3 and in process ForkProcess-273 seconds elapsed in thread ThreadPoolExecutor-0_6 and in process ForkProcess-26\n",
      "\n",
      "3 seconds elapsed in thread ThreadPoolExecutor-0_4 and in process ForkProcess-273 seconds elapsed in thread ThreadPoolExecutor-0_7 and in process ForkProcess-26\n",
      "\n",
      "3 seconds elapsed in thread ThreadPoolExecutor-0_2 and in process ForkProcess-25\n",
      "3 seconds elapsed in thread ThreadPoolExecutor-0_5 and in process ForkProcess-27\n",
      "3 seconds elapsed in thread ThreadPoolExecutor-0_4 and in process ForkProcess-283 seconds elapsed in thread ThreadPoolExecutor-0_6 and in process ForkProcess-27\n",
      "\n",
      "3 seconds elapsed in thread ThreadPoolExecutor-0_7 and in process ForkProcess-27\n",
      "\n",
      "3 seconds elapsed in thread ThreadPoolExecutor-0_3 and in process ForkProcess-25\n",
      "3 seconds elapsed in thread ThreadPoolExecutor-0_4 and in process ForkProcess-253 seconds elapsed in thread ThreadPoolExecutor-0_5 and in process ForkProcess-28\n",
      "3 seconds elapsed in thread ThreadPoolExecutor-0_5 and in process ForkProcess-25\n",
      "3 seconds elapsed in thread ThreadPoolExecutor-0_6 and in process ForkProcess-25\n",
      "3 seconds elapsed in thread ThreadPoolExecutor-0_6 and in process ForkProcess-28\n",
      "\n",
      "3 seconds elapsed in thread ThreadPoolExecutor-0_7 and in process ForkProcess-283 seconds elapsed in thread ThreadPoolExecutor-0_7 and in process ForkProcess-25\n",
      "\n",
      "3 seconds elapsed in thread ThreadPoolExecutor-0_0 and in process ForkProcess-263 seconds elapsed in thread ThreadPoolExecutor-0_0 and in process ForkProcess-27\n",
      "\n",
      "3 seconds elapsed in thread ThreadPoolExecutor-0_1 and in process ForkProcess-25\n",
      "3 seconds elapsed in thread ThreadPoolExecutor-0_1 and in process ForkProcess-273 seconds elapsed in thread ThreadPoolExecutor-0_1 and in process ForkProcess-263 seconds elapsed in thread ThreadPoolExecutor-0_0 and in process ForkProcess-283 seconds elapsed in thread ThreadPoolExecutor-0_2 and in process ForkProcess-25\n",
      "\n",
      "\n",
      "\n",
      "3 seconds elapsed in thread ThreadPoolExecutor-0_1 and in process ForkProcess-28enter thread\n",
      "\n",
      "3 seconds elapsed in thread ThreadPoolExecutor-1_0 and in process ForkProcess-26\n",
      "3 seconds elapsed in thread ThreadPoolExecutor-1_1 and in process ForkProcess-26\n",
      "3 seconds elapsed in thread ThreadPoolExecutor-1_2 and in process ForkProcess-26\n",
      "3 seconds elapsed in thread ThreadPoolExecutor-1_3 and in process ForkProcess-26\n",
      "3 seconds elapsed in thread ThreadPoolExecutor-1_4 and in process ForkProcess-26\n",
      "3 seconds elapsed in thread ThreadPoolExecutor-1_5 and in process ForkProcess-26\n",
      "3 seconds elapsed in thread ThreadPoolExecutor-1_6 and in process ForkProcess-26\n",
      "3 seconds elapsed in thread ThreadPoolExecutor-1_7 and in process ForkProcess-26\n",
      "3 seconds elapsed in thread ThreadPoolExecutor-1_2 and in process ForkProcess-26\n",
      "3 seconds elapsed in thread ThreadPoolExecutor-1_0 and in process ForkProcess-26\n"
     ]
    }
   ],
   "source": [
    "from concurrent import futures\n",
    "import time\n",
    "import threading\n",
    "import multiprocessing\n",
    "\n",
    "\n",
    "def compute(duration):\n",
    "    time.sleep(duration)\n",
    "    return \"{} seconds elapsed in thread {} and in process {}\".format(\n",
    "        duration, threading.currentThread().name, multiprocessing.current_process().name\n",
    "    )\n",
    "\n",
    "\n",
    "def create_thread(duration):\n",
    "    print(\"enter thread\")\n",
    "    with futures.ThreadPoolExecutor() as executor:\n",
    "        arguments = [duration] * 10\n",
    "        results = executor.map(compute, arguments)\n",
    "        for result in results:\n",
    "            print(result)\n",
    "\n",
    "\n",
    "def main():\n",
    "    with futures.ProcessPoolExecutor() as executor:\n",
    "        arguments = [3] * 5\n",
    "        executor.map(create_thread, arguments)\n",
    "\n",
    "\n",
    "main()"
   ]
  }
 ],
 "metadata": {
  "kernelspec": {
   "display_name": "Python 3",
   "language": "python",
   "name": "python3"
  },
  "language_info": {
   "codemirror_mode": {
    "name": "ipython",
    "version": 3
   },
   "file_extension": ".py",
   "mimetype": "text/x-python",
   "name": "python",
   "nbconvert_exporter": "python",
   "pygments_lexer": "ipython3",
   "version": "3.8.2"
  }
 },
 "nbformat": 4,
 "nbformat_minor": 4
}
