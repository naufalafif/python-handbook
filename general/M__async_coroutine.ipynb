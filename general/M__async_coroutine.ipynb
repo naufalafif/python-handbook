{
 "cells": [
  {
   "cell_type": "code",
   "execution_count": 1,
   "metadata": {},
   "outputs": [
    {
     "name": "stdout",
     "output_type": "stream",
     "text": [
      "Running like thread with more readable code\n",
      "0 secods elapsed\n",
      "1 secods elapsed\n",
      "2 secods elapsed\n",
      "3 secods elapsed\n",
      "4 secods elapsed\n",
      "5 secods elapsed\n",
      "6 secods elapsed\n",
      "7 secods elapsed\n",
      "8 secods elapsed\n",
      "9 secods elapsed\n",
      "9.002083778381348\n"
     ]
    }
   ],
   "source": [
    "import asyncio\n",
    "import time\n",
    "\n",
    "async def wait(duration):\n",
    "    await asyncio.sleep(duration)\n",
    "    print(\"{} secods elapsed\".format(duration))\n",
    "    return 1\n",
    "\n",
    "async def main():\n",
    "## This will run normally/ syncronously\n",
    "#     await wait(1)\n",
    "#     await wait(2)\n",
    "#     await wait(3)\n",
    "    \n",
    "## This will run concurrently/asyncronous         \n",
    "    coroutines = (wait(sec) for sec in range(10))\n",
    "    results = await asyncio.gather(*coroutines)\n",
    "        \n",
    "        \n",
    "## This will run concurrently/asyncronous         \n",
    "##      in Python 3.7, u dont have to assign get_event_loop, just call asyncio.create_task\n",
    "#         loop = asyncio.get_event_loop()\n",
    "#         task = loop.create_task(wait(1))\n",
    "#         task2 = loop.create_task(wait(2))\n",
    "#         task3 = loop.create_task(wait(3))\n",
    "        \n",
    "#         await task\n",
    "#         await task2\n",
    "#         await task3\n",
    "\n",
    "print(\"Running like thread with more readable code\")\n",
    "start = time.time()        \n",
    "await main()\n",
    "print(time.time() - start)"
   ]
  },
  {
   "cell_type": "code",
   "execution_count": 2,
   "metadata": {},
   "outputs": [
    {
     "name": "stdout",
     "output_type": "stream",
     "text": [
      "Searching prefix:python\n",
      "Closing coroutine!!\n"
     ]
    }
   ],
   "source": [
    "# Coroutine\n",
    "def print_if_exist(prefix):\n",
    "    print(\"Searching prefix:{}\".format(prefix))\n",
    "    try : \n",
    "        while True:\n",
    "                # yeild used to create coroutine\n",
    "                name = (yield)\n",
    "                if prefix in name:\n",
    "                    print(name)\n",
    "    except GeneratorExit:\n",
    "            print(\"Closing coroutine!!\")\n",
    "\n",
    "corou = print_if_exist(\"python\")\n",
    "corou.__next__() # or corou.send(None)\n",
    "corou.send(\"James\")\n",
    "corou.send(\"Dear James\")\n",
    "corou.send(\"adsas\")\n",
    "corou.close()\n",
    "# corou.throw(AttributeError) used to throw exception"
   ]
  },
  {
   "cell_type": "code",
   "execution_count": 3,
   "metadata": {},
   "outputs": [
    {
     "name": "stdout",
     "output_type": "stream",
     "text": [
      "print(get_name) :  <function get_name at 0x7f9c0003b9d8>\n",
      "print(get_name()) :  <coroutine object get_name at 0x7f9c000546d0>\n"
     ]
    },
    {
     "data": {
      "text/plain": [
       "'name is naufal'"
      ]
     },
     "execution_count": 3,
     "metadata": {},
     "output_type": "execute_result"
    }
   ],
   "source": [
    "import warnings\n",
    "warnings.filterwarnings('ignore')\n",
    "\n",
    "# How Coroutine work\n",
    "async def get_name(name):\n",
    "    return f\"name is {name}\"\n",
    "\n",
    "print(\"print(get_name) : \",get_name)\n",
    "print(\"print(get_name()) : \",get_name(\"naufal\"))\n",
    "# get_name(\"naufal\").send(None) # This is normal error, we just have to create handler for it\n",
    "\n",
    "def coroutine_handler(coroutine):\n",
    "    try:\n",
    "        coroutine.send(None)\n",
    "    except StopIteration as e:\n",
    "        return e.value\n",
    "        \n",
    "coroutine_handler(get_name(\"naufal\"))"
   ]
  }
 ],
 "metadata": {
  "kernelspec": {
   "display_name": "Python 3",
   "language": "python",
   "name": "python3"
  },
  "language_info": {
   "codemirror_mode": {
    "name": "ipython",
    "version": 3
   },
   "file_extension": ".py",
   "mimetype": "text/x-python",
   "name": "python",
   "nbconvert_exporter": "python",
   "pygments_lexer": "ipython3",
   "version": "3.6.9"
  }
 },
 "nbformat": 4,
 "nbformat_minor": 4
}
