{
 "cells": [
  {
   "cell_type": "code",
   "execution_count": 2,
   "metadata": {
    "execution": {
     "iopub.execute_input": "2020-09-03T13:33:45.398126Z",
     "iopub.status.busy": "2020-09-03T13:33:45.397875Z",
     "iopub.status.idle": "2020-09-03T13:33:45.411588Z",
     "shell.execute_reply": "2020-09-03T13:33:45.410645Z",
     "shell.execute_reply.started": "2020-09-03T13:33:45.398092Z"
    }
   },
   "outputs": [
    {
     "name": "stdout",
     "output_type": "stream",
     "text": [
      "The lab_black extension is already loaded. To reload it, use:\n",
      "  %reload_ext lab_black\n",
      "Create an instance will cause error. example\n"
     ]
    },
    {
     "ename": "TypeError",
     "evalue": "Can't instantiate abstract class Shape with abstract methods area, parimeter",
     "output_type": "error",
     "traceback": [
      "\u001b[0;31m---------------------------------------------------------------------------\u001b[0m",
      "\u001b[0;31mTypeError\u001b[0m                                 Traceback (most recent call last)",
      "\u001b[0;32m<ipython-input-2-abae7f827f72>\u001b[0m in \u001b[0;36m<module>\u001b[0;34m\u001b[0m\n\u001b[1;32m     16\u001b[0m \u001b[0;34m\u001b[0m\u001b[0m\n\u001b[1;32m     17\u001b[0m \u001b[0mprint\u001b[0m\u001b[0;34m(\u001b[0m\u001b[0;34m\"Create an instance will cause error. example\"\u001b[0m\u001b[0;34m)\u001b[0m\u001b[0;34m\u001b[0m\u001b[0;34m\u001b[0m\u001b[0m\n\u001b[0;32m---> 18\u001b[0;31m \u001b[0mshape\u001b[0m \u001b[0;34m=\u001b[0m \u001b[0mShape\u001b[0m\u001b[0;34m(\u001b[0m\u001b[0;34m)\u001b[0m\u001b[0;34m\u001b[0m\u001b[0;34m\u001b[0m\u001b[0m\n\u001b[0m",
      "\u001b[0;31mTypeError\u001b[0m: Can't instantiate abstract class Shape with abstract methods area, parimeter"
     ]
    }
   ],
   "source": [
    "%load_ext lab_black\n",
    "from abc import ABC, abstractmethod\n",
    "\n",
    "\"\"\"\n",
    "ABC use to change classes into Abstract Class. it will make the classes unable to create instance of the class\n",
    "abstractmethod is decorator to make method an abstactmethod. it will make the method required to overrider by the subclasses\n",
    "\"\"\"\n",
    "\n",
    "class Shape(ABC):\n",
    "    \n",
    "    @abstractmethod\n",
    "    def area(self): pass\n",
    "    \n",
    "    @abstractmethod\n",
    "    def parimeter(self): pass\n",
    "    \n",
    "print(\"Create an instance will cause error. example\")\n",
    "shape = Shape()"
   ]
  },
  {
   "cell_type": "code",
   "execution_count": 3,
   "metadata": {
    "execution": {
     "iopub.execute_input": "2020-09-03T13:33:46.595631Z",
     "iopub.status.busy": "2020-09-03T13:33:46.595268Z",
     "iopub.status.idle": "2020-09-03T13:33:46.608600Z",
     "shell.execute_reply": "2020-09-03T13:33:46.607913Z",
     "shell.execute_reply.started": "2020-09-03T13:33:46.595595Z"
    }
   },
   "outputs": [
    {
     "name": "stdout",
     "output_type": "stream",
     "text": [
      "100\n",
      "20\n"
     ]
    }
   ],
   "source": [
    "# Create the sub classes\n",
    "\n",
    "\n",
    "class Square(Shape):\n",
    "    def __init__(self, side):\n",
    "        self.__side = side\n",
    "\n",
    "    def area(self):\n",
    "        return self.__side * self.__side\n",
    "\n",
    "    def parimeter(self):\n",
    "        return self.__side + self.__side\n",
    "\n",
    "\n",
    "square = Square(10)\n",
    "print(square.area())\n",
    "print(square.parimeter())"
   ]
  }
 ],
 "metadata": {
  "kernelspec": {
   "display_name": "Python 3",
   "language": "python",
   "name": "python3"
  },
  "language_info": {
   "codemirror_mode": {
    "name": "ipython",
    "version": 3
   },
   "file_extension": ".py",
   "mimetype": "text/x-python",
   "name": "python",
   "nbconvert_exporter": "python",
   "pygments_lexer": "ipython3",
   "version": "3.8.2"
  }
 },
 "nbformat": 4,
 "nbformat_minor": 4
}
