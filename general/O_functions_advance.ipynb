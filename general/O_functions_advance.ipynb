{
 "cells": [
  {
   "cell_type": "code",
   "execution_count": 1,
   "metadata": {
    "execution": {
     "iopub.execute_input": "2020-09-03T13:33:53.877975Z",
     "iopub.status.busy": "2020-09-03T13:33:53.877656Z",
     "iopub.status.idle": "2020-09-03T13:33:53.935117Z",
     "shell.execute_reply": "2020-09-03T13:33:53.934445Z",
     "shell.execute_reply.started": "2020-09-03T13:33:53.877943Z"
    }
   },
   "outputs": [
    {
     "name": "stdout",
     "output_type": "stream",
     "text": [
      "my name is naufal\n"
     ]
    }
   ],
   "source": [
    "%load_ext lab_black\n",
    "\n",
    "\n",
    "def print_name(name):\n",
    "    print(f\"my name is {name}\")\n",
    "\n",
    "\n",
    "print_name(\"naufal\")"
   ]
  },
  {
   "cell_type": "code",
   "execution_count": 2,
   "metadata": {
    "execution": {
     "iopub.execute_input": "2020-09-03T13:33:53.936278Z",
     "iopub.status.busy": "2020-09-03T13:33:53.936040Z",
     "iopub.status.idle": "2020-09-03T13:33:53.945586Z",
     "shell.execute_reply": "2020-09-03T13:33:53.944893Z",
     "shell.execute_reply.started": "2020-09-03T13:33:53.936246Z"
    }
   },
   "outputs": [
    {
     "data": {
      "text/plain": [
       "['__class__',\n",
       " '__delattr__',\n",
       " '__dir__',\n",
       " '__doc__',\n",
       " '__eq__',\n",
       " '__format__',\n",
       " '__ge__',\n",
       " '__getattribute__',\n",
       " '__gt__',\n",
       " '__hash__',\n",
       " '__init__',\n",
       " '__init_subclass__',\n",
       " '__le__',\n",
       " '__lt__',\n",
       " '__ne__',\n",
       " '__new__',\n",
       " '__reduce__',\n",
       " '__reduce_ex__',\n",
       " '__repr__',\n",
       " '__setattr__',\n",
       " '__sizeof__',\n",
       " '__str__',\n",
       " '__subclasshook__',\n",
       " 'co_argcount',\n",
       " 'co_cellvars',\n",
       " 'co_code',\n",
       " 'co_consts',\n",
       " 'co_filename',\n",
       " 'co_firstlineno',\n",
       " 'co_flags',\n",
       " 'co_freevars',\n",
       " 'co_kwonlyargcount',\n",
       " 'co_lnotab',\n",
       " 'co_name',\n",
       " 'co_names',\n",
       " 'co_nlocals',\n",
       " 'co_posonlyargcount',\n",
       " 'co_stacksize',\n",
       " 'co_varnames',\n",
       " 'replace']"
      ]
     },
     "execution_count": 2,
     "metadata": {},
     "output_type": "execute_result"
    }
   ],
   "source": [
    "\"\"\"\n",
    "most attribute & logic in function are stored in __code__ dunder method\n",
    "\"\"\"\n",
    "dir(print_name.__code__)"
   ]
  },
  {
   "cell_type": "code",
   "execution_count": 3,
   "metadata": {
    "execution": {
     "iopub.execute_input": "2020-09-03T13:33:53.947040Z",
     "iopub.status.busy": "2020-09-03T13:33:53.946789Z",
     "iopub.status.idle": "2020-09-03T13:33:53.976801Z",
     "shell.execute_reply": "2020-09-03T13:33:53.976051Z",
     "shell.execute_reply.started": "2020-09-03T13:33:53.947020Z"
    }
   },
   "outputs": [
    {
     "data": {
      "text/plain": [
       "1"
      ]
     },
     "execution_count": 3,
     "metadata": {},
     "output_type": "execute_result"
    }
   ],
   "source": [
    "# function number of arguments\n",
    "print_name.__code__.co_argcount"
   ]
  },
  {
   "cell_type": "code",
   "execution_count": 4,
   "metadata": {
    "execution": {
     "iopub.execute_input": "2020-09-03T13:33:53.978055Z",
     "iopub.status.busy": "2020-09-03T13:33:53.977808Z",
     "iopub.status.idle": "2020-09-03T13:33:54.000329Z",
     "shell.execute_reply": "2020-09-03T13:33:53.999605Z",
     "shell.execute_reply.started": "2020-09-03T13:33:53.978031Z"
    }
   },
   "outputs": [
    {
     "data": {
      "text/plain": [
       "('name',)"
      ]
     },
     "execution_count": 4,
     "metadata": {},
     "output_type": "execute_result"
    }
   ],
   "source": [
    "# function name of arguments\n",
    "print_name.__code__.co_varnames"
   ]
  },
  {
   "cell_type": "code",
   "execution_count": 5,
   "metadata": {
    "execution": {
     "iopub.execute_input": "2020-09-03T13:33:54.003746Z",
     "iopub.status.busy": "2020-09-03T13:33:54.003477Z",
     "iopub.status.idle": "2020-09-03T13:33:54.027518Z",
     "shell.execute_reply": "2020-09-03T13:33:54.026774Z",
     "shell.execute_reply.started": "2020-09-03T13:33:54.003723Z"
    }
   },
   "outputs": [
    {
     "name": "stdout",
     "output_type": "stream",
     "text": [
      "Name:              print_name\n",
      "Filename:          <ipython-input-1-4f5331b31774>\n",
      "Argument count:    1\n",
      "Positional-only arguments: 0\n",
      "Kw-only arguments: 0\n",
      "Number of locals:  1\n",
      "Stack size:        3\n",
      "Flags:             OPTIMIZED, NEWLOCALS, NOFREE, 0x2000\n",
      "Constants:\n",
      "   0: None\n",
      "   1: 'my name is '\n",
      "Names:\n",
      "   0: print\n",
      "Variable names:\n",
      "   0: name\n"
     ]
    }
   ],
   "source": [
    "import dis\n",
    "\n",
    "dis.show_code(print_name)"
   ]
  },
  {
   "cell_type": "code",
   "execution_count": 6,
   "metadata": {
    "execution": {
     "iopub.execute_input": "2020-09-03T13:33:54.028474Z",
     "iopub.status.busy": "2020-09-03T13:33:54.028243Z",
     "iopub.status.idle": "2020-09-03T13:33:54.067111Z",
     "shell.execute_reply": "2020-09-03T13:33:54.066452Z",
     "shell.execute_reply.started": "2020-09-03T13:33:54.028449Z"
    }
   },
   "outputs": [
    {
     "name": "stdout",
     "output_type": "stream",
     "text": [
      "  3           0 LOAD_GLOBAL              0 (print)\n",
      "              2 LOAD_CONST               1 ('my name is ')\n",
      "              4 LOAD_FAST                0 (name)\n",
      "              6 FORMAT_VALUE             0\n",
      "              8 BUILD_STRING             2\n",
      "             10 CALL_FUNCTION            1\n",
      "             12 POP_TOP\n",
      "             14 LOAD_CONST               0 (None)\n",
      "             16 RETURN_VALUE\n"
     ]
    }
   ],
   "source": [
    "dis.dis(print_name)"
   ]
  },
  {
   "cell_type": "markdown",
   "metadata": {},
   "source": [
    "## Function default arguments & why u should use none as default arguments\n"
   ]
  },
  {
   "cell_type": "code",
   "execution_count": 7,
   "metadata": {
    "execution": {
     "iopub.execute_input": "2020-09-03T13:33:54.068027Z",
     "iopub.status.busy": "2020-09-03T13:33:54.067812Z",
     "iopub.status.idle": "2020-09-03T13:33:54.122936Z",
     "shell.execute_reply": "2020-09-03T13:33:54.122171Z",
     "shell.execute_reply.started": "2020-09-03T13:33:54.068002Z"
    }
   },
   "outputs": [
    {
     "name": "stdout",
     "output_type": "stream",
     "text": [
      "[1]\n",
      "[1, 1]\n",
      "[1, 1, 1]\n",
      "current default arguments, 0x called ([],)\n",
      "current default arguments, 1x called ([1, 2],)\n",
      "current default arguments, 2x called ([1, 2, 1, 2],)\n",
      "\n",
      "\n",
      "current default arguments, 0x called (None,)\n",
      "[1, 2, 3]\n",
      "current default arguments, 1x called (None,)\n",
      "[1, 2, 3]\n",
      "current default arguments, 2x called (None,)\n"
     ]
    }
   ],
   "source": [
    "def add_one(x=[]):\n",
    "    x.append(1)\n",
    "    return x\n",
    "\n",
    "\n",
    "print(add_one())\n",
    "print(add_one())\n",
    "print(add_one())\n",
    "\n",
    "\"\"\"\n",
    "see, why it return [1,1,1] & [1,1] not [1] ?\n",
    "\n",
    "because, default arguments is created in function creation it self. no when function called.\n",
    "\"\"\"\n",
    "\n",
    "\n",
    "def add_two(x=[]):\n",
    "    x.append(1)\n",
    "    x.append(2)\n",
    "    return x\n",
    "\n",
    "\n",
    "print(\"current default arguments, 0x called\", add_two.__defaults__)\n",
    "add_two()\n",
    "print(\"current default arguments, 1x called\", add_two.__defaults__)\n",
    "add_two()\n",
    "print(\"current default arguments, 2x called\", add_two.__defaults__)\n",
    "\n",
    "\"\"\"\n",
    "the default is increased. that's why u should never use list or passed by reference value as default arguments.\n",
    "use none instead\n",
    "\"\"\"\n",
    "\n",
    "\n",
    "def add_three(x=None):\n",
    "    if x is None:\n",
    "        x = []\n",
    "    x.append(1)\n",
    "    x.append(2)\n",
    "    x.append(3)\n",
    "    return x\n",
    "\n",
    "\n",
    "print(\"\\n\")\n",
    "\n",
    "print(\"current default arguments, 0x called\", add_three.__defaults__)\n",
    "print(add_three())\n",
    "print(\"current default arguments, 1x called\", add_three.__defaults__)\n",
    "print(add_three())\n",
    "print(\"current default arguments, 2x called\", add_three.__defaults__)"
   ]
  }
 ],
 "metadata": {
  "kernelspec": {
   "display_name": "Python 3.8.2 64-bit",
   "language": "python",
   "name": "python38264bitd2db779337294fac959656b15c9557c4"
  },
  "language_info": {
   "codemirror_mode": {
    "name": "ipython",
    "version": 3
   },
   "file_extension": ".py",
   "mimetype": "text/x-python",
   "name": "python",
   "nbconvert_exporter": "python",
   "pygments_lexer": "ipython3",
   "version": "3.8.2"
  }
 },
 "nbformat": 4,
 "nbformat_minor": 4
}
