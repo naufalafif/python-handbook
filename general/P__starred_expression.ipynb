{
 "cells": [
  {
   "cell_type": "code",
   "execution_count": 3,
   "metadata": {
    "execution": {
     "iopub.execute_input": "2020-09-06T07:25:44.081593Z",
     "iopub.status.busy": "2020-09-06T07:25:44.081349Z",
     "iopub.status.idle": "2020-09-06T07:25:44.090334Z",
     "shell.execute_reply": "2020-09-06T07:25:44.089520Z",
     "shell.execute_reply.started": "2020-09-06T07:25:44.081561Z"
    }
   },
   "outputs": [
    {
     "data": {
      "text/plain": [
       "\"\\n*[1,2,3] &  *(1,2,3) works because it's already unpacked, so it is treated as arguments\\n\""
      ]
     },
     "execution_count": 3,
     "metadata": {},
     "output_type": "execute_result"
    }
   ],
   "source": [
    "# * starred expression\n",
    "\"\"\"\n",
    "starred expression is used to unpack iterables. iterables can be list or tuple etc\n",
    "\"\"\"\n",
    "\n",
    "def sum(a,b,c):\n",
    "    return a + b + c\n",
    "\n",
    "sum(1,2,3) # 6\n",
    "# sum(1) # TypeError, missing arguments\n",
    "# sum([1,2,3]) # TypeError, missing arguments\n",
    "sum(*[1,2,3]) # 6\n",
    "sum(*(1,2,3)) # 6\n",
    "\n",
    "\"\"\"\n",
    "*[1,2,3] &  *(1,2,3) works because it's already unpacked, so it is treated as arguments\n",
    "\"\"\""
   ]
  },
  {
   "cell_type": "code",
   "execution_count": 25,
   "metadata": {
    "execution": {
     "iopub.execute_input": "2020-09-06T07:30:31.409604Z",
     "iopub.status.busy": "2020-09-06T07:30:31.409386Z",
     "iopub.status.idle": "2020-09-06T07:30:31.414252Z",
     "shell.execute_reply": "2020-09-06T07:30:31.413611Z",
     "shell.execute_reply.started": "2020-09-06T07:30:31.409586Z"
    }
   },
   "outputs": [
    {
     "data": {
      "text/plain": [
       "21"
      ]
     },
     "execution_count": 25,
     "metadata": {},
     "output_type": "execute_result"
    }
   ],
   "source": [
    "\"\"\"\n",
    "starred expression to get rest of value, as function parameter\n",
    "\"\"\"\n",
    "from functools import reduce\n",
    "\n",
    "def get_total(*numbers): # numbers stored all value in forms of tuple\n",
    "    return reduce(lambda x,y: x+y, numbers, 0)\n",
    "\n",
    "get_total(1,2,3,4,5,6)"
   ]
  },
  {
   "cell_type": "code",
   "execution_count": 26,
   "metadata": {
    "execution": {
     "iopub.execute_input": "2020-09-06T07:31:05.490218Z",
     "iopub.status.busy": "2020-09-06T07:31:05.489851Z",
     "iopub.status.idle": "2020-09-06T07:31:05.497105Z",
     "shell.execute_reply": "2020-09-06T07:31:05.496211Z",
     "shell.execute_reply.started": "2020-09-06T07:31:05.490183Z"
    }
   },
   "outputs": [
    {
     "name": "stdout",
     "output_type": "stream",
     "text": [
      "0 1 2 [3, 4, 5, 6, 7, 8, 9]\n",
      "0 1 [2, 3, 4, 5, 6, 7, 8] 9\n"
     ]
    }
   ],
   "source": [
    "\"\"\"\n",
    "starred expression to get rest of value, assignment\n",
    "\"\"\"\n",
    "list_on_number = range(10)\n",
    "\n",
    "one, two, three, *rest = list_on_number\n",
    "print(one, two, three, rest) # 0 1 2 [3, 4, 5, 6, 7, 8, 9]\n",
    "\n",
    "one, two, *rest, last = list_on_number\n",
    "print(one, two, rest, last) # 0 1 [2, 3, 4, 5, 6, 7, 8] 9"
   ]
  },
  {
   "cell_type": "code",
   "execution_count": 31,
   "metadata": {
    "execution": {
     "iopub.execute_input": "2020-09-06T07:32:07.265281Z",
     "iopub.status.busy": "2020-09-06T07:32:07.265055Z",
     "iopub.status.idle": "2020-09-06T07:32:07.274106Z",
     "shell.execute_reply": "2020-09-06T07:32:07.273523Z",
     "shell.execute_reply.started": "2020-09-06T07:32:07.265260Z"
    }
   },
   "outputs": [
    {
     "data": {
      "text/plain": [
       "[0, 1, 2, 3, 4, 5, 6, 7, 8, 9]"
      ]
     },
     "execution_count": 31,
     "metadata": {},
     "output_type": "execute_result"
    }
   ],
   "source": [
    "\"\"\"\n",
    "starred expression cannot be used in single assignment\n",
    "\"\"\"\n",
    "# *a, = range(10) # error\n",
    "\n",
    "*a, = range(10) # adding coma, makes it valid\n",
    "a"
   ]
  },
  {
   "cell_type": "code",
   "execution_count": 41,
   "metadata": {
    "execution": {
     "iopub.execute_input": "2020-09-06T07:37:14.000080Z",
     "iopub.status.busy": "2020-09-06T07:37:13.999852Z",
     "iopub.status.idle": "2020-09-06T07:37:14.004537Z",
     "shell.execute_reply": "2020-09-06T07:37:14.003921Z",
     "shell.execute_reply.started": "2020-09-06T07:37:14.000060Z"
    }
   },
   "outputs": [
    {
     "name": "stdout",
     "output_type": "stream",
     "text": [
      "name naufal, age 23, sex male\n",
      "name naufal, age 23, sex male\n"
     ]
    }
   ],
   "source": [
    "# ** double starred expresson\n",
    "\"\"\"\n",
    "double starred experssion is used to unpack dictionary\n",
    "\"\"\"\n",
    "cv = {\n",
    "    \"name\": \"naufal\",\n",
    "    \"age\": 23,\n",
    "    \"sex\": \"male\"\n",
    "}\n",
    "\n",
    "def print_cv(name=None, age=None, sex=None):\n",
    "    print(f\"name {name}, age {age}, sex {sex}\")\n",
    "    \n",
    "print_cv(**cv)\n",
    "\n",
    "def print_cv2(**cv):\n",
    "    print(f\"name {cv['name']}, age {cv['age']}, sex {cv['sex']}\")\n",
    "    \n",
    "print_cv2(name=\"naufal\", age=23, sex=\"male\")"
   ]
  }
 ],
 "metadata": {
  "kernelspec": {
   "display_name": "Python 3.8.2 64-bit",
   "language": "python",
   "name": "python38264bitd2db779337294fac959656b15c9557c4"
  },
  "language_info": {
   "codemirror_mode": {
    "name": "ipython",
    "version": 3
   },
   "file_extension": ".py",
   "mimetype": "text/x-python",
   "name": "python",
   "nbconvert_exporter": "python",
   "pygments_lexer": "ipython3",
   "version": "3.8.2"
  }
 },
 "nbformat": 4,
 "nbformat_minor": 4
}
