{
 "cells": [
  {
   "cell_type": "code",
   "execution_count": 1,
   "metadata": {
    "execution": {
     "iopub.execute_input": "2020-09-05T13:26:19.675654Z",
     "iopub.status.busy": "2020-09-05T13:26:19.675146Z",
     "iopub.status.idle": "2020-09-05T13:26:19.692552Z",
     "shell.execute_reply": "2020-09-05T13:26:19.691797Z",
     "shell.execute_reply.started": "2020-09-05T13:26:19.675606Z"
    }
   },
   "outputs": [
    {
     "name": "stdout",
     "output_type": "stream",
     "text": [
      "0 1 2 [3, 4, 5, 6, 7, 8, 9]\n",
      "0 1 [2, 3, 4, 5, 6, 7, 8] 9\n"
     ]
    }
   ],
   "source": [
    "# * starred expression\n",
    "\"\"\"\n",
    "starred expression is used to unpact iterables. iterables can be list or tuple\n",
    "\"\"\"\n",
    "\n",
    "def sum(a,b,c):\n",
    "    return a + b + c\n",
    "\n",
    "sum(1,2,3) # 6\n",
    "# sum(1) # TypeError, missing arguments\n",
    "# sum([1,2,3]) # TypeError, missing arguments\n",
    "sum(*[1,2,3]) # 6\n",
    "sum(*(1,2,3)) # 6\n",
    "\n",
    "\"\"\"\n",
    "*[1,2,3] &  *(1,2,3) works because it's already unpacked, so it is treated as arguments\n",
    "\"\"\"\n",
    "\n",
    "list_on_number = range(10)\n",
    "\n",
    "one, two, three, *rest = list_on_number\n",
    "print(one, two, three, rest) # 0 1 2 [3, 4, 5, 6, 7, 8, 9]\n",
    "\n",
    "one, two, *rest, last = list_on_number\n",
    "print(one, two, rest, last) # 0 1 [2, 3, 4, 5, 6, 7, 8] 9"
   ]
  }
 ],
 "metadata": {
  "kernelspec": {
   "display_name": "Python 3.8.2 64-bit",
   "language": "python",
   "name": "python38264bitd2db779337294fac959656b15c9557c4"
  },
  "language_info": {
   "codemirror_mode": {
    "name": "ipython",
    "version": 3
   },
   "file_extension": ".py",
   "mimetype": "text/x-python",
   "name": "python",
   "nbconvert_exporter": "python",
   "pygments_lexer": "ipython3",
   "version": "3.8.2"
  }
 },
 "nbformat": 4,
 "nbformat_minor": 4
}
