{
 "cells": [
  {
   "cell_type": "code",
   "execution_count": 13,
   "metadata": {
    "execution": {
     "iopub.execute_input": "2020-09-13T00:57:43.608437Z",
     "iopub.status.busy": "2020-09-13T00:57:43.608222Z",
     "iopub.status.idle": "2020-09-13T00:57:43.614550Z",
     "shell.execute_reply": "2020-09-13T00:57:43.613404Z",
     "shell.execute_reply.started": "2020-09-13T00:57:43.608415Z"
    }
   },
   "outputs": [],
   "source": [
    "from queue import Queue, LifoQueue, PriorityQueue"
   ]
  },
  {
   "cell_type": "code",
   "execution_count": 29,
   "metadata": {
    "execution": {
     "iopub.execute_input": "2020-09-13T01:07:57.519446Z",
     "iopub.status.busy": "2020-09-13T01:07:57.519261Z",
     "iopub.status.idle": "2020-09-13T01:07:57.522541Z",
     "shell.execute_reply": "2020-09-13T01:07:57.522012Z",
     "shell.execute_reply.started": "2020-09-13T01:07:57.519427Z"
    }
   },
   "outputs": [],
   "source": [
    "ordered_data = [1,2,3,4,5,6,7]\n",
    "unordered_data = [1,9,7,2,3,5,8,4]"
   ]
  },
  {
   "cell_type": "code",
   "execution_count": 30,
   "metadata": {
    "execution": {
     "iopub.execute_input": "2020-09-13T01:07:58.682694Z",
     "iopub.status.busy": "2020-09-13T01:07:58.677728Z",
     "iopub.status.idle": "2020-09-13T01:07:58.695331Z",
     "shell.execute_reply": "2020-09-13T01:07:58.693536Z",
     "shell.execute_reply.started": "2020-09-13T01:07:58.682621Z"
    }
   },
   "outputs": [
    {
     "name": "stdout",
     "output_type": "stream",
     "text": [
      "1\n",
      "2\n",
      "3\n",
      "4\n",
      "5\n",
      "6\n",
      "7\n"
     ]
    }
   ],
   "source": [
    "# queue.Queue\n",
    "\"\"\"\n",
    "by default python queue work in fifo. queue.Queue is fifo queue\n",
    "\"\"\"\n",
    "\n",
    "queue_fifo = Queue()\n",
    "\n",
    "for value in ordered_data:\n",
    "    queue_fifo.put(value)\n",
    "\n",
    "\n",
    "while not queue_fifo.empty():\n",
    "    print(queue_fifo.get())"
   ]
  },
  {
   "cell_type": "code",
   "execution_count": 31,
   "metadata": {
    "execution": {
     "iopub.execute_input": "2020-09-13T01:07:59.735749Z",
     "iopub.status.busy": "2020-09-13T01:07:59.735300Z",
     "iopub.status.idle": "2020-09-13T01:07:59.747589Z",
     "shell.execute_reply": "2020-09-13T01:07:59.745598Z",
     "shell.execute_reply.started": "2020-09-13T01:07:59.735705Z"
    }
   },
   "outputs": [
    {
     "name": "stdout",
     "output_type": "stream",
     "text": [
      "7\n",
      "6\n",
      "5\n",
      "4\n",
      "3\n",
      "2\n",
      "1\n"
     ]
    }
   ],
   "source": [
    "# queue.LifoQueue\n",
    "\"\"\"\n",
    "by default python queue work in lifo. queue.LifoQueue is fifo queue\n",
    "\"\"\"\n",
    "\n",
    "queue_lifo = LifoQueue()\n",
    "\n",
    "for value in ordered_data:\n",
    "    queue_lifo.put(value)\n",
    "\n",
    "\n",
    "while not queue_lifo.empty():\n",
    "    print(queue_lifo.get())\n"
   ]
  },
  {
   "cell_type": "code",
   "execution_count": 33,
   "metadata": {
    "execution": {
     "iopub.execute_input": "2020-09-13T01:09:21.319797Z",
     "iopub.status.busy": "2020-09-13T01:09:21.319611Z",
     "iopub.status.idle": "2020-09-13T01:09:21.327105Z",
     "shell.execute_reply": "2020-09-13T01:09:21.326318Z",
     "shell.execute_reply.started": "2020-09-13T01:09:21.319777Z"
    }
   },
   "outputs": [
    {
     "name": "stdout",
     "output_type": "stream",
     "text": [
      "1\n",
      "2\n",
      "3\n",
      "4\n",
      "5\n",
      "7\n",
      "8\n",
      "9\n"
     ]
    }
   ],
   "source": [
    "# queue.LifoQueue\n",
    "\"\"\"\n",
    "by default python queue work in lifo. queue.LifoQueue is fifo queue\n",
    "\"\"\"\n",
    "\n",
    "queue_prioritized = PriorityQueue()\n",
    "\n",
    "for value in unordered_data:\n",
    "    queue_prioritized.put(value)\n",
    "\n",
    "\n",
    "while not queue_prioritized.empty():\n",
    "    print(queue_prioritized.get())\n",
    "\n",
    "# notice that it returns ordered data, even though we passed unordered data"
   ]
  },
  {
   "cell_type": "code",
   "execution_count": 50,
   "metadata": {
    "execution": {
     "iopub.execute_input": "2020-09-13T01:56:35.158965Z",
     "iopub.status.busy": "2020-09-13T01:56:35.158684Z",
     "iopub.status.idle": "2020-09-13T01:56:36.237460Z",
     "shell.execute_reply": "2020-09-13T01:56:36.190088Z",
     "shell.execute_reply.started": "2020-09-13T01:56:35.158930Z"
    }
   },
   "outputs": [
    {
     "name": "stdout",
     "output_type": "stream",
     "text": [
      "put value into queue  1\n",
      "consumer get  1\n",
      "put value into queue  2\n",
      "consumer get  2\n",
      "put value into queue  3\n",
      "consumer get  3\n",
      "put value into queue  4\n",
      "consumer get  4\n",
      "put value into queue  5\n",
      "consumer get  5\n",
      "put value into queue  6\n",
      "consumer get  6\n",
      "put value into queue  7\n",
      "consumer get  7\n"
     ]
    }
   ],
   "source": [
    "# WORK with THREAD\n",
    "\n",
    "import threading\n",
    "import time\n",
    "\n",
    "thread_queue = Queue()\n",
    "\n",
    "STOP_SIGN = \"STOP_ITERATION\"\n",
    "\n",
    "def producer():\n",
    "    global ordered_data\n",
    "    for value in ordered_data:\n",
    "        time.sleep(0.1)\n",
    "        print(\"put value into queue \", value)\n",
    "        thread_queue.put(value)\n",
    "    thread_queue.put(STOP_SIGN)\n",
    "\n",
    "def consumer():\n",
    "    while True:\n",
    "        value = thread_queue.get()\n",
    "        if value == STOP_SIGN:\n",
    "            break\n",
    "        print(\"consumer get \", value)\n",
    "        \n",
    "thread_producer = threading.Thread(target=producer)\n",
    "thread_consumer = threading.Thread(target=consumer)\n",
    "\n",
    "thread_producer.start()\n",
    "thread_consumer.start()\n",
    "\n",
    "thread_producer.join()\n",
    "thread_consumer.join()\n",
    "\n"
   ]
  }
 ],
 "metadata": {
  "kernelspec": {
   "display_name": "Python 3",
   "language": "python",
   "name": "python3"
  },
  "language_info": {
   "codemirror_mode": {
    "name": "ipython",
    "version": 3
   },
   "file_extension": ".py",
   "mimetype": "text/x-python",
   "name": "python",
   "nbconvert_exporter": "python",
   "pygments_lexer": "ipython3",
   "version": "3.8.2"
  }
 },
 "nbformat": 4,
 "nbformat_minor": 4
}
