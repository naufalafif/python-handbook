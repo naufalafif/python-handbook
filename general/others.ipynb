{
 "cells": [
  {
   "cell_type": "code",
   "execution_count": 1,
   "metadata": {
    "execution": {
     "iopub.execute_input": "2020-09-03T13:34:00.812248Z",
     "iopub.status.busy": "2020-09-03T13:34:00.812010Z",
     "iopub.status.idle": "2020-09-03T13:34:00.874652Z",
     "shell.execute_reply": "2020-09-03T13:34:00.873866Z",
     "shell.execute_reply.started": "2020-09-03T13:34:00.812216Z"
    }
   },
   "outputs": [
    {
     "name": "stdout",
     "output_type": "stream",
     "text": [
      "1 + 2 : 3\n",
      "function add annotation : {'x': <class 'int'>, 'y': <class 'int'>, 'return': <class 'int'>}\n",
      "hello agus\n",
      "function add annotation : {'name': 'name of someone', 'return': 'hello {name}'}\n"
     ]
    }
   ],
   "source": [
    "%load_ext lab_black\n",
    "# Function Annotation\n",
    "\n",
    "\"\"\"\n",
    "python is strongly dynamic language, which means it is not static type language & u dont have to specify type to variable or others,\n",
    "but python give us features to define the information including type to function, it's params & return. but it's just an information\n",
    "\"\"\"\n",
    "\n",
    "\n",
    "def add(x: int, y: int) -> int:\n",
    "    return x + y\n",
    "\n",
    "\n",
    "print(f\"1 + 2 : {add(1,2)}\")\n",
    "print(f\"function add annotation : {add.__annotations__}\")\n",
    "\n",
    "\n",
    "def say_hello(name: \"name of someone\") -> \"hello {name}\":\n",
    "    return \"hello \" + name\n",
    "\n",
    "\n",
    "print(f\"{say_hello('agus')}\")\n",
    "print(f\"function add annotation : {say_hello.__annotations__}\")"
   ]
  },
  {
   "cell_type": "code",
   "execution_count": 2,
   "metadata": {
    "execution": {
     "iopub.execute_input": "2020-09-03T13:34:00.875799Z",
     "iopub.status.busy": "2020-09-03T13:34:00.875568Z",
     "iopub.status.idle": "2020-09-03T13:34:00.883269Z",
     "shell.execute_reply": "2020-09-03T13:34:00.882522Z",
     "shell.execute_reply.started": "2020-09-03T13:34:00.875778Z"
    }
   },
   "outputs": [
    {
     "name": "stdout",
     "output_type": "stream",
     "text": [
      "@naufal ->> abc\n"
     ]
    }
   ],
   "source": [
    "# Buildin function\n",
    "\n",
    "\"\"\"\n",
    "you can modify build function by import it from builtins packages\n",
    "\"\"\"\n",
    "\n",
    "from builtins import print as __print\n",
    "\n",
    "\n",
    "def print(*args, **kwargs):\n",
    "    __print(\"@naufal ->> \", end=\"\")\n",
    "    __print(*args, **kwargs)\n",
    "\n",
    "\n",
    "print(\"abc\")"
   ]
  },
  {
   "cell_type": "code",
   "execution_count": 3,
   "metadata": {
    "execution": {
     "iopub.execute_input": "2020-09-03T13:34:00.884441Z",
     "iopub.status.busy": "2020-09-03T13:34:00.884221Z",
     "iopub.status.idle": "2020-09-03T13:34:00.928691Z",
     "shell.execute_reply": "2020-09-03T13:34:00.928017Z",
     "shell.execute_reply.started": "2020-09-03T13:34:00.884423Z"
    }
   },
   "outputs": [
    {
     "name": "stdout",
     "output_type": "stream",
     "text": [
      "@naufal ->> add(1,2) : 3\n",
      "Help on function add in module __main__:\n",
      "\n",
      "add(x, y)\n",
      "    add(x,y) will return total of x plus y / x + y\n",
      "\n",
      "@naufal ->> lamba_add(1,2) : 3\n",
      "Help on function lambda_add in module __main__:\n",
      "\n",
      "lambda_add(x, y)\n",
      "    add(x,y) will return total of x plus y / x + y\n",
      "\n"
     ]
    }
   ],
   "source": [
    "#  helper\n",
    "def add(x, y):\n",
    "    \"\"\"\n",
    "    add(x,y) will return total of x plus y / x + y\n",
    "    \"\"\"\n",
    "    return x + y\n",
    "\n",
    "\n",
    "print(f\"add(1,2) : {add(1,2)}\")\n",
    "help(add)\n",
    "\n",
    "# Add helper to lambda function\n",
    "lambda_add = lambda x, y: x + y\n",
    "lambda_add.__doc__ = \"add(x,y) will return total of x plus y / x + y\"\n",
    "lambda_add.__name__ = \"lambda_add\"\n",
    "\n",
    "print(f\"lamba_add(1,2) : {lambda_add(1,2)}\")\n",
    "help(lambda_add)"
   ]
  }
 ],
 "metadata": {
  "kernelspec": {
   "display_name": "Python 3",
   "language": "python",
   "name": "python3"
  },
  "language_info": {
   "codemirror_mode": {
    "name": "ipython",
    "version": 3
   },
   "file_extension": ".py",
   "mimetype": "text/x-python",
   "name": "python",
   "nbconvert_exporter": "python",
   "pygments_lexer": "ipython3",
   "version": "3.8.2"
  }
 },
 "nbformat": 4,
 "nbformat_minor": 4
}
