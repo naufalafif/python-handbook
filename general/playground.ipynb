{
 "cells": [
  {
   "cell_type": "code",
   "execution_count": 1,
   "metadata": {
    "execution": {
     "iopub.execute_input": "2020-09-03T13:34:10.491221Z",
     "iopub.status.busy": "2020-09-03T13:34:10.490981Z",
     "iopub.status.idle": "2020-09-03T13:34:10.550222Z",
     "shell.execute_reply": "2020-09-03T13:34:10.549490Z",
     "shell.execute_reply.started": "2020-09-03T13:34:10.491184Z"
    }
   },
   "outputs": [
    {
     "name": "stdout",
     "output_type": "stream",
     "text": [
      "\n",
      "function : ['__annotations__', '__call__', '__class__', '__closure__', '__code__', '__defaults__', '__delattr__', '__dict__', '__dir__', '__doc__', '__eq__', '__format__', '__ge__', '__get__', '__getattribute__', '__globals__', '__gt__', '__hash__', '__init__', '__init_subclass__', '__kwdefaults__', '__le__', '__lt__', '__module__', '__name__', '__ne__', '__new__', '__qualname__', '__reduce__', '__reduce_ex__', '__repr__', '__setattr__', '__sizeof__', '__str__', '__subclasshook__']\n",
      "\n",
      "umber : ['__abs__', '__add__', '__and__', '__bool__', '__ceil__', '__class__', '__delattr__', '__dir__', '__divmod__', '__doc__', '__eq__', '__float__', '__floor__', '__floordiv__', '__format__', '__ge__', '__getattribute__', '__getnewargs__', '__gt__', '__hash__', '__index__', '__init__', '__init_subclass__', '__int__', '__invert__', '__le__', '__lshift__', '__lt__', '__mod__', '__mul__', '__ne__', '__neg__', '__new__', '__or__', '__pos__', '__pow__', '__radd__', '__rand__', '__rdivmod__', '__reduce__', '__reduce_ex__', '__repr__', '__rfloordiv__', '__rlshift__', '__rmod__', '__rmul__', '__ror__', '__round__', '__rpow__', '__rrshift__', '__rshift__', '__rsub__', '__rtruediv__', '__rxor__', '__setattr__', '__sizeof__', '__str__', '__sub__', '__subclasshook__', '__truediv__', '__trunc__', '__xor__', 'as_integer_ratio', 'bit_length', 'conjugate', 'denominator', 'from_bytes', 'imag', 'numerator', 'real', 'to_bytes']\n",
      "\n",
      "string : ['__add__', '__class__', '__contains__', '__delattr__', '__dir__', '__doc__', '__eq__', '__format__', '__ge__', '__getattribute__', '__getitem__', '__getnewargs__', '__gt__', '__hash__', '__init__', '__init_subclass__', '__iter__', '__le__', '__len__', '__lt__', '__mod__', '__mul__', '__ne__', '__new__', '__reduce__', '__reduce_ex__', '__repr__', '__rmod__', '__rmul__', '__setattr__', '__sizeof__', '__str__', '__subclasshook__', 'capitalize', 'casefold', 'center', 'count', 'encode', 'endswith', 'expandtabs', 'find', 'format', 'format_map', 'index', 'isalnum', 'isalpha', 'isascii', 'isdecimal', 'isdigit', 'isidentifier', 'islower', 'isnumeric', 'isprintable', 'isspace', 'istitle', 'isupper', 'join', 'ljust', 'lower', 'lstrip', 'maketrans', 'partition', 'replace', 'rfind', 'rindex', 'rjust', 'rpartition', 'rsplit', 'rstrip', 'split', 'splitlines', 'startswith', 'strip', 'swapcase', 'title', 'translate', 'upper', 'zfill']\n",
      "\n",
      "list : ['__add__', '__class__', '__contains__', '__delattr__', '__delitem__', '__dir__', '__doc__', '__eq__', '__format__', '__ge__', '__getattribute__', '__getitem__', '__gt__', '__hash__', '__iadd__', '__imul__', '__init__', '__init_subclass__', '__iter__', '__le__', '__len__', '__lt__', '__mul__', '__ne__', '__new__', '__reduce__', '__reduce_ex__', '__repr__', '__reversed__', '__rmul__', '__setattr__', '__setitem__', '__sizeof__', '__str__', '__subclasshook__', 'append', 'clear', 'copy', 'count', 'extend', 'index', 'insert', 'pop', 'remove', 'reverse', 'sort']\n"
     ]
    }
   ],
   "source": [
    "%load_ext lab_black\n",
    "# everything in python is object/class, they have metadata/attribute & methods\n",
    "def add(x, y):\n",
    "    return x + y\n",
    "\n",
    "\n",
    "print(f\"\\nfunction : {dir(add)}\")\n",
    "\n",
    "number = 1\n",
    "print(f\"\\number : {dir(number)}\")\n",
    "\n",
    "string = \"name\"\n",
    "print(f\"\\nstring : {dir(string)}\")\n",
    "\n",
    "list_data = [1, 2, 3, 4]\n",
    "print(f\"\\nlist : {dir(list_data)}\")\n",
    "\n",
    "# ETC"
   ]
  },
  {
   "cell_type": "code",
   "execution_count": 2,
   "metadata": {
    "execution": {
     "iopub.execute_input": "2020-09-03T13:34:10.551364Z",
     "iopub.status.busy": "2020-09-03T13:34:10.551162Z",
     "iopub.status.idle": "2020-09-03T13:34:10.557478Z",
     "shell.execute_reply": "2020-09-03T13:34:10.556923Z",
     "shell.execute_reply.started": "2020-09-03T13:34:10.551345Z"
    }
   },
   "outputs": [
    {
     "name": "stdout",
     "output_type": "stream",
     "text": [
      "run first\n",
      "run if error\n",
      "run when finish (always run)\n"
     ]
    }
   ],
   "source": [
    "try:\n",
    "    print(\"run first\")\n",
    "    result = 0 / 0\n",
    "except:\n",
    "    print(\"run if error\")\n",
    "finally:\n",
    "    print(\"run when finish (always run)\")"
   ]
  },
  {
   "cell_type": "code",
   "execution_count": 3,
   "metadata": {
    "execution": {
     "iopub.execute_input": "2020-09-03T13:34:10.558854Z",
     "iopub.status.busy": "2020-09-03T13:34:10.558651Z",
     "iopub.status.idle": "2020-09-03T13:34:10.613755Z",
     "shell.execute_reply": "2020-09-03T13:34:10.613113Z",
     "shell.execute_reply.started": "2020-09-03T13:34:10.558834Z"
    }
   },
   "outputs": [
    {
     "data": {
      "text/plain": [
       "2"
      ]
     },
     "execution_count": 3,
     "metadata": {},
     "output_type": "execute_result"
    }
   ],
   "source": [
    "# Generator\n",
    "gen1 = (i for i in range(10))\n",
    "next(gen1)\n",
    "next(gen1)\n",
    "next(gen1)"
   ]
  },
  {
   "cell_type": "code",
   "execution_count": 4,
   "metadata": {
    "execution": {
     "iopub.execute_input": "2020-09-03T13:34:10.616547Z",
     "iopub.status.busy": "2020-09-03T13:34:10.616209Z",
     "iopub.status.idle": "2020-09-03T13:34:10.688859Z",
     "shell.execute_reply": "2020-09-03T13:34:10.687081Z",
     "shell.execute_reply.started": "2020-09-03T13:34:10.616527Z"
    }
   },
   "outputs": [
    {
     "data": {
      "text/plain": [
       "['__class__',\n",
       " '__delattr__',\n",
       " '__dict__',\n",
       " '__dir__',\n",
       " '__doc__',\n",
       " '__eq__',\n",
       " '__format__',\n",
       " '__ge__',\n",
       " '__getattribute__',\n",
       " '__gt__',\n",
       " '__hash__',\n",
       " '__init__',\n",
       " '__init_subclass__',\n",
       " '__le__',\n",
       " '__lt__',\n",
       " '__module__',\n",
       " '__ne__',\n",
       " '__new__',\n",
       " '__reduce__',\n",
       " '__reduce_ex__',\n",
       " '__repr__',\n",
       " '__setattr__',\n",
       " '__sizeof__',\n",
       " '__str__',\n",
       " '__subclasshook__',\n",
       " '__weakref__',\n",
       " 'a',\n",
       " 'b',\n",
       " 'c',\n",
       " 'd',\n",
       " 'e',\n",
       " 'f',\n",
       " 'fn',\n",
       " 's']"
      ]
     },
     "execution_count": 4,
     "metadata": {},
     "output_type": "execute_result"
    }
   ],
   "source": [
    "defs = \"a b c b d e f s d a\".split()\n",
    "\n",
    "\n",
    "class DynamicClass:\n",
    "    for fn in defs:\n",
    "        exec(f\"\"\"def {fn}(): pass\"\"\")\n",
    "\n",
    "\n",
    "dc = DynamicClass()\n",
    "dir(dc)"
   ]
  },
  {
   "cell_type": "code",
   "execution_count": 6,
   "metadata": {
    "execution": {
     "iopub.execute_input": "2020-09-03T13:34:36.343705Z",
     "iopub.status.busy": "2020-09-03T13:34:36.343428Z",
     "iopub.status.idle": "2020-09-03T13:34:41.401086Z",
     "shell.execute_reply": "2020-09-03T13:34:41.400100Z",
     "shell.execute_reply.started": "2020-09-03T13:34:36.343687Z"
    }
   },
   "outputs": [
    {
     "name": "stdin",
     "output_type": "stream",
     "text": [
      " 10\n",
      " 1\n"
     ]
    },
    {
     "ename": "ValueError",
     "evalue": "not valid",
     "output_type": "error",
     "traceback": [
      "\u001b[0;31m---------------------------------------------------------------------------\u001b[0m",
      "\u001b[0;31mValueError\u001b[0m                                Traceback (most recent call last)",
      "\u001b[0;32m<ipython-input-6-d1656184b086>\u001b[0m in \u001b[0;36m<module>\u001b[0;34m\u001b[0m\n\u001b[1;32m     64\u001b[0m         \u001b[0mparsed\u001b[0m \u001b[0;34m=\u001b[0m \u001b[0mparse_and_validate\u001b[0m\u001b[0;34m(\u001b[0m\u001b[0muser_operation\u001b[0m\u001b[0;34m)\u001b[0m\u001b[0;34m\u001b[0m\u001b[0;34m\u001b[0m\u001b[0m\n\u001b[1;32m     65\u001b[0m         \u001b[0;32mif\u001b[0m \u001b[0;32mnot\u001b[0m \u001b[0mparsed\u001b[0m\u001b[0;34m[\u001b[0m\u001b[0;34m\"is_valid\"\u001b[0m\u001b[0;34m]\u001b[0m\u001b[0;34m:\u001b[0m\u001b[0;34m\u001b[0m\u001b[0;34m\u001b[0m\u001b[0m\n\u001b[0;32m---> 66\u001b[0;31m             \u001b[0;32mraise\u001b[0m \u001b[0mValueError\u001b[0m\u001b[0;34m(\u001b[0m\u001b[0;34m\"not valid\"\u001b[0m\u001b[0;34m)\u001b[0m\u001b[0;34m\u001b[0m\u001b[0;34m\u001b[0m\u001b[0m\n\u001b[0m\u001b[1;32m     67\u001b[0m         \u001b[0;32melse\u001b[0m\u001b[0;34m:\u001b[0m\u001b[0;34m\u001b[0m\u001b[0;34m\u001b[0m\u001b[0m\n\u001b[1;32m     68\u001b[0m             \u001b[0moperation\u001b[0m\u001b[0;34m(\u001b[0m\u001b[0marr\u001b[0m\u001b[0;34m,\u001b[0m \u001b[0mparsed\u001b[0m\u001b[0;34m[\u001b[0m\u001b[0;34m\"operation\"\u001b[0m\u001b[0;34m]\u001b[0m\u001b[0;34m,\u001b[0m \u001b[0mparsed\u001b[0m\u001b[0;34m[\u001b[0m\u001b[0;34m\"argument_1\"\u001b[0m\u001b[0;34m]\u001b[0m\u001b[0;34m,\u001b[0m \u001b[0mparsed\u001b[0m\u001b[0;34m[\u001b[0m\u001b[0;34m\"argument_2\"\u001b[0m\u001b[0;34m]\u001b[0m\u001b[0;34m)\u001b[0m\u001b[0;34m\u001b[0m\u001b[0;34m\u001b[0m\u001b[0m\n",
      "\u001b[0;31mValueError\u001b[0m: not valid"
     ]
    }
   ],
   "source": [
    "# import re\n",
    "\n",
    "OPERATIONS = [\"insert\", \"print\", \"remove\", \"append\", \"sort\", \"pop\", \"reverse\"]\n",
    "\n",
    "def parse_and_validate(user_operation):\n",
    "    regex_print = r\"^print$\"\n",
    "    regex_insert = r\"^insert\\s\\d+\\s\\d+$\"\n",
    "    regex_remove = r\"^remove\\s\\d+$\"\n",
    "    regex_append = r\"^append\\s\\d+$\"\n",
    "    regex_sort = r\"^sort$\"\n",
    "    regex_pop = r\"^pop$\"\n",
    "    regex_reverse = r\"^reverse$\"\n",
    "\n",
    "    regexs = [regex_append, regex_insert, regex_remove, regex_pop, regex_print, regex_reverse, regex_sort]\n",
    "    \n",
    "    is_valid = False\n",
    "    for regex in regexs:\n",
    "        current_regex = re.compile(regex)\n",
    "        if current_regex.match(user_operation):\n",
    "            is_valid = True\n",
    "    \n",
    "    regex_argument_1 = re.compile(r\"^\\w+\\s(\\d+)\")\n",
    "    argument_1 = regex_argument_1.match(user_operation)\n",
    "    regex_argument_2 = re.compile(r\"^\\w+\\s\\d+\\s(\\d+)\")\n",
    "    argument_2 = regex_argument_2.match(user_operation)\n",
    "    regex_operation = re.compile(r\"^(\\w+)\")\n",
    "    operation = regex_operation.match(user_operation)\n",
    "    \n",
    "    \n",
    "    return {\n",
    "        \"is_valid\": is_valid,\n",
    "        \"argument_1\": argument_1.group(1) if argument_1 != None else None,\n",
    "        \"argument_2\": argument_2.group(1) if argument_2 != None else None,\n",
    "        \"operation\": operation.group(1) if operation != None else None\n",
    "    }\n",
    "\n",
    "\n",
    "def operation(arr, opr, arg1, arg2):\n",
    "    arg1 = int(arg1) if arg1 != None else None\n",
    "    arg2 = int(arg2) if arg2 != None else None\n",
    "    \n",
    "    if opr == \"insert\":\n",
    "        arr.insert(arg1, arg2)\n",
    "    elif opr == \"print\":\n",
    "        print(arr)\n",
    "    elif opr == \"remove\":\n",
    "        arr.remove(arg1)\n",
    "    elif opr == \"append\":\n",
    "        arr.append(arg1)\n",
    "    elif opr == \"sort\":\n",
    "        arr.sort()\n",
    "    elif opr == \"pop\":\n",
    "        arr.pop()\n",
    "    elif opr == \"reverse\":\n",
    "        arr.reverse()\n",
    "        \n",
    "\n",
    "if __name__ == '__main__':\n",
    "    arr = []\n",
    "    N = int(input())\n",
    "    user_operations = []\n",
    "    for _ in range(N):\n",
    "        user_operation = input()\n",
    "        parsed = parse_and_validate(user_operation)\n",
    "        if not parsed[\"is_valid\"]:\n",
    "            raise ValueError(\"not valid\")\n",
    "        else:\n",
    "            operation(arr, parsed[\"operation\"], parsed[\"argument_1\"], parsed[\"argument_2\"])"
   ]
  },
  {
   "cell_type": "code",
   "execution_count": 7,
   "metadata": {
    "execution": {
     "iopub.execute_input": "2020-09-03T13:34:46.536360Z",
     "iopub.status.busy": "2020-09-03T13:34:46.536112Z",
     "iopub.status.idle": "2020-09-03T13:34:46.542148Z",
     "shell.execute_reply": "2020-09-03T13:34:46.541621Z",
     "shell.execute_reply.started": "2020-09-03T13:34:46.536329Z"
    }
   },
   "outputs": [
    {
     "data": {
      "text/plain": [
       "[2, 1, 3, 4]"
      ]
     },
     "execution_count": 7,
     "metadata": {},
     "output_type": "execute_result"
    }
   ],
   "source": [
    "import random\n",
    "\n",
    "ordered_list = [1, 2, 3, 4]\n",
    "\n",
    "random.shuffle(ordered_list)\n",
    "ordered_list"
   ]
  }
 ],
 "metadata": {
  "kernelspec": {
   "display_name": "Python 3",
   "language": "python",
   "name": "python3"
  },
  "language_info": {
   "codemirror_mode": {
    "name": "ipython",
    "version": 3
   },
   "file_extension": ".py",
   "mimetype": "text/x-python",
   "name": "python",
   "nbconvert_exporter": "python",
   "pygments_lexer": "ipython3",
   "version": "3.8.2"
  }
 },
 "nbformat": 4,
 "nbformat_minor": 4
}
