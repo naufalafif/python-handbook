{
 "cells": [
  {
   "cell_type": "markdown",
   "metadata": {},
   "source": [
    "## 1. Variable"
   ]
  },
  {
   "cell_type": "code",
   "execution_count": 3,
   "metadata": {
    "execution": {
     "iopub.execute_input": "2020-10-04T10:14:29.692003Z",
     "iopub.status.busy": "2020-10-04T10:14:29.691774Z",
     "iopub.status.idle": "2020-10-04T10:14:29.695125Z",
     "shell.execute_reply": "2020-10-04T10:14:29.694446Z",
     "shell.execute_reply.started": "2020-10-04T10:14:29.691981Z"
    }
   },
   "outputs": [],
   "source": [
    "student_name = \"naufal\"\n",
    "student_age = 24\n",
    "length_of_car = 100\n",
    "time_elapsed_in_seconds = 10000"
   ]
  },
  {
   "cell_type": "markdown",
   "metadata": {},
   "source": [
    "## 2. Function"
   ]
  },
  {
   "cell_type": "code",
   "execution_count": 7,
   "metadata": {
    "execution": {
     "iopub.execute_input": "2020-10-04T10:15:54.976547Z",
     "iopub.status.busy": "2020-10-04T10:15:54.975937Z",
     "iopub.status.idle": "2020-10-04T10:15:54.988207Z",
     "shell.execute_reply": "2020-10-04T10:15:54.984564Z",
     "shell.execute_reply.started": "2020-10-04T10:15:54.976484Z"
    }
   },
   "outputs": [],
   "source": [
    "def add(x, y):\n",
    "    return x + y\n",
    "\n",
    "def multiply(x, y):\n",
    "    return x + y\n",
    "\n",
    "def remove_space(sentence):\n",
    "    return (sentence.replace(' ',''))"
   ]
  },
  {
   "cell_type": "markdown",
   "metadata": {},
   "source": [
    "## 3. Class"
   ]
  },
  {
   "cell_type": "code",
   "execution_count": 8,
   "metadata": {
    "execution": {
     "iopub.execute_input": "2020-10-04T10:18:19.684393Z",
     "iopub.status.busy": "2020-10-04T10:18:19.683780Z",
     "iopub.status.idle": "2020-10-04T10:18:19.701381Z",
     "shell.execute_reply": "2020-10-04T10:18:19.699923Z",
     "shell.execute_reply.started": "2020-10-04T10:18:19.684327Z"
    }
   },
   "outputs": [],
   "source": [
    "import re\n",
    "\n",
    "class CollegeStudent:\n",
    "    def __init__(self, name=None):\n",
    "        self.name = name\n",
    "\n",
    "class RegexValidator:\n",
    "    def __init__(self, pattern):\n",
    "        self.pattern = pattern\n",
    "    \n",
    "    def is_match(self, string_to_test):\n",
    "        return bool(re.match(self.pattern, string_to_test))"
   ]
  },
  {
   "cell_type": "markdown",
   "metadata": {
    "execution": {
     "iopub.execute_input": "2020-10-04T10:18:40.167899Z",
     "iopub.status.busy": "2020-10-04T10:18:40.167322Z",
     "iopub.status.idle": "2020-10-04T10:18:40.180716Z",
     "shell.execute_reply": "2020-10-04T10:18:40.177210Z",
     "shell.execute_reply.started": "2020-10-04T10:18:40.167835Z"
    }
   },
   "source": [
    "## 4. Constant"
   ]
  },
  {
   "cell_type": "code",
   "execution_count": 10,
   "metadata": {
    "execution": {
     "iopub.execute_input": "2020-10-04T10:19:55.191125Z",
     "iopub.status.busy": "2020-10-04T10:19:55.190879Z",
     "iopub.status.idle": "2020-10-04T10:19:55.193466Z",
     "shell.execute_reply": "2020-10-04T10:19:55.192939Z",
     "shell.execute_reply.started": "2020-10-04T10:19:55.191105Z"
    }
   },
   "outputs": [],
   "source": [
    "PI = 3.14\n",
    "SPEED_OF_LIGHT_IN_MS = 343"
   ]
  },
  {
   "cell_type": "markdown",
   "metadata": {
    "execution": {
     "iopub.execute_input": "2020-10-04T10:20:17.694240Z",
     "iopub.status.busy": "2020-10-04T10:20:17.694040Z",
     "iopub.status.idle": "2020-10-04T10:20:17.701183Z",
     "shell.execute_reply": "2020-10-04T10:20:17.700484Z",
     "shell.execute_reply.started": "2020-10-04T10:20:17.694219Z"
    }
   },
   "source": [
    "## 5. FactoryFunction"
   ]
  },
  {
   "cell_type": "code",
   "execution_count": 2,
   "metadata": {
    "execution": {
     "iopub.execute_input": "2020-10-04T12:04:00.001508Z",
     "iopub.status.busy": "2020-10-04T12:04:00.001309Z",
     "iopub.status.idle": "2020-10-04T12:04:00.009503Z",
     "shell.execute_reply": "2020-10-04T12:04:00.008700Z",
     "shell.execute_reply.started": "2020-10-04T12:04:00.001487Z"
    }
   },
   "outputs": [],
   "source": [
    "class Animal:\n",
    "    def __init__(self, name, sound):\n",
    "        self.name = name\n",
    "        self.sound = sound\n",
    "    \n",
    "    def __str__(self):\n",
    "        return self.name\n",
    "    \n",
    "    def sound(self):\n",
    "        print(self.sound)\n",
    "\n",
    "def AnimalFactory(name, sound):\n",
    "    return Animal(name=name, sound=sound)"
   ]
  },
  {
   "cell_type": "markdown",
   "metadata": {},
   "source": [
    "## 5. Non Public Attribute"
   ]
  },
  {
   "cell_type": "code",
   "execution_count": 18,
   "metadata": {
    "execution": {
     "iopub.execute_input": "2020-10-04T12:08:28.877041Z",
     "iopub.status.busy": "2020-10-04T12:08:28.876846Z",
     "iopub.status.idle": "2020-10-04T12:08:28.882735Z",
     "shell.execute_reply": "2020-10-04T12:08:28.882090Z",
     "shell.execute_reply.started": "2020-10-04T12:08:28.877020Z"
    }
   },
   "outputs": [],
   "source": [
    "class Account:\n",
    "    def __init__(self, username, password):\n",
    "        self.username = username\n",
    "        self.__password = password\n",
    "        \n",
    "account_naufal = Account('naufal', '12345')\n",
    "\n",
    "assert hasattr(account_naufal, '__password') == False\n",
    "assert hasattr(account_naufal, 'username') == True"
   ]
  },
  {
   "cell_type": "code",
   "execution_count": null,
   "metadata": {},
   "outputs": [],
   "source": []
  }
 ],
 "metadata": {
  "kernelspec": {
   "display_name": "Python 3",
   "language": "python",
   "name": "python3"
  },
  "language_info": {
   "codemirror_mode": {
    "name": "ipython",
    "version": 3
   },
   "file_extension": ".py",
   "mimetype": "text/x-python",
   "name": "python",
   "nbconvert_exporter": "python",
   "pygments_lexer": "ipython3",
   "version": "3.8.2"
  }
 },
 "nbformat": 4,
 "nbformat_minor": 4
}
