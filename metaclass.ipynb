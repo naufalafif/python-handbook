{
 "cells": [
  {
   "cell_type": "code",
   "execution_count": 24,
   "metadata": {},
   "outputs": [
    {
     "name": "stdout",
     "output_type": "stream",
     "text": [
      "meta called\n",
      "None\n"
     ]
    }
   ],
   "source": [
    "class EmployeeMeta(type):\n",
    "    def __call__(self, *args, **kwargs):\n",
    "        print(\"meta called\")\n",
    "\n",
    "class Employee(metaclass=EmployeeMeta):\n",
    "    def __init__(self):\n",
    "        print(\"__init__ called\")\n",
    "        \n",
    "employee_1 = Employee()\n",
    "print(employee_1)"
   ]
  }
 ],
 "metadata": {
  "kernelspec": {
   "display_name": "Python 3",
   "language": "python",
   "name": "python3"
  },
  "language_info": {
   "codemirror_mode": {
    "name": "ipython",
    "version": 3
   },
   "file_extension": ".py",
   "mimetype": "text/x-python",
   "name": "python",
   "nbconvert_exporter": "python",
   "pygments_lexer": "ipython3",
   "version": "3.6.9"
  }
 },
 "nbformat": 4,
 "nbformat_minor": 4
}
