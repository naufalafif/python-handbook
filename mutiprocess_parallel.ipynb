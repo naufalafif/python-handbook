{
 "cells": [
  {
   "cell_type": "code",
   "execution_count": 2,
   "metadata": {},
   "outputs": [
    {
     "name": "stdout",
     "output_type": "stream",
     "text": [
      "\n",
      "\n",
      "-- normal function --\n",
      "\n",
      "\n",
      "begin something\n",
      "something finished\n",
      "begin something\n",
      "something finished\n",
      "2.0 secods elapsed\n"
     ]
    }
   ],
   "source": [
    "import time\n",
    "\n",
    "def do_something(wait):\n",
    "    print(\"begin something\")\n",
    "    time.sleep(wait)\n",
    "    print(\"something finished\")\n",
    "    \n",
    "print(\"\\n\\n-- normal function --\\n\\n\")\n",
    "start = time.perf_counter()\n",
    "do_something(1)\n",
    "do_something(1)\n",
    "finish = time.perf_counter()\n",
    "print(f\"{round(finish - start, 2)} secods elapsed\")"
   ]
  },
  {
   "cell_type": "code",
   "execution_count": 13,
   "metadata": {},
   "outputs": [
    {
     "name": "stdout",
     "output_type": "stream",
     "text": [
      "\n",
      "\n",
      "-- parallel function --\n",
      "\n",
      "\n",
      "begin something 1\n",
      "begin something 1\n",
      "1.02 secods elapsed\n"
     ]
    }
   ],
   "source": [
    "import multiprocessing\n",
    "\n",
    "def do_something_with_return(wait):\n",
    "    print(\"begin something {}\".format(wait))\n",
    "    time.sleep(wait)\n",
    "    return f\"something finished in {wait} seconds\"\n",
    "\n",
    "print(\"\\n\\n-- parallel function --\\n\\n\")\n",
    "start = time.perf_counter()\n",
    "\n",
    "process_1 = multiprocessing.Process(target=do_something_with_return, args=[1])\n",
    "process_2 = multiprocessing.Process(target=do_something_with_return, args=[1])\n",
    "process_1.start()\n",
    "process_2.start()\n",
    "process_1.join()\n",
    "process_2.join()\n",
    "\n",
    "finish = time.perf_counter()\n",
    "print(f\"{round(finish - start, 2)} secods elapsed\")"
   ]
  },
  {
   "cell_type": "code",
   "execution_count": 14,
   "metadata": {},
   "outputs": [
    {
     "name": "stdout",
     "output_type": "stream",
     "text": [
      "\n",
      "\n",
      "-- parallel with list function --\n",
      "\n",
      "\n",
      "begin something 1\n",
      "begin something 1\n",
      "begin something 1\n",
      "begin something 1\n",
      "begin something 1\n",
      "begin something 1\n",
      "begin something 1\n",
      "begin something 1\n",
      "begin something 1\n",
      "begin something 1\n",
      "1.06 secods elapsed\n"
     ]
    }
   ],
   "source": [
    "import multiprocessing\n",
    "\n",
    "print(\"\\n\\n-- parallel with list function --\\n\\n\")\n",
    "start = time.perf_counter()\n",
    "\n",
    "processes = []\n",
    "\n",
    "for _ in range(10):\n",
    "    process = multiprocessing.Process(target=do_something_with_return, args=[1])\n",
    "    process.start()\n",
    "    processes.append(process)\n",
    "    \n",
    "for current_process in processes:\n",
    "    current_process.join()\n",
    "\n",
    "\n",
    "finish = time.perf_counter()\n",
    "print(f\"{round(finish - start, 2)} secods elapsed\")"
   ]
  },
  {
   "cell_type": "code",
   "execution_count": 15,
   "metadata": {},
   "outputs": [
    {
     "name": "stdout",
     "output_type": "stream",
     "text": [
      "\n",
      "\n",
      "-- parallel with futures function --\n",
      "\n",
      "\n",
      "begin something 2\n",
      "begin something 1\n",
      "begin something 3\n",
      "begin something 4\n",
      "something finished in 1 seconds\n",
      "something finished in 2 seconds\n",
      "something finished in 3 seconds\n",
      "something finished in 4 seconds\n",
      "4.05 secods elapsed\n"
     ]
    }
   ],
   "source": [
    "# Running Parallel using concurent packages will spend more time, because the packages can make decision wheter we should use all processor or not\n",
    "\n",
    "from concurrent import futures\n",
    "\n",
    "print(\"\\n\\n-- parallel with futures function --\\n\\n\")\n",
    "start = time.perf_counter()\n",
    "\n",
    "with futures.ProcessPoolExecutor() as executor:\n",
    "    seconds = [1,2,3,4]\n",
    "    results = [executor.submit(do_something_with_return, sec) for sec in seconds]\n",
    "    for f in futures.as_completed(results):\n",
    "        print(f.result())\n",
    "\n",
    "finish = time.perf_counter()\n",
    "print(f\"{round(finish - start, 2)} secods elapsed\")"
   ]
  },
  {
   "cell_type": "code",
   "execution_count": 17,
   "metadata": {},
   "outputs": [
    {
     "name": "stdout",
     "output_type": "stream",
     "text": [
      "\n",
      "\n",
      "-- parallel with futures map function --\n",
      "\n",
      "\n",
      "begin something 1\n",
      "begin something 3\n",
      "begin something 2\n",
      "begin something 4\n",
      "something finished in 1 seconds\n",
      "something finished in 2 seconds\n",
      "something finished in 3 seconds\n",
      "something finished in 4 seconds\n",
      "4.06 secods elapsed\n"
     ]
    }
   ],
   "source": [
    "print(\"\\n\\n-- parallel with futures map function --\\n\\n\")\n",
    "start = time.perf_counter()\n",
    "\n",
    "with futures.ProcessPoolExecutor() as executor:\n",
    "    seconds = [1,2,3,4]\n",
    "    results = executor.map(do_something_with_return, seconds)\n",
    "    for result in results:\n",
    "        print(result)\n",
    "\n",
    "finish = time.perf_counter()\n",
    "print(f\"{round(finish - start, 2)} secods elapsed\")"
   ]
  },
  {
   "cell_type": "code",
   "execution_count": 68,
   "metadata": {},
   "outputs": [
    {
     "name": "stdout",
     "output_type": "stream",
     "text": [
      "['./download/2020-03.jpg', './download/2020-03.jpg-edited.jpg']\n",
      "./download/2020-03.jpg-edited.jpg was processed...\n",
      "./download/2020-03.jpg was processed...\n",
      "Finished in 0.06261093099965365 seconds\n"
     ]
    }
   ],
   "source": [
    "import time\n",
    "import concurrent.futures\n",
    "from PIL import Image, ImageFilter\n",
    "from os import listdir\n",
    "\n",
    "path = './download'\n",
    "img_names = [\"{}/{}\".format(path, img) for img in listdir(path)]\n",
    "\n",
    "print(img_names)\n",
    "\n",
    "t1 = time.perf_counter()\n",
    "\n",
    "size = (1200, 1200)\n",
    "\n",
    "\n",
    "def process_image(img_name):\n",
    "    img = Image.open(img_name)\n",
    "    img = img.filter(ImageFilter.GaussianBlur(15))\n",
    "#     img.thumbnail(size)\n",
    "    img.save(f'{img_name}-edited.jpg')\n",
    "    print(f'{img_name} was processed...')\n",
    "\n",
    "\n",
    "with concurrent.futures.ProcessPoolExecutor() as executor:\n",
    "    executor.map(process_image, img_names)\n",
    "\n",
    "\n",
    "t2 = time.perf_counter()\n",
    "\n",
    "print(f'Finished in {t2-t1} seconds')"
   ]
  }
 ],
 "metadata": {
  "kernelspec": {
   "display_name": "Python 3",
   "language": "python",
   "name": "python3"
  },
  "language_info": {
   "codemirror_mode": {
    "name": "ipython",
    "version": 3
   },
   "file_extension": ".py",
   "mimetype": "text/x-python",
   "name": "python",
   "nbconvert_exporter": "python",
   "pygments_lexer": "ipython3",
   "version": "3.6.9"
  }
 },
 "nbformat": 4,
 "nbformat_minor": 4
}
