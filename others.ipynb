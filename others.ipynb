{
 "cells": [
  {
   "cell_type": "code",
   "execution_count": 11,
   "metadata": {},
   "outputs": [
    {
     "name": "stdout",
     "output_type": "stream",
     "text": [
      "1 + 2 : 3\n",
      "function add annotation : {'x': <class 'int'>, 'y': <class 'int'>, 'return': <class 'int'>}\n",
      "hello agus\n",
      "function add annotation : {'name': 'name of someone', 'return': 'hello {name}'}\n"
     ]
    }
   ],
   "source": [
    "# Function Annotation\n",
    "\n",
    "\"\"\"\n",
    "python is strongly dynamic language, which means it is not static type language & u dont have to specify type to variable or others,\n",
    "but python give us features to define the information including type to function, it's params & return. but it's just an information\n",
    "\"\"\"\n",
    "\n",
    "def add(x:int, y:int) -> int:\n",
    "    return x + y\n",
    "\n",
    "print(f\"1 + 2 : {add(1,2)}\")\n",
    "print(f\"function add annotation : {add.__annotations__}\")\n",
    "\n",
    "def say_hello(name:'name of someone') -> 'hello {name}':\n",
    "    return 'hello ' + name\n",
    "\n",
    "print(f\"{say_hello('agus')}\")\n",
    "print(f\"function add annotation : {say_hello.__annotations__}\")"
   ]
  }
 ],
 "metadata": {
  "kernelspec": {
   "display_name": "Python 3",
   "language": "python",
   "name": "python3"
  },
  "language_info": {
   "codemirror_mode": {
    "name": "ipython",
    "version": 3
   },
   "file_extension": ".py",
   "mimetype": "text/x-python",
   "name": "python",
   "nbconvert_exporter": "python",
   "pygments_lexer": "ipython3",
   "version": "3.6.9"
  }
 },
 "nbformat": 4,
 "nbformat_minor": 4
}
