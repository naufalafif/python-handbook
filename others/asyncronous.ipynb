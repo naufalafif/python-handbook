{
 "cells": [
  {
   "cell_type": "code",
   "execution_count": 1,
   "metadata": {
    "execution": {
     "iopub.execute_input": "2020-09-28T12:33:03.229827Z",
     "iopub.status.busy": "2020-09-28T12:33:03.229598Z",
     "iopub.status.idle": "2020-09-28T12:33:03.234275Z",
     "shell.execute_reply": "2020-09-28T12:33:03.233741Z",
     "shell.execute_reply.started": "2020-09-28T12:33:03.229773Z"
    }
   },
   "outputs": [],
   "source": [
    "# Asyncronous Example & Simulation\n",
    "\n",
    "import time\n",
    "from abc import ABC, abstractmethod\n",
    "\n",
    "class Task(ABC):\n",
    "    @abstractmethod\n",
    "    def run(): pass\n",
    "\n",
    "class Sleep(Task):\n",
    "    def __init__(self, duration:int = None):\n",
    "        self.threshold = time.time() + duration\n",
    "        self.ready = False    \n",
    "    def run(self):\n",
    "        now = time.time()\n",
    "        if now >= self.threshold:\n",
    "            self.ready = True"
   ]
  },
  {
   "cell_type": "code",
   "execution_count": 2,
   "metadata": {
    "execution": {
     "iopub.execute_input": "2020-09-28T12:33:04.675057Z",
     "iopub.status.busy": "2020-09-28T12:33:04.674427Z",
     "iopub.status.idle": "2020-09-28T12:33:04.691847Z",
     "shell.execute_reply": "2020-09-28T12:33:04.690127Z",
     "shell.execute_reply.started": "2020-09-28T12:33:04.674992Z"
    }
   },
   "outputs": [],
   "source": [
    "from typing import Iterable, Set, List\n",
    "\n",
    "def wait(ts: Iterable[Task]):\n",
    "    orig:List[Task] = list(ts)\n",
    "    pending:Set[Task] = set(orig)\n",
    "    before = time.time()\n",
    "    \n",
    "    while pending:\n",
    "        for task in list(pending):\n",
    "            task.run()\n",
    "            if task.ready:\n",
    "                pending.remove(task)\n",
    "                \n",
    "    print(f'duration = {time.time() - before}')"
   ]
  },
  {
   "cell_type": "code",
   "execution_count": 3,
   "metadata": {
    "execution": {
     "iopub.execute_input": "2020-09-28T12:33:06.197333Z",
     "iopub.status.busy": "2020-09-28T12:33:06.196770Z",
     "iopub.status.idle": "2020-09-28T12:33:09.207334Z",
     "shell.execute_reply": "2020-09-28T12:33:09.206601Z",
     "shell.execute_reply.started": "2020-09-28T12:33:06.197270Z"
    }
   },
   "outputs": [
    {
     "name": "stdout",
     "output_type": "stream",
     "text": [
      "duration = 2.9999685287475586\n"
     ]
    }
   ],
   "source": [
    "wait([Sleep(3) for _ in range(100)]) # the duration is same even thought in total there are hundred of sleep function"
   ]
  }
 ],
 "metadata": {
  "kernelspec": {
   "display_name": "Python 3",
   "language": "python",
   "name": "python3"
  },
  "language_info": {
   "codemirror_mode": {
    "name": "ipython",
    "version": 3
   },
   "file_extension": ".py",
   "mimetype": "text/x-python",
   "name": "python",
   "nbconvert_exporter": "python",
   "pygments_lexer": "ipython3",
   "version": "3.8.2"
  }
 },
 "nbformat": 4,
 "nbformat_minor": 4
}
