{
 "cells": [
  {
   "cell_type": "markdown",
   "metadata": {},
   "source": [
    "# Asyncronous in depth\n",
    "\n",
    "A synchronous program is executed one step at a time. Even with conditional branching, loops and function calls, you can still think about the code in terms of taking one execution step at a time.\n",
    "An asynchronous program behaves differently. It still takes one execution step at a time. The difference is that the system may not wait for an execution step to be completed before moving on to the next one."
   ]
  },
  {
   "cell_type": "markdown",
   "metadata": {},
   "source": [
    "### 1. Asyncronous example without generator etc\n",
    "\n",
    "with simple program we can simulate how asyncrnous actually works. in this example we create baseclass named Task\n",
    "Task has run & ready attribute. we use run to go to next operation & use ready to check wheter the Task is finished."
   ]
  },
  {
   "cell_type": "code",
   "execution_count": 15,
   "metadata": {
    "execution": {
     "iopub.execute_input": "2020-10-03T00:27:38.319300Z",
     "iopub.status.busy": "2020-10-03T00:27:38.319081Z",
     "iopub.status.idle": "2020-10-03T00:27:38.326751Z",
     "shell.execute_reply": "2020-10-03T00:27:38.325247Z",
     "shell.execute_reply.started": "2020-10-03T00:27:38.319248Z"
    }
   },
   "outputs": [],
   "source": [
    "import time\n",
    "from abc import ABC, abstractmethod\n",
    "\n",
    "class Task:\n",
    "    def __init__(self):\n",
    "        self.ready = False\n",
    "    \n",
    "    def run():\n",
    "        return NotImplementedError()\n",
    "\n",
    "class Sleep(Task):\n",
    "    def __init__(self, duration:int = None):\n",
    "        self.threshold = time.time() + duration\n",
    "        self.ready = False    \n",
    "    def run(self):\n",
    "        now = time.time()\n",
    "        if now >= self.threshold:\n",
    "            self.ready = True"
   ]
  },
  {
   "cell_type": "code",
   "execution_count": 16,
   "metadata": {
    "execution": {
     "iopub.execute_input": "2020-10-03T00:27:39.864122Z",
     "iopub.status.busy": "2020-10-03T00:27:39.863938Z",
     "iopub.status.idle": "2020-10-03T00:27:39.867602Z",
     "shell.execute_reply": "2020-10-03T00:27:39.867113Z",
     "shell.execute_reply.started": "2020-10-03T00:27:39.864101Z"
    }
   },
   "outputs": [],
   "source": [
    "from typing import Iterable, Set, List\n",
    "\n",
    "def wait(ts: Iterable[Task]):\n",
    "    orig:List[Task] = list(ts)\n",
    "    pending:Set[Task] = set(orig)\n",
    "    before = time.time()\n",
    "    \n",
    "    while pending:\n",
    "        for task in list(pending):\n",
    "            task.run()\n",
    "            if task.ready:\n",
    "                pending.remove(task)\n",
    "                \n",
    "    print(f'duration = {time.time() - before}')"
   ]
  },
  {
   "cell_type": "code",
   "execution_count": 17,
   "metadata": {
    "execution": {
     "iopub.execute_input": "2020-10-03T00:27:41.398769Z",
     "iopub.status.busy": "2020-10-03T00:27:41.398580Z",
     "iopub.status.idle": "2020-10-03T00:27:44.402954Z",
     "shell.execute_reply": "2020-10-03T00:27:44.402085Z",
     "shell.execute_reply.started": "2020-10-03T00:27:41.398748Z"
    }
   },
   "outputs": [
    {
     "name": "stdout",
     "output_type": "stream",
     "text": [
      "duration = 3.000004291534424\n"
     ]
    }
   ],
   "source": [
    "wait([Sleep(3) for _ in range(100)]) # the duration is same even thought in total there are hundred of sleep function"
   ]
  },
  {
   "cell_type": "markdown",
   "metadata": {},
   "source": [
    "### 2. Asyncronous example with generator\n",
    "\n",
    "in this example we use the same kind of program as the first example. but this time it use generator instead of sleep class"
   ]
  },
  {
   "cell_type": "code",
   "execution_count": 12,
   "metadata": {
    "execution": {
     "iopub.execute_input": "2020-10-03T00:27:23.376025Z",
     "iopub.status.busy": "2020-10-03T00:27:23.375823Z",
     "iopub.status.idle": "2020-10-03T00:27:23.380196Z",
     "shell.execute_reply": "2020-10-03T00:27:23.379535Z",
     "shell.execute_reply.started": "2020-10-03T00:27:23.376002Z"
    }
   },
   "outputs": [],
   "source": [
    "from typing import Generator, List\n",
    "\n",
    "def sleep_generator(duration):\n",
    "    start = time.time()\n",
    "    while (time.time() - start) < duration:\n",
    "        yield\n",
    "        \n",
    "def wait_gen(ts: List[Generator]):\n",
    "    orig:List[Task] = list(ts)\n",
    "    pending:Set[Task] = set(orig)\n",
    "    before = time.time()\n",
    "    \n",
    "    while pending:\n",
    "        for task in list(pending):\n",
    "            try:\n",
    "                task.send(None)\n",
    "            except StopIteration:    \n",
    "                pending.remove(task)\n",
    "                \n",
    "    print(f'duration = {time.time() - before}')"
   ]
  },
  {
   "cell_type": "code",
   "execution_count": 14,
   "metadata": {
    "execution": {
     "iopub.execute_input": "2020-10-03T00:27:30.255165Z",
     "iopub.status.busy": "2020-10-03T00:27:30.254943Z",
     "iopub.status.idle": "2020-10-03T00:27:33.258559Z",
     "shell.execute_reply": "2020-10-03T00:27:33.257927Z",
     "shell.execute_reply.started": "2020-10-03T00:27:30.255142Z"
    }
   },
   "outputs": [
    {
     "name": "stdout",
     "output_type": "stream",
     "text": [
      "duration = 3.0000505447387695\n"
     ]
    }
   ],
   "source": [
    "wait_gen([sleep_generator(3) for _ in range(100)])"
   ]
  },
  {
   "cell_type": "code",
   "execution_count": 18,
   "metadata": {
    "execution": {
     "iopub.execute_input": "2020-10-03T00:28:23.017462Z",
     "iopub.status.busy": "2020-10-03T00:28:23.017270Z",
     "iopub.status.idle": "2020-10-03T00:28:25.125360Z",
     "shell.execute_reply": "2020-10-03T00:28:25.124736Z",
     "shell.execute_reply.started": "2020-10-03T00:28:23.017441Z"
    }
   },
   "outputs": [
    {
     "name": "stdout",
     "output_type": "stream",
     "text": [
      "loading 4.673004150390625e-05\n",
      "loading 0.30051279067993164\n",
      "loading 0.6011500358581543\n",
      "loading 0.9021131992340088\n",
      "loading 1.2028493881225586\n",
      "loading 1.5038261413574219\n",
      "loading 1.8044207096099854\n"
     ]
    }
   ],
   "source": [
    "start = time.time()\n",
    "for _ in sleep_generator(2):\n",
    "    print(\"loading\", time.time() - start)\n",
    "    time.sleep(0.3)"
   ]
  },
  {
   "cell_type": "markdown",
   "metadata": {
    "execution": {
     "iopub.execute_input": "2020-10-03T00:24:13.170962Z",
     "iopub.status.busy": "2020-10-03T00:24:13.170632Z",
     "iopub.status.idle": "2020-10-03T00:24:16.175774Z",
     "shell.execute_reply": "2020-10-03T00:24:16.175057Z",
     "shell.execute_reply.started": "2020-10-03T00:24:13.170938Z"
    }
   },
   "source": [
    "### 3. Asyncronous with multiple related generator\n",
    "\n",
    "in this example, we handle more than 1 generator for each task. to show how generator can actually called each other & still have asyncronous behavior (pending & resume)"
   ]
  },
  {
   "cell_type": "code",
   "execution_count": 31,
   "metadata": {
    "execution": {
     "iopub.execute_input": "2020-10-03T00:43:20.247851Z",
     "iopub.status.busy": "2020-10-03T00:43:20.247665Z",
     "iopub.status.idle": "2020-10-03T00:43:22.252856Z",
     "shell.execute_reply": "2020-10-03T00:43:22.251114Z",
     "shell.execute_reply.started": "2020-10-03T00:43:20.247830Z"
    }
   },
   "outputs": [
    {
     "name": "stdout",
     "output_type": "stream",
     "text": [
      "duration = 2.000169038772583\n"
     ]
    }
   ],
   "source": [
    "def bar():\n",
    "    yield from sleep_generator(2) # generator function from example #2\n",
    "    return 123\n",
    "\n",
    "def foo():\n",
    "    value = yield from bar()\n",
    "    return value\n",
    "\n",
    "wait_gen([foo() for _ in range(100)])"
   ]
  },
  {
   "cell_type": "markdown",
   "metadata": {},
   "source": [
    "from example 3 above, u can see that it still return 2 seconds in duration even though the sleep generator is called from other generator.\n",
    "python generator actually go to other generator process from foo yield to sleep generator yield & so on between each foo."
   ]
  }
 ],
 "metadata": {
  "kernelspec": {
   "display_name": "Python 3",
   "language": "python",
   "name": "python3"
  },
  "language_info": {
   "codemirror_mode": {
    "name": "ipython",
    "version": 3
   },
   "file_extension": ".py",
   "mimetype": "text/x-python",
   "name": "python",
   "nbconvert_exporter": "python",
   "pygments_lexer": "ipython3",
   "version": "3.8.2"
  }
 },
 "nbformat": 4,
 "nbformat_minor": 4
}
