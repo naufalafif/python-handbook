{
 "cells": [
  {
   "cell_type": "code",
   "execution_count": 1,
   "metadata": {
    "execution": {
     "iopub.execute_input": "2020-09-28T12:38:21.072425Z",
     "iopub.status.busy": "2020-09-28T12:38:21.072179Z",
     "iopub.status.idle": "2020-09-28T12:38:21.081123Z",
     "shell.execute_reply": "2020-09-28T12:38:21.079928Z",
     "shell.execute_reply.started": "2020-09-28T12:38:21.072368Z"
    }
   },
   "outputs": [],
   "source": [
    "# Asyncronous Example & Simulation\n",
    "\n",
    "import time\n",
    "from abc import ABC, abstractmethod\n",
    "\n",
    "class Task:\n",
    "    def __init__(self):\n",
    "        self.ready = False\n",
    "    \n",
    "    def run():\n",
    "        return NotImplementedError()\n",
    "\n",
    "class Sleep(Task):\n",
    "    def __init__(self, duration:int = None):\n",
    "        self.threshold = time.time() + duration\n",
    "        self.ready = False    \n",
    "    def run(self):\n",
    "        now = time.time()\n",
    "        if now >= self.threshold:\n",
    "            self.ready = True"
   ]
  },
  {
   "cell_type": "code",
   "execution_count": 2,
   "metadata": {
    "execution": {
     "iopub.execute_input": "2020-09-28T12:38:23.603778Z",
     "iopub.status.busy": "2020-09-28T12:38:23.603524Z",
     "iopub.status.idle": "2020-09-28T12:38:23.611052Z",
     "shell.execute_reply": "2020-09-28T12:38:23.609600Z",
     "shell.execute_reply.started": "2020-09-28T12:38:23.603758Z"
    }
   },
   "outputs": [],
   "source": [
    "from typing import Iterable, Set, List\n",
    "\n",
    "def wait(ts: Iterable[Task]):\n",
    "    orig:List[Task] = list(ts)\n",
    "    pending:Set[Task] = set(orig)\n",
    "    before = time.time()\n",
    "    \n",
    "    while pending:\n",
    "        for task in list(pending):\n",
    "            task.run()\n",
    "            if task.ready:\n",
    "                pending.remove(task)\n",
    "                \n",
    "    print(f'duration = {time.time() - before}')"
   ]
  },
  {
   "cell_type": "code",
   "execution_count": 3,
   "metadata": {
    "execution": {
     "iopub.execute_input": "2020-09-28T12:38:25.307544Z",
     "iopub.status.busy": "2020-09-28T12:38:25.306987Z",
     "iopub.status.idle": "2020-09-28T12:38:28.315201Z",
     "shell.execute_reply": "2020-09-28T12:38:28.314420Z",
     "shell.execute_reply.started": "2020-09-28T12:38:25.307481Z"
    }
   },
   "outputs": [
    {
     "name": "stdout",
     "output_type": "stream",
     "text": [
      "duration = 2.999980926513672\n"
     ]
    }
   ],
   "source": [
    "wait([Sleep(3) for _ in range(100)]) # the duration is same even thought in total there are hundred of sleep function"
   ]
  }
 ],
 "metadata": {
  "kernelspec": {
   "display_name": "Python 3",
   "language": "python",
   "name": "python3"
  },
  "language_info": {
   "codemirror_mode": {
    "name": "ipython",
    "version": 3
   },
   "file_extension": ".py",
   "mimetype": "text/x-python",
   "name": "python",
   "nbconvert_exporter": "python",
   "pygments_lexer": "ipython3",
   "version": "3.8.2"
  }
 },
 "nbformat": 4,
 "nbformat_minor": 4
}
