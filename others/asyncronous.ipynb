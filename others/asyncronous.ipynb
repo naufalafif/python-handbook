{
 "cells": [
  {
   "cell_type": "markdown",
   "metadata": {},
   "source": [
    "# Asyncronous in depth. https://www.youtube.com/watch?v=GSiZkP7cI80\n",
    "\n",
    "A synchronous program is executed one step at a time. Even with conditional branching, loops and function calls, you can still think about the code in terms of taking one execution step at a time.\n",
    "An asynchronous program behaves differently. It still takes one execution step at a time. The difference is that the system may not wait for an execution step to be completed before moving on to the next one."
   ]
  },
  {
   "cell_type": "markdown",
   "metadata": {},
   "source": [
    "### 1. Asyncronous example without generator etc\n",
    "\n",
    "with simple program we can simulate how asyncrnous actually works. in this example we create baseclass named Task\n",
    "Task has run & ready attribute. we use run to go to next operation & use ready to check wheter the Task is finished."
   ]
  },
  {
   "cell_type": "code",
   "execution_count": 100,
   "metadata": {
    "execution": {
     "iopub.execute_input": "2020-10-03T05:59:14.680054Z",
     "iopub.status.busy": "2020-10-03T05:59:14.679841Z",
     "iopub.status.idle": "2020-10-03T05:59:14.685058Z",
     "shell.execute_reply": "2020-10-03T05:59:14.684291Z",
     "shell.execute_reply.started": "2020-10-03T05:59:14.680032Z"
    }
   },
   "outputs": [],
   "source": [
    "import time\n",
    "from abc import ABC, abstractmethod\n",
    "\n",
    "class Task:\n",
    "    def __init__(self):\n",
    "        self.ready = False\n",
    "    \n",
    "    def run():\n",
    "        return NotImplementedError()\n",
    "\n",
    "class Sleep(Task):\n",
    "    def __init__(self, duration:int = None):\n",
    "        self.threshold = time.time() + duration\n",
    "        self.ready = False    \n",
    "    def run(self):\n",
    "        now = time.time()\n",
    "        if now >= self.threshold:\n",
    "            self.ready = True"
   ]
  },
  {
   "cell_type": "code",
   "execution_count": 101,
   "metadata": {
    "execution": {
     "iopub.execute_input": "2020-10-03T05:59:14.686382Z",
     "iopub.status.busy": "2020-10-03T05:59:14.686178Z",
     "iopub.status.idle": "2020-10-03T05:59:14.690357Z",
     "shell.execute_reply": "2020-10-03T05:59:14.689710Z",
     "shell.execute_reply.started": "2020-10-03T05:59:14.686358Z"
    }
   },
   "outputs": [],
   "source": [
    "from typing import Iterable, Set, List\n",
    "\n",
    "def wait(ts: Iterable[Task]):\n",
    "    orig:List[Task] = list(ts)\n",
    "    pending:Set[Task] = set(orig)\n",
    "    before = time.time()\n",
    "    \n",
    "    while pending:\n",
    "        for task in list(pending):\n",
    "            task.run()\n",
    "            if task.ready:\n",
    "                pending.remove(task)\n",
    "                \n",
    "    print(f'duration = {time.time() - before}')"
   ]
  },
  {
   "cell_type": "code",
   "execution_count": 102,
   "metadata": {
    "execution": {
     "iopub.execute_input": "2020-10-03T05:59:14.691895Z",
     "iopub.status.busy": "2020-10-03T05:59:14.691594Z",
     "iopub.status.idle": "2020-10-03T05:59:17.695822Z",
     "shell.execute_reply": "2020-10-03T05:59:17.695134Z",
     "shell.execute_reply.started": "2020-10-03T05:59:14.691871Z"
    }
   },
   "outputs": [
    {
     "name": "stdout",
     "output_type": "stream",
     "text": [
      "duration = 2.9999938011169434\n"
     ]
    }
   ],
   "source": [
    "wait([Sleep(3) for _ in range(100)]) # the duration is same even thought in total there are hundred of sleep function"
   ]
  },
  {
   "cell_type": "markdown",
   "metadata": {},
   "source": [
    "### 2. Asyncronous example with generator\n",
    "\n",
    "in this example we use the same kind of program as the first example. but this time it use generator instead of sleep class"
   ]
  },
  {
   "cell_type": "code",
   "execution_count": 115,
   "metadata": {
    "execution": {
     "iopub.execute_input": "2020-10-03T06:01:03.541925Z",
     "iopub.status.busy": "2020-10-03T06:01:03.541354Z",
     "iopub.status.idle": "2020-10-03T06:01:03.558236Z",
     "shell.execute_reply": "2020-10-03T06:01:03.557262Z",
     "shell.execute_reply.started": "2020-10-03T06:01:03.541856Z"
    }
   },
   "outputs": [],
   "source": [
    "from typing import Generator, List\n",
    "\n",
    "def sleep_generator(duration):\n",
    "    start = time.time()\n",
    "    while (time.time() - start) < duration:\n",
    "        yield\n",
    "    return 100\n",
    "        \n",
    "def wait_gen(ts: List[Generator]):\n",
    "    orig:List[Task] = list(ts)\n",
    "    pending:Set[Task] = set(orig)\n",
    "    before = time.time()\n",
    "    results = {task:None for task in orig}\n",
    "    \n",
    "    while pending:\n",
    "        for task in list(pending):\n",
    "            try:\n",
    "                task.send(None)\n",
    "            except StopIteration as value:   \n",
    "                results[task] = str(value)\n",
    "                pending.remove(task)\n",
    "                \n",
    "    print(f'duration = {time.time() - before}')\n",
    "    print(\"result\", list(map(lambda x: x[:40], results.values())))"
   ]
  },
  {
   "cell_type": "code",
   "execution_count": 116,
   "metadata": {
    "execution": {
     "iopub.execute_input": "2020-10-03T06:01:05.035702Z",
     "iopub.status.busy": "2020-10-03T06:01:05.035177Z",
     "iopub.status.idle": "2020-10-03T06:01:08.043573Z",
     "shell.execute_reply": "2020-10-03T06:01:08.043028Z",
     "shell.execute_reply.started": "2020-10-03T06:01:05.035639Z"
    }
   },
   "outputs": [
    {
     "name": "stdout",
     "output_type": "stream",
     "text": [
      "duration = 3.000119924545288\n",
      "result ['100', '100', '100', '100', '100', '100', '100', '100', '100', '100', '100', '100', '100', '100', '100', '100', '100', '100', '100', '100', '100', '100', '100', '100', '100', '100', '100', '100', '100', '100', '100', '100', '100', '100', '100', '100', '100', '100', '100', '100', '100', '100', '100', '100', '100', '100', '100', '100', '100', '100', '100', '100', '100', '100', '100', '100', '100', '100', '100', '100', '100', '100', '100', '100', '100', '100', '100', '100', '100', '100', '100', '100', '100', '100', '100', '100', '100', '100', '100', '100', '100', '100', '100', '100', '100', '100', '100', '100', '100', '100', '100', '100', '100', '100', '100', '100', '100', '100', '100', '100']\n"
     ]
    }
   ],
   "source": [
    "wait_gen([sleep_generator(3) for _ in range(100)])"
   ]
  },
  {
   "cell_type": "code",
   "execution_count": 117,
   "metadata": {
    "execution": {
     "iopub.execute_input": "2020-10-03T06:01:10.330722Z",
     "iopub.status.busy": "2020-10-03T06:01:10.330539Z",
     "iopub.status.idle": "2020-10-03T06:01:12.441220Z",
     "shell.execute_reply": "2020-10-03T06:01:12.439358Z",
     "shell.execute_reply.started": "2020-10-03T06:01:10.330701Z"
    }
   },
   "outputs": [
    {
     "name": "stdout",
     "output_type": "stream",
     "text": [
      "loading 4.9591064453125e-05\n",
      "loading 0.3007392883300781\n",
      "loading 0.6014463901519775\n",
      "loading 0.9021203517913818\n",
      "loading 1.2031991481781006\n",
      "loading 1.5036845207214355\n",
      "loading 1.8044872283935547\n"
     ]
    }
   ],
   "source": [
    "start = time.time()\n",
    "for _ in sleep_generator(2):\n",
    "    print(\"loading\", time.time() - start)\n",
    "    time.sleep(0.3)"
   ]
  },
  {
   "cell_type": "markdown",
   "metadata": {
    "execution": {
     "iopub.execute_input": "2020-10-03T00:24:13.170962Z",
     "iopub.status.busy": "2020-10-03T00:24:13.170632Z",
     "iopub.status.idle": "2020-10-03T00:24:16.175774Z",
     "shell.execute_reply": "2020-10-03T00:24:16.175057Z",
     "shell.execute_reply.started": "2020-10-03T00:24:13.170938Z"
    }
   },
   "source": [
    "### 3. Asyncronous with multiple related generator\n",
    "\n",
    "in this example, we handle more than 1 generator for each task. to show how generator can actually called each other & still have asyncronous behavior (pending & resume)"
   ]
  },
  {
   "cell_type": "code",
   "execution_count": 118,
   "metadata": {
    "execution": {
     "iopub.execute_input": "2020-10-03T06:01:13.041837Z",
     "iopub.status.busy": "2020-10-03T06:01:13.041637Z",
     "iopub.status.idle": "2020-10-03T06:01:15.045735Z",
     "shell.execute_reply": "2020-10-03T06:01:15.045239Z",
     "shell.execute_reply.started": "2020-10-03T06:01:13.041815Z"
    }
   },
   "outputs": [
    {
     "name": "stdout",
     "output_type": "stream",
     "text": [
      "duration = 2.000267505645752\n",
      "result ['123', '123', '123', '123', '123', '123', '123', '123', '123', '123', '123', '123', '123', '123', '123', '123', '123', '123', '123', '123', '123', '123', '123', '123', '123', '123', '123', '123', '123', '123', '123', '123', '123', '123', '123', '123', '123', '123', '123', '123', '123', '123', '123', '123', '123', '123', '123', '123', '123', '123', '123', '123', '123', '123', '123', '123', '123', '123', '123', '123', '123', '123', '123', '123', '123', '123', '123', '123', '123', '123', '123', '123', '123', '123', '123', '123', '123', '123', '123', '123', '123', '123', '123', '123', '123', '123', '123', '123', '123', '123', '123', '123', '123', '123', '123', '123', '123', '123', '123', '123']\n"
     ]
    }
   ],
   "source": [
    "def bar():\n",
    "    yield from sleep_generator(2) # generator function from example #2\n",
    "    return 123\n",
    "\n",
    "def foo():\n",
    "    value = yield from bar()\n",
    "    return value\n",
    "\n",
    "wait_gen([foo() for _ in range(100)])"
   ]
  },
  {
   "cell_type": "markdown",
   "metadata": {},
   "source": [
    "from example 3 above, u can see that it still return 2 seconds in duration even though the sleep generator is called from other generator.\n",
    "python generator actually go to other generator process from foo yield to sleep generator yield & so on between each foo."
   ]
  },
  {
   "cell_type": "markdown",
   "metadata": {
    "execution": {
     "iopub.execute_input": "2020-10-03T03:01:10.311029Z",
     "iopub.status.busy": "2020-10-03T03:01:10.310450Z",
     "iopub.status.idle": "2020-10-03T03:01:10.319418Z",
     "shell.execute_reply": "2020-10-03T03:01:10.317822Z",
     "shell.execute_reply.started": "2020-10-03T03:01:10.310962Z"
    }
   },
   "source": [
    "### 4. Real World Example"
   ]
  },
  {
   "cell_type": "code",
   "execution_count": 121,
   "metadata": {
    "execution": {
     "iopub.execute_input": "2020-10-03T06:01:38.729751Z",
     "iopub.status.busy": "2020-10-03T06:01:38.729559Z",
     "iopub.status.idle": "2020-10-03T06:01:38.915212Z",
     "shell.execute_reply": "2020-10-03T06:01:38.913390Z",
     "shell.execute_reply.started": "2020-10-03T06:01:38.729729Z"
    }
   },
   "outputs": [
    {
     "name": "stdout",
     "output_type": "stream",
     "text": [
      "fetch 1 url, google.com\n",
      "\n",
      "\n",
      "<!doctype html><html itemscope=\"\" itemty\n"
     ]
    }
   ],
   "source": [
    "from requests import get, Response\n",
    "\n",
    "\n",
    "SIZE = 1000 # how many data you want to get in single stream\n",
    "\n",
    "def read(r: Response):\n",
    "    data = b\"\"\n",
    "    for chunk in r.iter_content(SIZE):\n",
    "#         print(\"get chuck data from stream\")\n",
    "        data += chunk\n",
    "        yield\n",
    "    return data\n",
    "\n",
    "def fetch(url):\n",
    "    with get(url, stream=True) as r:\n",
    "        data = yield from read(r)\n",
    "    return data.decode('utf-8')\n",
    "\n",
    "\n",
    "print(\"fetch 1 url, google.com\", end='\\n\\n\\n')\n",
    "fetch_gen = fetch(\"https://www.google.com\")\n",
    "\n",
    "while True:\n",
    "    try:\n",
    "        fetch_gen.send(None)\n",
    "    except StopIteration as value:\n",
    "        print(str(value)[:40])\n",
    "        break"
   ]
  },
  {
   "cell_type": "code",
   "execution_count": 122,
   "metadata": {
    "execution": {
     "iopub.execute_input": "2020-10-03T06:01:40.684853Z",
     "iopub.status.busy": "2020-10-03T06:01:40.684650Z",
     "iopub.status.idle": "2020-10-03T06:01:41.438546Z",
     "shell.execute_reply": "2020-10-03T06:01:41.435521Z",
     "shell.execute_reply.started": "2020-10-03T06:01:40.684830Z"
    }
   },
   "outputs": [
    {
     "name": "stdout",
     "output_type": "stream",
     "text": [
      "duration = 0.7462968826293945\n",
      "result ['<!doctype html><html itemscope=\"\" itemty', '<!DOCTYPE html>\\n<html id=\"atomic\" lang=\"']\n"
     ]
    }
   ],
   "source": [
    "results = wait_gen([fetch('https://www.google.com'), fetch('https://www.yahoo.com')])"
   ]
  },
  {
   "cell_type": "markdown",
   "metadata": {},
   "source": [
    "### 5. Asyncio, Async Await"
   ]
  },
  {
   "cell_type": "code",
   "execution_count": 145,
   "metadata": {
    "execution": {
     "iopub.execute_input": "2020-10-03T06:27:30.654584Z",
     "iopub.status.busy": "2020-10-03T06:27:30.654401Z",
     "iopub.status.idle": "2020-10-03T06:27:31.231194Z",
     "shell.execute_reply": "2020-10-03T06:27:31.228655Z",
     "shell.execute_reply.started": "2020-10-03T06:27:30.654563Z"
    }
   },
   "outputs": [
    {
     "name": "stdout",
     "output_type": "stream",
     "text": [
      "duration  0.5673801898956299\n",
      "['<!doctype html><html', '<!doctype html><html', '<!doctype html><html', '<!doctype html><html', '<!doctype html><html', '<!doctype html><html', '<!doctype html><html', '<!doctype html><html', '<!doctype html><html', '<!doctype html><html', '<!doctype html><html', '<!doctype html><html', '<!doctype html><html', '<!doctype html><html', '<!doctype html><html', '<!doctype html><html', '<!doctype html><html', '<!doctype html><html', '<!doctype html><html', '<!doctype html><html', '<!doctype html><html', '<!doctype html><html', '<!doctype html><html', '<!doctype html><html', '<!doctype html><html', '<!doctype html><html', '<!doctype html><html', '<!doctype html><html', '<!doctype html><html', '<!doctype html><html', '<!doctype html><html', '<!doctype html><html', '<!doctype html><html', '<!doctype html><html', '<!doctype html><html', '<!doctype html><html', '<!doctype html><html', '<!doctype html><html', '<!doctype html><html', '<!doctype html><html', '<!doctype html><html', '<!doctype html><html', '<!doctype html><html', '<!doctype html><html', '<!doctype html><html', '<!doctype html><html', '<!doctype html><html', '<!doctype html><html', '<!doctype html><html', '<!doctype html><html', '<!doctype html><html', '<!doctype html><html', '<!doctype html><html', '<!doctype html><html', '<!doctype html><html', '<!doctype html><html', '<!doctype html><html', '<!doctype html><html', '<!doctype html><html', '<!doctype html><html', '<!doctype html><html', '<!doctype html><html', '<!doctype html><html', '<!doctype html><html', '<!doctype html><html', '<!doctype html><html', '<!doctype html><html', '<!doctype html><html', '<!doctype html><html', '<!doctype html><html', '<!doctype html><html', '<!doctype html><html', '<!doctype html><html', '<!doctype html><html', '<!doctype html><html', '<!doctype html><html', '<!doctype html><html', '<!doctype html><html', '<!doctype html><html', '<!doctype html><html', '<!doctype html><html', '<!doctype html><html', '<!doctype html><html', '<!doctype html><html', '<!doctype html><html', '<!doctype html><html', '<!doctype html><html', '<!doctype html><html', '<!doctype html><html', '<!doctype html><html', '<!doctype html><html', '<!doctype html><html', '<!doctype html><html', '<!doctype html><html', '<!doctype html><html', '<!doctype html><html', '<!doctype html><html', '<!doctype html><html', '<!doctype html><html', '<!doctype html><html']\n"
     ]
    }
   ],
   "source": [
    "import asyncio\n",
    "import aiohttp\n",
    "\n",
    "async def wait_io(ts: Iterable):\n",
    "    before = time.time()\n",
    "    results = await asyncio.gather(*ts)\n",
    "    print(\"duration \", time.time() - before)\n",
    "    print(list(map(lambda x: x[:20], results)))\n",
    "\n",
    "async def fetch(url):\n",
    "    async with aiohttp.ClientSession() as session:\n",
    "        async with session.get(url) as resp:\n",
    "            return await resp.text()\n",
    "\n",
    "    \n",
    "results = await wait_io([fetch('https://www.google.com') for _ in range(100)])"
   ]
  }
 ],
 "metadata": {
  "kernelspec": {
   "display_name": "Python 3",
   "language": "python",
   "name": "python3"
  },
  "language_info": {
   "codemirror_mode": {
    "name": "ipython",
    "version": 3
   },
   "file_extension": ".py",
   "mimetype": "text/x-python",
   "name": "python",
   "nbconvert_exporter": "python",
   "pygments_lexer": "ipython3",
   "version": "3.8.2"
  }
 },
 "nbformat": 4,
 "nbformat_minor": 4
}
