{
 "cells": [
  {
   "cell_type": "markdown",
   "metadata": {},
   "source": [
    "# Character Encoding\n",
    "\n",
    "#### What is character encoding ?\n",
    "easily say, character encoding is the mapping of code-point/byte into some characters that we can read. for example, ascii.\n",
    "ascii has 127 character & each of it has it own position from 1 - 127. 1 - 127 is a code-point/byte \n",
    "programs stored things in byte, & u cannot read those bytes without having it translated into character, to translate that by into character, u use character encoding.\n",
    "\n",
    "character encoding process : \n",
    "\n",
    "encode -- str in programs --> encode character with utf-8 (example) --> stored it into file (byte) <br>\n",
    "decode -- byte in file --> open file --> decode with utf-8 --> get str of byte"
   ]
  },
  {
   "cell_type": "code",
   "execution_count": 33,
   "metadata": {
    "execution": {
     "iopub.execute_input": "2020-10-04T15:12:34.557225Z",
     "iopub.status.busy": "2020-10-04T15:12:34.557046Z",
     "iopub.status.idle": "2020-10-04T15:12:34.560589Z",
     "shell.execute_reply": "2020-10-04T15:12:34.560009Z",
     "shell.execute_reply.started": "2020-10-04T15:12:34.557206Z"
    }
   },
   "outputs": [],
   "source": [
    "import os\n",
    "\n",
    "NEW_TEXT_FILE = os.path.join(os.curdir, 'files','new-text.txt')\n",
    "TEXT_FILE = os.path.join(os.curdir, 'files','text.txt')"
   ]
  },
  {
   "cell_type": "markdown",
   "metadata": {},
   "source": [
    "### Read File & Decode"
   ]
  },
  {
   "cell_type": "code",
   "execution_count": 22,
   "metadata": {
    "execution": {
     "iopub.execute_input": "2020-10-04T15:10:13.007630Z",
     "iopub.status.busy": "2020-10-04T15:10:13.007442Z",
     "iopub.status.idle": "2020-10-04T15:10:13.011387Z",
     "shell.execute_reply": "2020-10-04T15:10:13.010667Z",
     "shell.execute_reply.started": "2020-10-04T15:10:13.007610Z"
    }
   },
   "outputs": [
    {
     "name": "stdout",
     "output_type": "stream",
     "text": [
      "type of bytestring :  <class 'bytes'>\n"
     ]
    }
   ],
   "source": [
    "# open file that has text with special character\n",
    "\n",
    "with open(TEXT_FILE, 'rb') as file:\n",
    "    bytestring = file.read()\n",
    "    \n",
    "print(\"type of bytestring : \", type(bytestring))"
   ]
  },
  {
   "cell_type": "code",
   "execution_count": 23,
   "metadata": {
    "execution": {
     "iopub.execute_input": "2020-10-04T15:10:14.232183Z",
     "iopub.status.busy": "2020-10-04T15:10:14.231980Z",
     "iopub.status.idle": "2020-10-04T15:10:14.235945Z",
     "shell.execute_reply": "2020-10-04T15:10:14.235345Z",
     "shell.execute_reply.started": "2020-10-04T15:10:14.232162Z"
    }
   },
   "outputs": [
    {
     "name": "stdout",
     "output_type": "stream",
     "text": [
      "118 111 105 108 226 148 156 196 128 "
     ]
    }
   ],
   "source": [
    "# what is it inside bytestring ? u will see the number of character/code-point\n",
    "\n",
    "for ch in bytestring:\n",
    "    print(ch, end=' ')"
   ]
  },
  {
   "cell_type": "code",
   "execution_count": 24,
   "metadata": {
    "execution": {
     "iopub.execute_input": "2020-10-04T15:10:15.290137Z",
     "iopub.status.busy": "2020-10-04T15:10:15.289696Z",
     "iopub.status.idle": "2020-10-04T15:10:15.301180Z",
     "shell.execute_reply": "2020-10-04T15:10:15.299817Z",
     "shell.execute_reply.started": "2020-10-04T15:10:15.290089Z"
    }
   },
   "outputs": [
    {
     "data": {
      "text/plain": [
       "'voilâ\\x94\\x9cÄ\\x80'"
      ]
     },
     "execution_count": 24,
     "metadata": {},
     "output_type": "execute_result"
    }
   ],
   "source": [
    "# try translate/decode it with latin-1\n",
    "\n",
    "bytestring.decode('latin-1') # something wrong, this must be not the right encoding"
   ]
  },
  {
   "cell_type": "code",
   "execution_count": 25,
   "metadata": {
    "execution": {
     "iopub.execute_input": "2020-10-04T15:10:16.342504Z",
     "iopub.status.busy": "2020-10-04T15:10:16.342315Z",
     "iopub.status.idle": "2020-10-04T15:10:16.348072Z",
     "shell.execute_reply": "2020-10-04T15:10:16.347196Z",
     "shell.execute_reply.started": "2020-10-04T15:10:16.342483Z"
    }
   },
   "outputs": [
    {
     "ename": "UnicodeDecodeError",
     "evalue": "'ascii' codec can't decode byte 0xe2 in position 4: ordinal not in range(128)",
     "output_type": "error",
     "traceback": [
      "\u001b[0;31m---------------------------------------------------------------------------\u001b[0m",
      "\u001b[0;31mUnicodeDecodeError\u001b[0m                        Traceback (most recent call last)",
      "\u001b[0;32m<ipython-input-25-5ac05717c547>\u001b[0m in \u001b[0;36m<module>\u001b[0;34m\u001b[0m\n\u001b[1;32m      1\u001b[0m \u001b[0;31m# try translate/decode it with ascii\u001b[0m\u001b[0;34m\u001b[0m\u001b[0;34m\u001b[0m\u001b[0;34m\u001b[0m\u001b[0m\n\u001b[1;32m      2\u001b[0m \u001b[0;34m\u001b[0m\u001b[0m\n\u001b[0;32m----> 3\u001b[0;31m \u001b[0mbytestring\u001b[0m\u001b[0;34m.\u001b[0m\u001b[0mdecode\u001b[0m\u001b[0;34m(\u001b[0m\u001b[0;34m'ascii'\u001b[0m\u001b[0;34m)\u001b[0m \u001b[0;31m# error, means it's not encoded with ascii, ascii range is only 1-127, but it bytestring thereare character that has codepoint of 226\u001b[0m\u001b[0;34m\u001b[0m\u001b[0;34m\u001b[0m\u001b[0m\n\u001b[0m",
      "\u001b[0;31mUnicodeDecodeError\u001b[0m: 'ascii' codec can't decode byte 0xe2 in position 4: ordinal not in range(128)"
     ]
    }
   ],
   "source": [
    "# try translate/decode it with ascii\n",
    "\n",
    "bytestring.decode('ascii') # error, means it's not encoded with ascii, ascii range is only 1-127, but it bytestring thereare character that has codepoint of 226"
   ]
  },
  {
   "cell_type": "code",
   "execution_count": 26,
   "metadata": {
    "execution": {
     "iopub.execute_input": "2020-10-04T15:10:17.598692Z",
     "iopub.status.busy": "2020-10-04T15:10:17.598448Z",
     "iopub.status.idle": "2020-10-04T15:10:17.602448Z",
     "shell.execute_reply": "2020-10-04T15:10:17.601767Z",
     "shell.execute_reply.started": "2020-10-04T15:10:17.598667Z"
    }
   },
   "outputs": [
    {
     "data": {
      "text/plain": [
       "'voil├Ā'"
      ]
     },
     "execution_count": 26,
     "metadata": {},
     "output_type": "execute_result"
    }
   ],
   "source": [
    "# try translate/decode it with utf-8\n",
    "\n",
    "bytestring.decode('utf-8') # good, u find the right encoding"
   ]
  },
  {
   "cell_type": "code",
   "execution_count": 27,
   "metadata": {
    "execution": {
     "iopub.execute_input": "2020-10-04T15:10:34.586010Z",
     "iopub.status.busy": "2020-10-04T15:10:34.585410Z",
     "iopub.status.idle": "2020-10-04T15:10:34.590614Z",
     "shell.execute_reply": "2020-10-04T15:10:34.589836Z",
     "shell.execute_reply.started": "2020-10-04T15:10:34.585942Z"
    }
   },
   "outputs": [
    {
     "name": "stdout",
     "output_type": "stream",
     "text": [
      "voil├Ā\n"
     ]
    }
   ],
   "source": [
    "# if u already know what the encoding used. u can specified it when opening the file\n",
    "\n",
    "with open(TEXT_FILE, encoding='utf-8') as file:\n",
    "    print(file.read())"
   ]
  },
  {
   "cell_type": "markdown",
   "metadata": {},
   "source": [
    "### Encode & Write File"
   ]
  },
  {
   "cell_type": "code",
   "execution_count": 32,
   "metadata": {
    "execution": {
     "iopub.execute_input": "2020-10-04T15:12:03.298806Z",
     "iopub.status.busy": "2020-10-04T15:12:03.298600Z",
     "iopub.status.idle": "2020-10-04T15:12:03.306514Z",
     "shell.execute_reply": "2020-10-04T15:12:03.305914Z",
     "shell.execute_reply.started": "2020-10-04T15:12:03.298785Z"
    }
   },
   "outputs": [
    {
     "name": "stdout",
     "output_type": "stream",
     "text": [
      "109 121 32 110 97 109 101 32 105 115 32 110 97 117 102 97 108 "
     ]
    }
   ],
   "source": [
    "str_to_save = \"my name is naufal\"\n",
    "str_in_byte = str_to_save.encode('utf-8')\n",
    "\n",
    "for ch in str_in_byte:\n",
    "    print(ch, end=' ')"
   ]
  },
  {
   "cell_type": "code",
   "execution_count": 34,
   "metadata": {
    "execution": {
     "iopub.execute_input": "2020-10-04T15:12:50.041453Z",
     "iopub.status.busy": "2020-10-04T15:12:50.041260Z",
     "iopub.status.idle": "2020-10-04T15:12:50.044315Z",
     "shell.execute_reply": "2020-10-04T15:12:50.043647Z",
     "shell.execute_reply.started": "2020-10-04T15:12:50.041431Z"
    }
   },
   "outputs": [],
   "source": [
    "# save it to file\n",
    "\n",
    "with open(NEW_TEXT_FILE, 'wb') as file:\n",
    "    file.write(str_in_byte)"
   ]
  },
  {
   "cell_type": "code",
   "execution_count": 37,
   "metadata": {
    "execution": {
     "iopub.execute_input": "2020-10-04T15:13:39.378647Z",
     "iopub.status.busy": "2020-10-04T15:13:39.378431Z",
     "iopub.status.idle": "2020-10-04T15:13:39.386441Z",
     "shell.execute_reply": "2020-10-04T15:13:39.385825Z",
     "shell.execute_reply.started": "2020-10-04T15:13:39.378625Z"
    }
   },
   "outputs": [
    {
     "name": "stdout",
     "output_type": "stream",
     "text": [
      "my name is naufal\n"
     ]
    }
   ],
   "source": [
    "# try to open & translate the saved str\n",
    "\n",
    "with open(NEW_TEXT_FILE, encoding='utf-8') as files:\n",
    "    print(files.read())"
   ]
  }
 ],
 "metadata": {
  "kernelspec": {
   "display_name": "Python 3",
   "language": "python",
   "name": "python3"
  },
  "language_info": {
   "codemirror_mode": {
    "name": "ipython",
    "version": 3
   },
   "file_extension": ".py",
   "mimetype": "text/x-python",
   "name": "python",
   "nbconvert_exporter": "python",
   "pygments_lexer": "ipython3",
   "version": "3.8.2"
  }
 },
 "nbformat": 4,
 "nbformat_minor": 4
}
