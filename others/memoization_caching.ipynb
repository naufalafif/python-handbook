{
 "cells": [
  {
   "cell_type": "markdown",
   "metadata": {},
   "source": [
    "## Memoization & Caching\n",
    "\n",
    "memoization is optimization technique to speed up computer programs by saving result of extensive function calls. "
   ]
  },
  {
   "cell_type": "code",
   "execution_count": 14,
   "metadata": {
    "execution": {
     "iopub.execute_input": "2020-10-08T11:51:27.908557Z",
     "iopub.status.busy": "2020-10-08T11:51:27.908374Z",
     "iopub.status.idle": "2020-10-08T11:51:28.061251Z",
     "shell.execute_reply": "2020-10-08T11:51:28.060612Z",
     "shell.execute_reply.started": "2020-10-08T11:51:27.908538Z"
    }
   },
   "outputs": [
    {
     "data": {
      "text/plain": [
       "4398044413952"
      ]
     },
     "execution_count": 14,
     "metadata": {},
     "output_type": "execute_result"
    }
   ],
   "source": [
    "import time\n",
    "\n",
    "def fake_high_compute_function(x):\n",
    "    result = 0\n",
    "    for i in range(x**21):\n",
    "        result += i*2\n",
    "    return result\n",
    "\n",
    "fake_high_compute_function(2) # this function take times before it returns the result based on given arguments"
   ]
  },
  {
   "cell_type": "code",
   "execution_count": 15,
   "metadata": {
    "execution": {
     "iopub.execute_input": "2020-10-08T11:51:29.346226Z",
     "iopub.status.busy": "2020-10-08T11:51:29.346037Z",
     "iopub.status.idle": "2020-10-08T11:51:30.761804Z",
     "shell.execute_reply": "2020-10-08T11:51:30.761257Z",
     "shell.execute_reply.started": "2020-10-08T11:51:29.346206Z"
    }
   },
   "outputs": [
    {
     "name": "stdout",
     "output_type": "stream",
     "text": [
      "takes 1.4125254154205322 seconds to complete\n"
     ]
    }
   ],
   "source": [
    "start = time.time()\n",
    "[fake_high_compute_function(2) for _ in range(10)]\n",
    "print(f\"takes {time.time() - start} seconds to complete\")"
   ]
  },
  {
   "cell_type": "markdown",
   "metadata": {},
   "source": [
    "### same function with caching/memoize applied\n",
    "\n",
    "notice that it only takes < 1 miliseconds to complete, while the one without caching applied takes more than 1 seconds to complete"
   ]
  },
  {
   "cell_type": "code",
   "execution_count": 30,
   "metadata": {
    "execution": {
     "iopub.execute_input": "2020-10-08T11:55:44.215062Z",
     "iopub.status.busy": "2020-10-08T11:55:44.214497Z",
     "iopub.status.idle": "2020-10-08T11:55:44.230761Z",
     "shell.execute_reply": "2020-10-08T11:55:44.229029Z",
     "shell.execute_reply.started": "2020-10-08T11:55:44.214999Z"
    }
   },
   "outputs": [],
   "source": [
    "import functools\n",
    "\n",
    "@functools.lru_cache(maxsize=1000) # maxsize is maximum caching, based on most recent calls\n",
    "def fake_high_compute_function_with_caching(x):\n",
    "    result = 0\n",
    "    for i in range(x**21):\n",
    "        result += i*2\n",
    "    return result"
   ]
  },
  {
   "cell_type": "code",
   "execution_count": 29,
   "metadata": {
    "execution": {
     "iopub.execute_input": "2020-10-08T11:53:32.168512Z",
     "iopub.status.busy": "2020-10-08T11:53:32.168288Z",
     "iopub.status.idle": "2020-10-08T11:53:32.322317Z",
     "shell.execute_reply": "2020-10-08T11:53:32.321639Z",
     "shell.execute_reply.started": "2020-10-08T11:53:32.168494Z"
    }
   },
   "outputs": [
    {
     "name": "stdout",
     "output_type": "stream",
     "text": [
      "takes 0.15042781829833984 seconds to complete\n"
     ]
    }
   ],
   "source": [
    "start = time.time()\n",
    "[fake_high_compute_function_with_caching(2) for _ in range(10)]\n",
    "print(f\"takes {time.time() - start} seconds to complete\")"
   ]
  }
 ],
 "metadata": {
  "kernelspec": {
   "display_name": "Python 3",
   "language": "python",
   "name": "python3"
  },
  "language_info": {
   "codemirror_mode": {
    "name": "ipython",
    "version": 3
   },
   "file_extension": ".py",
   "mimetype": "text/x-python",
   "name": "python",
   "nbconvert_exporter": "python",
   "pygments_lexer": "ipython3",
   "version": "3.8.2"
  }
 },
 "nbformat": 4,
 "nbformat_minor": 4
}
