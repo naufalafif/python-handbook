{
 "cells": [
  {
   "cell_type": "code",
   "execution_count": 2,
   "metadata": {},
   "outputs": [
    {
     "name": "stdout",
     "output_type": "stream",
     "text": [
      "value equality : c == a == b : True \n",
      "address equality : c is a is b : True \n",
      "a address : 11571616, b address : 11571616, c address : 11571616\n",
      "\n",
      "\n",
      "value equality : c == a == b : False \n",
      "address equality : c is a is b : False \n",
      "a address : 11571616, b address : 11571616, c address : 11571648\n"
     ]
    }
   ],
   "source": [
    "# Source : https://www.youtube.com/watch?v=arxWaw-E8QQ\n",
    "# Memory referencing\n",
    "\"\"\"\n",
    "NOTE :\n",
    "when talk about refence, what it means is the reference to the value, not the variable\n",
    "example :\n",
    "a = 300\n",
    "b = 300\n",
    "c = [300, 300]\n",
    "\n",
    "it means, there are 4 reference to object/value 300\n",
    "if we delete or set the value to others value then the reference are decrease\n",
    "\n",
    "a = 1 // now the reference to object 300 are 3\n",
    "c = None // now the reference to object 300 are 1\n",
    "\"\"\"\n",
    "\n",
    "a = 1\n",
    "b = a \n",
    "c = 1\n",
    "\n",
    "print(f\"value equality : c == a == b : {a == b == c} \")\n",
    "print(f\"address equality : c is a is b : {a is b is c} \")\n",
    "print(f\"a address : {id(a)}, b address : {id(b)}, c address : {id(c)}\") # they share same memory address\n",
    "\n",
    "\"\"\"\n",
    "why both value & address aquality are true, because python use memory optimization in background to make if the value already assign before, then new\n",
    "assignment will use the same address memory\n",
    "\"\"\"\n",
    "c += 1\n",
    "\n",
    "print(f\"\\n\\nvalue equality : c == a == b : {a == b == c} \")\n",
    "print(f\"address equality : c is a is b : {a is b is c} \")\n",
    "print(f\"a address : {id(a)}, b address : {id(b)}, c address : {id(c)}\")"
   ]
  },
  {
   "cell_type": "code",
   "execution_count": 53,
   "metadata": {},
   "outputs": [
    {
     "name": "stdout",
     "output_type": "stream",
     "text": [
      "new person instance\n",
      "p1 : Person\n",
      "p2 : <weakref at 0x7f64339ca040; to 'Person' at 0x7f64339d1ca0>\n",
      "p2 : <weakref at 0x7f64339ca040; dead>\n"
     ]
    }
   ],
   "source": [
    "# Garbage Collector\n",
    "\n",
    "\"\"\"\n",
    "garbage collector is memory management application that exist by default in programming language, although not every programming language has it.\n",
    "garbage collector used to remove memory that no longer used by application\n",
    "example :\n",
    "a = 1\n",
    "b = a\n",
    "a = None\n",
    "print(b)\n",
    "\n",
    "in case above in line 3 a is no longer used. the garbage collector will automatically remove the memory of variable a\n",
    "\n",
    "python garbage collector use algorithm called reference counter, it will remove whenever the variable already has no reference to it\n",
    "\"\"\"\n",
    "\n",
    "\"\"\"\n",
    "in python there are a way to simulate the memory, we can use weakref library. it used to make the reference is not count as reference by garbage\n",
    "collector, so whenever the ref source is remove the referrer will no longer have value \n",
    "\"\"\"\n",
    "\n",
    "import weakref\n",
    "\n",
    "class Person:\n",
    "    def __init__(self):\n",
    "        print(\"new person instance\")\n",
    "    \n",
    "    def __str__(self):\n",
    "        return \"Person\"\n",
    "    \n",
    "p1 = Person()\n",
    "p2 = weakref.ref(p1)\n",
    "print(f\"p1 : {p1}\")\n",
    "print(f\"p2 : {p2}\")\n",
    "p1 = None\n",
    "print(f\"p2 : {p2}\")\n",
    "\n",
    "\"\"\"\n",
    "as u can see, last print of p2 is showing dead, which means the object it's point to is removed from memory\n",
    "\"\"\"\n",
    "pass"
   ]
  }
 ],
 "metadata": {
  "kernelspec": {
   "display_name": "Python 3",
   "language": "python",
   "name": "python3"
  },
  "language_info": {
   "codemirror_mode": {
    "name": "ipython",
    "version": 3
   },
   "file_extension": ".py",
   "mimetype": "text/x-python",
   "name": "python",
   "nbconvert_exporter": "python",
   "pygments_lexer": "ipython3",
   "version": "3.8.2"
  }
 },
 "nbformat": 4,
 "nbformat_minor": 4
}
