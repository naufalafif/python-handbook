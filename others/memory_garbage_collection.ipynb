{
 "cells": [
  {
   "cell_type": "code",
   "execution_count": 2,
   "metadata": {},
   "outputs": [
    {
     "name": "stdout",
     "output_type": "stream",
     "text": [
      "value equality : c == a == b : True \n",
      "address equality : c is a is b : True \n",
      "a address : 11571616, b address : 11571616, c address : 11571616\n",
      "\n",
      "\n",
      "value equality : c == a == b : False \n",
      "address equality : c is a is b : False \n",
      "a address : 11571616, b address : 11571616, c address : 11571648\n"
     ]
    }
   ],
   "source": [
    "%load_ext lab_black\n",
    "# Source : https://www.youtube.com/watch?v=arxWaw-E8QQ\n",
    "# Source 2 :  https://www.youtube.com/watch?v=F6u5rhUQ6dU\n",
    "# Memory referencing\n",
    "\"\"\"\n",
    "NOTE :\n",
    "when talk about refence, what it means is the reference to the value, not the variable\n",
    "example :\n",
    "a = 300\n",
    "b = 300\n",
    "c = [300, 300]\n",
    "\n",
    "it means, there are 4 reference to object/value 300\n",
    "if we delete or set the value to others value then the reference are decrease\n",
    "\n",
    "a = 1 // now the reference to object 300 are 3\n",
    "c = None // now the reference to object 300 are 1\n",
    "\"\"\"\n",
    "\n",
    "a = 1\n",
    "b = a \n",
    "c = 1\n",
    "\n",
    "print(f\"value equality : c == a == b : {a == b == c} \")\n",
    "print(f\"address equality : c is a is b : {a is b is c} \")\n",
    "print(f\"a address : {id(a)}, b address : {id(b)}, c address : {id(c)}\") # they share same memory address\n",
    "\n",
    "\"\"\"\n",
    "why both value & address aquality are true, because python use memory optimization in background to make if the value already assign before, then new\n",
    "assignment will use the same address memory\n",
    "\"\"\"\n",
    "c += 1\n",
    "\n",
    "print(f\"\\n\\nvalue equality : c == a == b : {a == b == c} \")\n",
    "print(f\"address equality : c is a is b : {a is b is c} \")\n",
    "print(f\"a address : {id(a)}, b address : {id(b)}, c address : {id(c)}\")"
   ]
  },
  {
   "cell_type": "code",
   "execution_count": 5,
   "metadata": {
    "execution": {
     "iopub.execute_input": "2020-08-20T09:29:01.318259Z",
     "iopub.status.busy": "2020-08-20T09:29:01.317788Z",
     "iopub.status.idle": "2020-08-20T09:29:01.327365Z",
     "shell.execute_reply": "2020-08-20T09:29:01.326544Z",
     "shell.execute_reply.started": "2020-08-20T09:29:01.318213Z"
    }
   },
   "outputs": [
    {
     "name": "stdout",
     "output_type": "stream",
     "text": [
      "new person instance\n",
      "p1 : Person\n",
      "p2 : <weakref at 0x7f5a080e4a40; to 'Person' at 0x7f5a080ed430>\n",
      "p2 : <weakref at 0x7f5a080e4a40; dead>\n"
     ]
    }
   ],
   "source": [
    "# Garbage Collector\n",
    "\n",
    "\"\"\"\n",
    "garbage collector is memory management application that exist by default in programming language, although not every programming language has it.\n",
    "garbage collector used to remove memory that no longer used by application\n",
    "example :\n",
    "a = 1\n",
    "b = a\n",
    "a = None\n",
    "print(b)\n",
    "\n",
    "in case above in line 3 a is no longer used. the garbage collector will automatically remove the memory of variable a\n",
    "\n",
    "python garbage collector use algorithm called reference counter, it will remove whenever the variable already has no reference to it\n",
    "\"\"\"\n",
    "\n",
    "\"\"\"\n",
    "in python there are a way to simulate the memory, we can use weakref library. it used to make the reference is not count as reference by garbage\n",
    "collector, so whenever the ref source is remove the referrer will no longer have value \n",
    "\"\"\"\n",
    "\n",
    "# Gerbage Collector - Reference Count\n",
    "\n",
    "import weakref\n",
    "\n",
    "class Person:\n",
    "    def __init__(self):\n",
    "        print(\"new person instance\")\n",
    "    \n",
    "    def __str__(self):\n",
    "        return \"Person\"\n",
    "    \n",
    "p1 = Person()\n",
    "p2 = weakref.ref(p1)\n",
    "print(f\"p1 : {p1}\")\n",
    "print(f\"p2 : {p2}\")\n",
    "p1 = None\n",
    "print(f\"p2 : {p2}\")\n",
    "\n",
    "\"\"\"\n",
    "as u can see, last print of p2 is showing dead, which means the object it's point to is removed from memory\n",
    "\"\"\"\n",
    "pass"
   ]
  },
  {
   "cell_type": "code",
   "execution_count": 8,
   "metadata": {
    "execution": {
     "iopub.execute_input": "2020-08-20T09:31:14.959246Z",
     "iopub.status.busy": "2020-08-20T09:31:14.959004Z",
     "iopub.status.idle": "2020-08-20T09:31:14.962737Z",
     "shell.execute_reply": "2020-08-20T09:31:14.962005Z",
     "shell.execute_reply.started": "2020-08-20T09:31:14.959225Z"
    }
   },
   "outputs": [],
   "source": [
    "# Garbage Collector - Generation\n",
    "\n",
    "\"\"\"\n",
    "python gerbage collecton also used other way to remove dead memory/ object\n",
    "it's called generation. generation separate object base on it's created_time into 3 generations.\n",
    "\n",
    "gc reference counter will often check the generation 0 (youngest), and rarely check the oldest generation of 2\n",
    "every time object pass gc cycle it will moved into older generation\n",
    "\n",
    "this used the principle young object die young\n",
    "\"\"\"\n",
    "\n",
    "pass"
   ]
  },
  {
   "cell_type": "code",
   "execution_count": 7,
   "metadata": {
    "execution": {
     "iopub.execute_input": "2020-08-20T09:31:13.057025Z",
     "iopub.status.busy": "2020-08-20T09:31:13.056353Z",
     "iopub.status.idle": "2020-08-20T09:31:13.062707Z",
     "shell.execute_reply": "2020-08-20T09:31:13.059537Z",
     "shell.execute_reply.started": "2020-08-20T09:31:13.056961Z"
    }
   },
   "outputs": [],
   "source": [
    "\"\"\"\n",
    "there also other reason for garbage collector to remove the memory, which is scope\n",
    "\n",
    "def printX(): # here the reference count is 1, referenceing to 10 object\n",
    "    x = 10\n",
    "    print(x)\n",
    "\n",
    "printX()\n",
    "here the reference count is 0\n",
    "\n",
    "\"\"\"\n",
    "\n",
    "pass"
   ]
  }
 ],
 "metadata": {
  "kernelspec": {
   "display_name": "Python 3",
   "language": "python",
   "name": "python3"
  },
  "language_info": {
   "codemirror_mode": {
    "name": "ipython",
    "version": 3
   },
   "file_extension": ".py",
   "mimetype": "text/x-python",
   "name": "python",
   "nbconvert_exporter": "python",
   "pygments_lexer": "ipython3",
   "version": "3.8.2"
  }
 },
 "nbformat": 4,
 "nbformat_minor": 4
}
