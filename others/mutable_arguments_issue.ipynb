{
 "cells": [
  {
   "cell_type": "code",
   "execution_count": 8,
   "metadata": {},
   "outputs": [
    {
     "name": "stdout",
     "output_type": "stream",
     "text": [
      "add_display_students default arguments  ([],)\n",
      "['budi']\n",
      "['budi', 'ari']\n",
      "['budi', 'ari', 'agus']\n",
      "add_display_students default arguments  (['budi', 'ari', 'agus'],)\n"
     ]
    }
   ],
   "source": [
    "# Mutable arguments issue\n",
    "# Source : https://www.youtube.com/watch?v=_JGmemuINww\n",
    "\n",
    "def add_display_students(name, students=[]):\n",
    "    students.append(name)\n",
    "    print(students)\n",
    "\n",
    "print(\"add_display_students default arguments \", add_display_students.__defaults__)\n",
    "    \n",
    "add_display_students(\"budi\")\n",
    "add_display_students(\"ari\") # this should be \"ari\" without \"budi\"\n",
    "add_display_students(\"agus\") # this should be \"agus\" without \"budi\" & \"ari\"\n",
    "\n",
    "\"\"\"\n",
    "problem above occur because we used mutable argumens. in this case it's a list\n",
    "\"\"\"\n",
    "\n",
    "print(\"add_display_students default arguments \", add_display_students.__defaults__)"
   ]
  },
  {
   "cell_type": "code",
   "execution_count": 10,
   "metadata": {},
   "outputs": [
    {
     "name": "stdout",
     "output_type": "stream",
     "text": [
      "add_display_students_nonmut default arguments  (None,)\n",
      "['budi']\n",
      "['ari']\n",
      "['agus']\n",
      "add_display_students_nonmut default arguments  (None,)\n"
     ]
    }
   ],
   "source": [
    "# Solution\n",
    "\"\"\"\n",
    "the solution is to used non mutable data type like primitive value or other like none\n",
    "\"\"\"\n",
    "\n",
    "def add_display_students_nonmut(name, students=None):\n",
    "    if students is None:\n",
    "        students = []\n",
    "    students.append(name)\n",
    "    print(students)\n",
    "\n",
    "print(\"add_display_students_nonmut default arguments \", add_display_students_nonmut.__defaults__)\n",
    "    \n",
    "add_display_students_nonmut(\"budi\")\n",
    "add_display_students_nonmut(\"ari\") \n",
    "add_display_students_nonmut(\"agus\")\n",
    "\n",
    "print(\"add_display_students_nonmut default arguments \", add_display_students_nonmut.__defaults__)"
   ]
  },
  {
   "cell_type": "code",
   "execution_count": 17,
   "metadata": {},
   "outputs": [
    {
     "name": "stdout",
     "output_type": "stream",
     "text": [
      "display_date defaults arguments :  (datetime.datetime(2020, 6, 12, 22, 20, 40, 349529),)\n",
      "2020-06-12 22:20:40.349529\n",
      "2020-06-12 22:20:40.349529\n",
      "2020-06-12 22:20:40.349529\n",
      "display_date defaults arguments :  (datetime.datetime(2020, 6, 12, 22, 20, 40, 349529),)\n",
      "2020-06-12 22:20:42.353996\n",
      "2020-06-12 22:20:43.355303\n",
      "2020-06-12 22:20:44.357091\n"
     ]
    }
   ],
   "source": [
    "# Common example this issue occur\n",
    "from datetime import datetime\n",
    "import time\n",
    "\n",
    "def display_date(date = datetime.now()):\n",
    "    print(date)\n",
    "\n",
    "print(\"display_date defaults arguments : \", display_date.__defaults__)\n",
    "    \n",
    "display_date()\n",
    "time.sleep(1)\n",
    "display_date() # datetime should be different\n",
    "time.sleep(1)\n",
    "display_date() # datetime should be different\n",
    "\n",
    "\n",
    "print(\"display_date defaults arguments : \", display_date.__defaults__)\n",
    "\n",
    "\"\"\"\n",
    "this problem occur because python only evaluate the defaults once. default value are set once when first function creation.\n",
    "the steps is more like \n",
    "\n",
    "... function code\n",
    "\n",
    "... set default arguments memory address\n",
    "\n",
    "... function intance -> refer to default argumens address\n",
    "\n",
    "...\n",
    "\n",
    "\"\"\"\n",
    "\n",
    "\"the right way to do it is like below\"\n",
    "\n",
    "def display_date_right(date = None):\n",
    "    if date is None:\n",
    "        date = datetime.now()\n",
    "    print(date)\n",
    "    \n",
    "display_date_right()\n",
    "time.sleep(1)\n",
    "display_date_right()\n",
    "time.sleep(1)\n",
    "display_date_right()"
   ]
  }
 ],
 "metadata": {
  "kernelspec": {
   "display_name": "Python 3",
   "language": "python",
   "name": "python3"
  },
  "language_info": {
   "codemirror_mode": {
    "name": "ipython",
    "version": 3
   },
   "file_extension": ".py",
   "mimetype": "text/x-python",
   "name": "python",
   "nbconvert_exporter": "python",
   "pygments_lexer": "ipython3",
   "version": "3.6.9"
  }
 },
 "nbformat": 4,
 "nbformat_minor": 4
}
