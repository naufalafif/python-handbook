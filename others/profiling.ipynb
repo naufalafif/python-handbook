{
 "cells": [
  {
   "cell_type": "code",
   "execution_count": null,
   "metadata": {},
   "outputs": [],
   "source": [
    "# Profiler / Profiling. program analysis to measure memory consumtion, complexity etc"
   ]
  },
  {
   "cell_type": "code",
   "execution_count": 37,
   "metadata": {
    "execution": {
     "iopub.execute_input": "2020-10-01T11:19:45.368334Z",
     "iopub.status.busy": "2020-10-01T11:19:45.368086Z",
     "iopub.status.idle": "2020-10-01T11:19:45.403035Z",
     "shell.execute_reply": "2020-10-01T11:19:45.402514Z",
     "shell.execute_reply.started": "2020-10-01T11:19:45.368308Z"
    }
   },
   "outputs": [
    {
     "name": "stdout",
     "output_type": "stream",
     "text": [
      "         214 function calls (207 primitive calls) in 0.000 seconds\n",
      "\n",
      "   Ordered by: standard name\n",
      "\n",
      "   ncalls  tottime  percall  cumtime  percall filename:lineno(function)\n",
      "        1    0.000    0.000    0.000    0.000 <string>:1(<module>)\n",
      "        2    0.000    0.000    0.000    0.000 enum.py:278(__call__)\n",
      "        2    0.000    0.000    0.000    0.000 enum.py:557(__new__)\n",
      "        1    0.000    0.000    0.000    0.000 enum.py:828(__and__)\n",
      "        1    0.000    0.000    0.000    0.000 re.py:248(compile)\n",
      "        1    0.000    0.000    0.000    0.000 re.py:287(_compile)\n",
      "        1    0.000    0.000    0.000    0.000 sre_compile.py:249(_compile_charset)\n",
      "        1    0.000    0.000    0.000    0.000 sre_compile.py:276(_optimize_charset)\n",
      "        2    0.000    0.000    0.000    0.000 sre_compile.py:453(_get_iscased)\n",
      "        1    0.000    0.000    0.000    0.000 sre_compile.py:461(_get_literal_prefix)\n",
      "        1    0.000    0.000    0.000    0.000 sre_compile.py:492(_get_charset_prefix)\n",
      "        1    0.000    0.000    0.000    0.000 sre_compile.py:536(_compile_info)\n",
      "        2    0.000    0.000    0.000    0.000 sre_compile.py:595(isstring)\n",
      "        1    0.000    0.000    0.000    0.000 sre_compile.py:598(_code)\n",
      "      3/1    0.000    0.000    0.000    0.000 sre_compile.py:71(_compile)\n",
      "        1    0.000    0.000    0.000    0.000 sre_compile.py:759(compile)\n",
      "        3    0.000    0.000    0.000    0.000 sre_parse.py:111(__init__)\n",
      "        7    0.000    0.000    0.000    0.000 sre_parse.py:160(__len__)\n",
      "       18    0.000    0.000    0.000    0.000 sre_parse.py:164(__getitem__)\n",
      "        7    0.000    0.000    0.000    0.000 sre_parse.py:172(append)\n",
      "      3/1    0.000    0.000    0.000    0.000 sre_parse.py:174(getwidth)\n",
      "        1    0.000    0.000    0.000    0.000 sre_parse.py:224(__init__)\n",
      "        8    0.000    0.000    0.000    0.000 sre_parse.py:233(__next)\n",
      "        2    0.000    0.000    0.000    0.000 sre_parse.py:249(match)\n",
      "        6    0.000    0.000    0.000    0.000 sre_parse.py:254(get)\n",
      "        1    0.000    0.000    0.000    0.000 sre_parse.py:286(tell)\n",
      "        1    0.000    0.000    0.000    0.000 sre_parse.py:435(_parse_sub)\n",
      "        2    0.000    0.000    0.000    0.000 sre_parse.py:493(_parse)\n",
      "        1    0.000    0.000    0.000    0.000 sre_parse.py:76(__init__)\n",
      "        2    0.000    0.000    0.000    0.000 sre_parse.py:81(groups)\n",
      "        1    0.000    0.000    0.000    0.000 sre_parse.py:921(fix_flags)\n",
      "        1    0.000    0.000    0.000    0.000 sre_parse.py:937(parse)\n",
      "        1    0.000    0.000    0.000    0.000 {built-in method _sre.compile}\n",
      "        1    0.000    0.000    0.000    0.000 {built-in method builtins.exec}\n",
      "       25    0.000    0.000    0.000    0.000 {built-in method builtins.isinstance}\n",
      "    29/26    0.000    0.000    0.000    0.000 {built-in method builtins.len}\n",
      "        2    0.000    0.000    0.000    0.000 {built-in method builtins.max}\n",
      "        9    0.000    0.000    0.000    0.000 {built-in method builtins.min}\n",
      "        6    0.000    0.000    0.000    0.000 {built-in method builtins.ord}\n",
      "       48    0.000    0.000    0.000    0.000 {method 'append' of 'list' objects}\n",
      "        1    0.000    0.000    0.000    0.000 {method 'disable' of '_lsprof.Profiler' objects}\n",
      "        5    0.000    0.000    0.000    0.000 {method 'find' of 'bytearray' objects}\n",
      "        1    0.000    0.000    0.000    0.000 {method 'items' of 'dict' objects}\n",
      "\n",
      "\n"
     ]
    }
   ],
   "source": [
    "# Simple Profiling in Python\n",
    "\n",
    "import cProfile, re\n",
    "\n",
    "cProfile.run('re.compile(\"foo|bar\")')"
   ]
  },
  {
   "cell_type": "code",
   "execution_count": 38,
   "metadata": {
    "execution": {
     "iopub.execute_input": "2020-10-01T11:20:04.963192Z",
     "iopub.status.busy": "2020-10-01T11:20:04.962647Z",
     "iopub.status.idle": "2020-10-01T11:20:04.973018Z",
     "shell.execute_reply": "2020-10-01T11:20:04.972005Z",
     "shell.execute_reply.started": "2020-10-01T11:20:04.963130Z"
    }
   },
   "outputs": [],
   "source": [
    "# Profiler as decorator\n",
    "\n",
    "import cProfile, pstats, io\n",
    "\n",
    "def profile(func):\n",
    "    def wrapper(*args, **kwargs):\n",
    "        pr = cProfile.Profile()\n",
    "        pr.enable()\n",
    "        retval = func(*args, **kwargs)\n",
    "        pr.disable()\n",
    "        s = io.StringIO()\n",
    "        sortby = 'cumulative'\n",
    "        ps = pstats.Stats(pr, stream=s).sort_stats(sortby)\n",
    "        ps.print_stats()\n",
    "        print(s.getvalue())\n",
    "        return retval\n",
    "\n",
    "    return wrapper"
   ]
  },
  {
   "cell_type": "code",
   "execution_count": 39,
   "metadata": {
    "execution": {
     "iopub.execute_input": "2020-10-01T11:20:16.508097Z",
     "iopub.status.busy": "2020-10-01T11:20:16.507539Z",
     "iopub.status.idle": "2020-10-01T11:20:16.546273Z",
     "shell.execute_reply": "2020-10-01T11:20:16.545610Z",
     "shell.execute_reply.started": "2020-10-01T11:20:16.508030Z"
    }
   },
   "outputs": [],
   "source": [
    "# simple program\n",
    "\n",
    "from faker import Faker\n",
    "import time\n",
    "\n",
    "faker_obj = Faker()\n",
    "\n",
    "def generate_names(num_of_names):\n",
    "    return [faker_obj.name() for _ in range(num_of_names)]\n",
    "\n",
    "def lowering_names(list_of_names):\n",
    "    for index, name in enumerate(list_of_names):\n",
    "        list_of_names[index] = name.lower()\n",
    "        time.sleep(0.1)\n",
    "    return list_of_names\n",
    "\n",
    "@profile\n",
    "def main():\n",
    "    names = lowering_names(generate_names(10))"
   ]
  },
  {
   "cell_type": "code",
   "execution_count": 40,
   "metadata": {
    "execution": {
     "iopub.execute_input": "2020-10-01T11:20:18.325463Z",
     "iopub.status.busy": "2020-10-01T11:20:18.325263Z",
     "iopub.status.idle": "2020-10-01T11:20:19.337785Z",
     "shell.execute_reply": "2020-10-01T11:20:19.335705Z",
     "shell.execute_reply.started": "2020-10-01T11:20:18.325441Z"
    }
   },
   "outputs": [
    {
     "name": "stdout",
     "output_type": "stream",
     "text": [
      "         805 function calls in 1.005 seconds\n",
      "\n",
      "   Ordered by: cumulative time\n",
      "\n",
      "   ncalls  tottime  percall  cumtime  percall filename:lineno(function)\n",
      "        1    0.000    0.000    1.005    1.005 <ipython-input-39-53b79159a74b>:17(main)\n",
      "        1    0.000    0.000    1.003    1.003 <ipython-input-39-53b79159a74b>:11(lowering_names)\n",
      "       10    1.003    0.100    1.003    0.100 {built-in method time.sleep}\n",
      "        1    0.000    0.000    0.002    0.002 <ipython-input-39-53b79159a74b>:8(generate_names)\n",
      "        1    0.000    0.000    0.002    0.002 <ipython-input-39-53b79159a74b>:9(<listcomp>)\n",
      "       10    0.000    0.000    0.002    0.000 /home/naufal/.local/share/virtualenvs/OS_Learn_Python-9v5rLtNX/lib/python3.8/site-packages/faker/providers/person/__init__.py:49(name)\n",
      "       10    0.000    0.000    0.002    0.000 /home/naufal/.local/share/virtualenvs/OS_Learn_Python-9v5rLtNX/lib/python3.8/site-packages/faker/generator.py:153(parse)\n",
      "       10    0.000    0.000    0.002    0.000 {method 'sub' of 're.Pattern' objects}\n",
      "       30    0.000    0.000    0.002    0.000 /home/naufal/.local/share/virtualenvs/OS_Learn_Python-9v5rLtNX/lib/python3.8/site-packages/faker/providers/__init__.py:327(random_element)\n",
      "       20    0.000    0.000    0.002    0.000 /home/naufal/.local/share/virtualenvs/OS_Learn_Python-9v5rLtNX/lib/python3.8/site-packages/faker/generator.py:169(__format_token)\n",
      "       30    0.001    0.000    0.002    0.000 /home/naufal/.local/share/virtualenvs/OS_Learn_Python-9v5rLtNX/lib/python3.8/site-packages/faker/providers/__init__.py:218(random_elements)\n",
      "       20    0.000    0.000    0.002    0.000 /home/naufal/.local/share/virtualenvs/OS_Learn_Python-9v5rLtNX/lib/python3.8/site-packages/faker/generator.py:72(format)\n",
      "       10    0.000    0.000    0.001    0.000 /home/naufal/.local/share/virtualenvs/OS_Learn_Python-9v5rLtNX/lib/python3.8/site-packages/faker/providers/person/__init__.py:59(last_name)\n",
      "       30    0.000    0.000    0.001    0.000 /home/naufal/.local/share/virtualenvs/OS_Learn_Python-9v5rLtNX/lib/python3.8/site-packages/faker/utils/distribution.py:44(choices_distribution)\n",
      "       30    0.000    0.000    0.000    0.000 /usr/lib/python3.8/random.py:386(choices)\n",
      "        7    0.000    0.000    0.000    0.000 /home/naufal/.local/share/virtualenvs/OS_Learn_Python-9v5rLtNX/lib/python3.8/site-packages/faker/providers/person/__init__.py:96(first_name_female)\n",
      "        3    0.000    0.000    0.000    0.000 /home/naufal/.local/share/virtualenvs/OS_Learn_Python-9v5rLtNX/lib/python3.8/site-packages/faker/providers/person/__init__.py:86(first_name_male)\n",
      "       30    0.000    0.000    0.000    0.000 /usr/lib/python3.8/random.py:408(<listcomp>)\n",
      "       10    0.000    0.000    0.000    0.000 /home/naufal/.local/share/virtualenvs/OS_Learn_Python-9v5rLtNX/lib/python3.8/site-packages/faker/proxy.py:88(__getattr__)\n",
      "       30    0.000    0.000    0.000    0.000 /home/naufal/.local/share/virtualenvs/OS_Learn_Python-9v5rLtNX/lib/python3.8/site-packages/faker/proxy.py:70(__getattribute__)\n",
      "       20    0.000    0.000    0.000    0.000 /home/naufal/.local/share/virtualenvs/OS_Learn_Python-9v5rLtNX/lib/python3.8/site-packages/faker/generator.py:78(get_formatter)\n",
      "       20    0.000    0.000    0.000    0.000 {method 'join' of 'str' objects}\n",
      "       30    0.000    0.000    0.000    0.000 {built-in method builtins.getattr}\n",
      "       30    0.000    0.000    0.000    0.000 {built-in method _bisect.bisect_right}\n",
      "      130    0.000    0.000    0.000    0.000 {built-in method builtins.len}\n",
      "       10    0.000    0.000    0.000    0.000 {method 'lower' of 'str' objects}\n",
      "       90    0.000    0.000    0.000    0.000 {built-in method builtins.isinstance}\n",
      "       40    0.000    0.000    0.000    0.000 {built-in method builtins.hasattr}\n",
      "       30    0.000    0.000    0.000    0.000 /home/naufal/.local/share/virtualenvs/OS_Learn_Python-9v5rLtNX/lib/python3.8/site-packages/faker/generator.py:51(random)\n",
      "       30    0.000    0.000    0.000    0.000 {method 'random' of '_random.Random' objects}\n",
      "       30    0.000    0.000    0.000    0.000 {method 'keys' of 'collections.OrderedDict' objects}\n",
      "       20    0.000    0.000    0.000    0.000 {method 'groups' of 're.Match' objects}\n",
      "       30    0.000    0.000    0.000    0.000 {method 'values' of 'collections.OrderedDict' objects}\n",
      "        1    0.000    0.000    0.000    0.000 {method 'disable' of '_lsprof.Profiler' objects}\n",
      "\n",
      "\n",
      "\n"
     ]
    }
   ],
   "source": [
    "main()"
   ]
  }
 ],
 "metadata": {
  "kernelspec": {
   "display_name": "Python 3",
   "language": "python",
   "name": "python3"
  },
  "language_info": {
   "codemirror_mode": {
    "name": "ipython",
    "version": 3
   },
   "file_extension": ".py",
   "mimetype": "text/x-python",
   "name": "python",
   "nbconvert_exporter": "python",
   "pygments_lexer": "ipython3",
   "version": "3.8.2"
  }
 },
 "nbformat": 4,
 "nbformat_minor": 4
}
