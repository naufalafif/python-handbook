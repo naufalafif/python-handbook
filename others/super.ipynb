{
 "cells": [
  {
   "cell_type": "markdown",
   "metadata": {},
   "source": [
    "## Super()\n",
    "\n",
    "super() is an alternative to call parent class in python. the difference is super() method has mechanism to prevent calling parent class mulltiple times, tha the inhiritence already complex"
   ]
  },
  {
   "cell_type": "code",
   "execution_count": 9,
   "metadata": {
    "execution": {
     "iopub.execute_input": "2020-10-07T01:39:17.711812Z",
     "iopub.status.busy": "2020-10-07T01:39:17.711623Z",
     "iopub.status.idle": "2020-10-07T01:39:17.722474Z",
     "shell.execute_reply": "2020-10-07T01:39:17.721833Z",
     "shell.execute_reply.started": "2020-10-07T01:39:17.711791Z"
    }
   },
   "outputs": [
    {
     "name": "stdout",
     "output_type": "stream",
     "text": [
      "human called\n",
      "father called\n"
     ]
    },
    {
     "data": {
      "text/plain": [
       "<__main__.Father at 0x7f8881157190>"
      ]
     },
     "execution_count": 9,
     "metadata": {},
     "output_type": "execute_result"
    }
   ],
   "source": [
    "# call parent implmentation without super()\n",
    "class Human:\n",
    "    def __init__(self):\n",
    "        print(\"human called\")\n",
    "        \n",
    "class Father(Human):\n",
    "    def __init__(self):\n",
    "        Human.__init__(self)\n",
    "        print(\"father called\")\n",
    "\n",
    "Father()"
   ]
  },
  {
   "cell_type": "code",
   "execution_count": 10,
   "metadata": {
    "execution": {
     "iopub.execute_input": "2020-10-07T01:39:19.060018Z",
     "iopub.status.busy": "2020-10-07T01:39:19.059800Z",
     "iopub.status.idle": "2020-10-07T01:39:19.070541Z",
     "shell.execute_reply": "2020-10-07T01:39:19.069865Z",
     "shell.execute_reply.started": "2020-10-07T01:39:19.059997Z"
    }
   },
   "outputs": [
    {
     "name": "stdout",
     "output_type": "stream",
     "text": [
      "human called\n",
      "father called\n"
     ]
    },
    {
     "data": {
      "text/plain": [
       "<__main__.Father at 0x7f8880b49520>"
      ]
     },
     "execution_count": 10,
     "metadata": {},
     "output_type": "execute_result"
    }
   ],
   "source": [
    "# call parent implmentation with super()\n",
    "class Human:\n",
    "    def __init__(self):\n",
    "        print(\"human called\")\n",
    "        \n",
    "class Father(Human):\n",
    "    def __init__(self):\n",
    "        super().__init__()\n",
    "        print(\"father called\")\n",
    "\n",
    "Father()"
   ]
  },
  {
   "cell_type": "code",
   "execution_count": 12,
   "metadata": {
    "execution": {
     "iopub.execute_input": "2020-10-07T01:49:25.988424Z",
     "iopub.status.busy": "2020-10-07T01:49:25.987845Z",
     "iopub.status.idle": "2020-10-07T01:49:26.008909Z",
     "shell.execute_reply": "2020-10-07T01:49:26.008230Z",
     "shell.execute_reply.started": "2020-10-07T01:49:25.988360Z"
    }
   },
   "outputs": [
    {
     "name": "stdout",
     "output_type": "stream",
     "text": [
      "son called\n",
      "mother called\n",
      "human called\n",
      "father called\n",
      "human called\n"
     ]
    },
    {
     "data": {
      "text/plain": [
       "<__main__.Son at 0x7fd6983a3340>"
      ]
     },
     "execution_count": 12,
     "metadata": {},
     "output_type": "execute_result"
    }
   ],
   "source": [
    "# complex inhiretance\n",
    "\n",
    "# call parent implmentation without super()\n",
    "class Human:\n",
    "    def __init__(self):\n",
    "        print(\"human called\")\n",
    "        \n",
    "class Father(Human):\n",
    "    def __init__(self):\n",
    "        print(\"father called\")\n",
    "        Human.__init__(self)\n",
    "\n",
    "class Mother(Human):\n",
    "    def __init__(self):\n",
    "        print(\"mother called\")\n",
    "        Human.__init__(self)\n",
    "\n",
    "class Son(Father, Mother):\n",
    "    def __init__(self):\n",
    "        print(\"son called\")\n",
    "        Mother.__init__(self)\n",
    "        Father.__init__(self)\n",
    "        \n",
    "Son() # notice that human called twice, with super this is not going to happen"
   ]
  },
  {
   "cell_type": "code",
   "execution_count": 15,
   "metadata": {
    "execution": {
     "iopub.execute_input": "2020-10-07T01:50:27.688688Z",
     "iopub.status.busy": "2020-10-07T01:50:27.688122Z",
     "iopub.status.idle": "2020-10-07T01:50:27.713174Z",
     "shell.execute_reply": "2020-10-07T01:50:27.711317Z",
     "shell.execute_reply.started": "2020-10-07T01:50:27.688625Z"
    }
   },
   "outputs": [
    {
     "name": "stdout",
     "output_type": "stream",
     "text": [
      "son called\n",
      "father called\n",
      "mother called\n",
      "human called\n"
     ]
    },
    {
     "data": {
      "text/plain": [
       "<__main__.Son at 0x7fd6903ee670>"
      ]
     },
     "execution_count": 15,
     "metadata": {},
     "output_type": "execute_result"
    }
   ],
   "source": [
    "# complex inhiretance\n",
    "\n",
    "# call parent implmentation with super()\n",
    "class Human:\n",
    "    def __init__(self):\n",
    "        print(\"human called\")\n",
    "        \n",
    "class Father(Human):\n",
    "    def __init__(self):\n",
    "        print(\"father called\")\n",
    "        super().__init__()\n",
    "\n",
    "class Mother(Human):\n",
    "    def __init__(self):\n",
    "        print(\"mother called\")\n",
    "        super().__init__()\n",
    "\n",
    "class Son(Father, Mother):\n",
    "    def __init__(self):\n",
    "        print(\"son called\")\n",
    "        super().__init__()\n",
    "        \n",
    "Son()"
   ]
  }
 ],
 "metadata": {
  "kernelspec": {
   "display_name": "Python 3",
   "language": "python",
   "name": "python3"
  },
  "language_info": {
   "codemirror_mode": {
    "name": "ipython",
    "version": 3
   },
   "file_extension": ".py",
   "mimetype": "text/x-python",
   "name": "python",
   "nbconvert_exporter": "python",
   "pygments_lexer": "ipython3",
   "version": "3.8.2"
  }
 },
 "nbformat": 4,
 "nbformat_minor": 4
}
